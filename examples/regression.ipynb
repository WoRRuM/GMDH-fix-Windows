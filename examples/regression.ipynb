{
 "cells": [
  {
   "cell_type": "markdown",
   "id": "b7a3c7c9",
   "metadata": {},
   "source": [
    "## Подключение вспомогательных библиотек"
   ]
  },
  {
   "cell_type": "code",
   "execution_count": 1,
   "id": "f2612238",
   "metadata": {},
   "outputs": [],
   "source": [
    "import numpy as np\n",
    "import pandas as pd\n",
    "from sklearn.linear_model import LinearRegression\n",
    "from sklearn.metrics import mean_squared_error\n",
    "from sklearn.model_selection import train_test_split\n",
    "from sklearn.metrics import mean_absolute_error, mean_squared_error, r2_score\n",
    "from itertools import combinations\n",
    "from sklearn.preprocessing import MinMaxScaler\n",
    "import sys\n",
    "import matplotlib.pyplot as plt\n",
    "import seaborn as sns\n",
    "import importlib.util"
   ]
  },
  {
   "cell_type": "markdown",
   "id": "cce62905",
   "metadata": {},
   "source": [
    "## Подключение библиотеки `gmdhpy`"
   ]
  },
  {
   "cell_type": "code",
   "execution_count": 2,
   "id": "b4fabbb7",
   "metadata": {},
   "outputs": [],
   "source": [
    "sys.path.insert(1, \"C:/Users/Mi/Documents/Diploma/GMDH/build/Release\")\n",
    "sys.path.insert(1, \"/home/mikhail-xnor/Projects/GMDH/build\")\n",
    "import gmdhpy as gm"
   ]
  },
  {
   "cell_type": "code",
   "execution_count": 3,
   "id": "acf7d2d5",
   "metadata": {},
   "outputs": [
    {
     "name": "stdout",
     "output_type": "stream",
     "text": [
      "Состав библиотеки\n"
     ]
    },
    {
     "data": {
      "text/plain": [
       "['Combi',\n",
       " 'Criterion',\n",
       " 'CriterionType',\n",
       " 'GmdhModel',\n",
       " 'Mia',\n",
       " 'Multi',\n",
       " 'ParallelCriterion',\n",
       " 'PolynomialType',\n",
       " 'Ria',\n",
       " 'SequentialCriterion',\n",
       " 'Solver',\n",
       " '__doc__',\n",
       " '__file__',\n",
       " '__loader__',\n",
       " '__name__',\n",
       " '__package__',\n",
       " '__spec__',\n",
       " 'split_data',\n",
       " 'splitted_data',\n",
       " 'time_series_transformation']"
      ]
     },
     "execution_count": 3,
     "metadata": {},
     "output_type": "execute_result"
    }
   ],
   "source": [
    "print(\"Состав библиотеки\")\n",
    "dir(gm)"
   ]
  },
  {
   "cell_type": "markdown",
   "id": "8b4f5206",
   "metadata": {},
   "source": [
    "## Код для линейной регрессии, реализация combi на python, функции метрик"
   ]
  },
  {
   "cell_type": "code",
   "execution_count": 4,
   "id": "5b113d71",
   "metadata": {},
   "outputs": [],
   "source": [
    "def data_preparation(x, lags, validate_size, test_size=0):\n",
    "    x_data = list()\n",
    "    y_data = list()\n",
    "    for i in range(len(x) - lags):\n",
    "        x_data.append(list(x[i:i+lags]))\n",
    "        y_data.append(x[i+lags])\n",
    "    x_train, x_val, y_train, y_val = train_test_split(x_data, y_data, test_size=validate_size, shuffle=False)\n",
    "    x_train = np.array(x_train)\n",
    "    x_val = np.array(x_val)\n",
    "    if test_size > 0:\n",
    "        x_train, x_test, y_train, y_test = train_test_split(x_train, y_train, test_size=test_size, shuffle=False)\n",
    "        x_train = np.array(x_train)\n",
    "        x_test = np.array(x_test)\n",
    "        return x_train, y_train, x_test, y_test, x_val, y_val\n",
    "    else:\n",
    "        return x_train, y_train, x_val, y_val\n",
    "\n",
    "def print_polynom(polynom, coeffs):\n",
    "    best_polynom_str = \"y =\"\n",
    "    for i in range(len(polynom)):\n",
    "        if coeffs[i] > 0:\n",
    "            if i > 0:\n",
    "                best_polynom_str += \" + \"\n",
    "            else:\n",
    "                best_polynom_str += \" \"\n",
    "        else:\n",
    "            best_polynom_str += \" - \"\n",
    "        best_polynom_str += str(round(abs(coeffs[i]), 4))\n",
    "        if i != len(coeffs) - 1:\n",
    "            best_polynom_str += \"*x\" + str(polynom[i] + 1)\n",
    "    print(best_polynom_str)\n",
    "    \n",
    "def regression(x, lags, validate_size):\n",
    "    x_train, y_train, x_val, y_val = data_preparation(x, lags, validate_size)\n",
    "    lr = LinearRegression(n_jobs=-1)\n",
    "    lr.fit(x_train, y_train)\n",
    "    coeffs = list(lr.coef_)\n",
    "    coeffs.append(lr.intercept_)\n",
    "    coeffs = [round(coeff, 6) for coeff in coeffs]\n",
    "    y_pred = lr.predict(x_val)\n",
    "    error = round(mean_squared_error(y_pred, y_val), 6)\n",
    "    print_polynom(range(lags + 1), coeffs)\n",
    "    return y_pred\n",
    "\n",
    "def regression_combi(x, lags, validate_size, test_size):\n",
    "    x_train, y_train, x_test, y_test, x_val, y_val = data_preparation(x, lags, validate_size, test_size)\n",
    "    lr = LinearRegression(n_jobs=-1)\n",
    "    last_error = 100000000000000\n",
    "    best_coeffs = []\n",
    "    best_polynom = []\n",
    "    for level in range(1, x_train.shape[1] + 1):\n",
    "        errors = []\n",
    "        for comb in combinations(range(x_train.shape[1]), level):\n",
    "            lr.fit(x_train[:, comb], y_train)\n",
    "            coeffs = list(lr.coef_)\n",
    "            coeffs.append(lr.intercept_)\n",
    "            coeffs = [round(coeff, 6) for coeff in coeffs]\n",
    "            y_pred = lr.predict(x_test[:, comb])\n",
    "            error = round(mean_squared_error(y_pred, y_test), 6)\n",
    "            comb = list(comb)\n",
    "            comb.append(lags)\n",
    "            errors.append((error, coeffs, comb))\n",
    "        errors.sort()\n",
    "        #print(errors[0])\n",
    "        if last_error >= errors[0][0]:\n",
    "            last_error = errors[0][0]\n",
    "            best_coeffs = errors[0][1]\n",
    "            best_polynom = errors[0][2]\n",
    "        else:\n",
    "            break\n",
    "    print_polynom(best_polynom, best_coeffs)\n",
    "    y_pred = lr.fit(x_train[:, best_polynom[:-1]], y_train).predict(x_val[:, best_polynom[:-1]])\n",
    "    return y_pred\n",
    "\n",
    "def print_metrics(y_test, y_pred):\n",
    "    print(\"\\nMETRICS\")\n",
    "    print(f\"R^2: {r2_score(y_test, y_pred)}\")\n",
    "    print(f\"MSE: {mean_squared_error(y_test, y_pred)}\")\n",
    "    print(f\"MAE: {mean_absolute_error(y_test, y_pred)}\\n\")\n",
    "    \n",
    "def ts_stat(y_real, y_pred):\n",
    "    y_real_diff = np.diff(y_real)\n",
    "    y_pred_diff = np.diff(y_pred)\n",
    "    print(\"right:\", ((y_real_diff * y_pred_diff > 0)).sum())\n",
    "    print(\"wrong:\", ((y_real_diff * y_pred_diff < 0)).sum())\n",
    "    print(\"zero:\", ((y_real_diff * y_pred_diff == 0)).sum())"
   ]
  },
  {
   "cell_type": "markdown",
   "id": "8f1d1f8d",
   "metadata": {},
   "source": [
    "## Загрузка и предобработка датасета"
   ]
  },
  {
   "cell_type": "code",
   "execution_count": 5,
   "id": "d9ae1177",
   "metadata": {},
   "outputs": [],
   "source": [
    "datasets = ['numbers', 'sber', 'notebooks']\n",
    "chosen_dataset = datasets[1]"
   ]
  },
  {
   "cell_type": "code",
   "execution_count": 6,
   "id": "acf24b05",
   "metadata": {
    "scrolled": true
   },
   "outputs": [],
   "source": [
    "if chosen_dataset == datasets[0]:\n",
    "    data = np.array(range(50))\n",
    "    lags = 5\n",
    "    test_size = 0.33\n",
    "    validate_size = 0.2\n",
    "\n",
    "    mat, vec = gm.time_series_transformation(data, lags)\n",
    "    splited_data = gm.split_data(mat, vec, validate_size, False, 0)\n",
    "    \n",
    "elif chosen_dataset == datasets[1]:\n",
    "    data = pd.read_csv(\"Sberbank.csv\")['close'][:-50000]\n",
    "    lags = 10\n",
    "    test_size = 0.33\n",
    "    validate_size = 0.2\n",
    "\n",
    "    mat, vec = gm.time_series_transformation(data, lags)\n",
    "    splited_data = gm.split_data(mat, vec, validate_size, False, 0)\n",
    "\n",
    "elif chosen_dataset == datasets[2]:\n",
    "    data = pd.read_csv(\"laptop_price.csv\")\n",
    "    #data = data[data.columns[data.dtypes != object]].drop(['laptop_ID', 'Memory2_GB'], axis=1)\n",
    "    data = data.drop(['laptop_ID', 'Memory2_GB'], axis=1)\n",
    "    data = data.drop(data[data['Ram_GB'] == 64].index)\n",
    "    test_size = 0.2\n",
    "    validate_size = 0.2\n",
    "    category_cols = data.columns[data.dtypes == object]\n",
    "    #for col in category_cols:\n",
    "    #    print(f'{col}: {data[col].unique().size}')\n",
    "    data = pd.get_dummies(data=data.drop(['Product', 'Cpu_series', 'Gpu_series'], axis=1), \n",
    "                          columns=category_cols.drop(['Product', 'Cpu_series', 'Gpu_series']))\n",
    "    splited_data = gm.split_data(data.drop(['Price_euros'], axis=1), data['Price_euros'])\n",
    "    scaler = MinMaxScaler().fit(splited_data.x_train)\n",
    "    splited_data.x_train = scaler.transform(splited_data.x_train)\n",
    "    splited_data.x_test = scaler.transform(splited_data.x_test)\n",
    "\n",
    "else: print(\"unknown option:\", chosen_dataset)"
   ]
  },
  {
   "cell_type": "markdown",
   "id": "fa55637c",
   "metadata": {},
   "source": [
    "## Обучение моделей"
   ]
  },
  {
   "cell_type": "code",
   "execution_count": 7,
   "id": "3c133e4f",
   "metadata": {
    "scrolled": false
   },
   "outputs": [
    {
     "name": "stdout",
     "output_type": "stream",
     "text": [
      "COMBI model\n",
      "\n",
      "LEVEL 1  [=========================] 100% [00m:00s] (10 combinations) error=5261.230194                                 \n",
      "LEVEL 2  [=========================] 100% [00m:00s] (45 combinations) error=5260.698317                                 \n",
      "LEVEL 3  [=========================] 100% [00m:00s] (120 combinations) error=5259.523471                                \n",
      "LEVEL 4  [=========================] 100% [00m:01s] (210 combinations) error=5259.079665                                \n",
      "LEVEL 5  [=========================] 100% [00m:01s] (252 combinations) error=5258.942811                                \n",
      "LEVEL 6  [=========================] 100% [00m:01s] (210 combinations) error=5258.962065                                \n",
      "\n",
      "y = 0.0075*x1 - 0.0056*x2 - 0.0085*x4 + 0.014*x9 + 0.9925*x10 + 0.013\n",
      "\n",
      "METRICS\n",
      "R^2: 0.9994748816054192\n",
      "MSE: 0.3265933930907824\n",
      "MAE: 0.3614355896535036\n",
      "\n",
      "CPU times: total: 34 s\n",
      "Wall time: 6.39 s\n"
     ]
    }
   ],
   "source": [
    "%%time\n",
    "print(\"COMBI model\\n\")\n",
    "combi = gm.Combi()\n",
    "combi.fit(splited_data.x_train, splited_data.y_train, \n",
    "          criterion=gm.SequentialCriterion(gm.CriterionType.regularity, gm.CriterionType.stability, solver=gm.Solver.accurate), \n",
    "          test_size=test_size, shuffle=False, random_state=17, p_average=1, n_jobs=-1, verbose=1, limit=0)\n",
    "print(\"\\n\" + combi.get_best_polynomial())\n",
    "y_pred_combi = combi.predict(splited_data.x_test)\n",
    "print_metrics(splited_data.y_test, y_pred_combi)"
   ]
  },
  {
   "cell_type": "code",
   "execution_count": 8,
   "id": "a149ae28",
   "metadata": {
    "scrolled": false
   },
   "outputs": [
    {
     "name": "stdout",
     "output_type": "stream",
     "text": [
      "MULTI model\n",
      "\n",
      "LEVEL 1  [=========================] 100% [00m:00s] (10 combinations) error=1721.456974                                 \n",
      "LEVEL 2  [=========================] 100% [00m:00s] (24 combinations) error=1721.130918                                 \n",
      "LEVEL 3  [=========================] 100% [00m:00s] (21 combinations) error=1720.883707                                 \n",
      "LEVEL 4  [=========================] 100% [00m:00s] (20 combinations) error=1720.883364                                 \n",
      "LEVEL 5  [=========================] 100% [00m:00s] (15 combinations) error=1720.87261                                  \n",
      "LEVEL 6  [=========================] 100% [00m:00s] (13 combinations) error=1720.870739                                 \n",
      "LEVEL 7  [=========================] 100% [00m:00s] (10 combinations) error=1720.795442                                 \n",
      "LEVEL 8  [=========================] 100% [00m:00s] (7 combinations) error=1720.793897                                  \n",
      "LEVEL 9  [=========================] 100% [00m:00s] (4 combinations) error=1720.806173                                  \n",
      "\n",
      "y = 0.0034*x1 - 0.0118*x4 + 0.0075*x5 - 0.0095*x6 + 0.0027*x7 + 0.0026*x8 + 0.0215*x9 + 0.9837*x10 - 0.0015\n",
      "\n",
      "METRICS\n",
      "R^2: 0.9994756855597234\n",
      "MSE: 0.32609337982367237\n",
      "MAE: 0.36061947176117937\n",
      "\n",
      "CPU times: total: 3.84 s\n",
      "Wall time: 979 ms\n"
     ]
    }
   ],
   "source": [
    "%%time\n",
    "print(\"MULTI model\\n\")\n",
    "multi = gm.Multi()\n",
    "multi.fit(splited_data.x_train, splited_data.y_train, \n",
    "          criterion=gm.Criterion(gm.CriterionType.regularity, gm.Solver.accurate), \n",
    "          k_best=3, test_size=test_size, shuffle=True, random_state=17, p_average=1, n_jobs=-1, verbose=1, limit=0);\n",
    "print(\"\\n\" + multi.get_best_polynomial())\n",
    "y_pred_multi = multi.predict(splited_data.x_test)\n",
    "print_metrics(splited_data.y_test, y_pred_multi)"
   ]
  },
  {
   "cell_type": "code",
   "execution_count": 9,
   "id": "8f1678bd",
   "metadata": {
    "scrolled": false
   },
   "outputs": [
    {
     "name": "stdout",
     "output_type": "stream",
     "text": [
      "MIA model\n",
      "\n",
      "LEVEL 1  [=========================] 100% [00m:00s] (45 combinations) error=5254.102698                                 \n",
      "LEVEL 2  [=========================] 100% [00m:00s] (10 combinations) error=5252.267502                                 \n",
      "LEVEL 3  [=========================] 100% [00m:00s] (10 combinations) error=5252.29803                                  \n",
      "\n",
      "f1_1 = 0.0014*x1 + 0.9986*x10 - 0.0044*x1*x10 + 0.0022*x1^2 + 0.0022*x10^2 + 0.0025\n",
      "f1_2 = - 0.0013*x5 + 1.0012*x10 - 0.0052*x5*x10 + 0.0026*x5^2 + 0.0026*x10^2 + 0.004\n",
      "\n",
      "y = 3.1818*f1_1 - 2.1818*f1_2 - 27.2088*f1_1*f1_2 + 13.5947*f1_1^2 + 13.6141*f1_2^2 - 0.0011\n",
      "\n",
      "METRICS\n",
      "R^2: 0.9994740794808329\n",
      "MSE: 0.3270922683787568\n",
      "MAE: 0.36116806524318784\n",
      "\n",
      "CPU times: total: 3.31 s\n",
      "Wall time: 695 ms\n"
     ]
    }
   ],
   "source": [
    "%%time\n",
    "print(\"MIA model\\n\")\n",
    "mia = gm.Mia()\n",
    "mia.fit(splited_data.x_train, splited_data.y_train, \n",
    "        criterion=gm.Criterion(gm.CriterionType.sym_regularity, gm.Solver.accurate), \n",
    "        k_best=5, polynomial_type=gm.PolynomialType.quadratic, test_size=test_size, shuffle=1, \n",
    "        random_state=17, p_average=1, n_jobs=-1, verbose=1, limit=0);\n",
    "print(\"\\n\" + mia.get_best_polynomial())\n",
    "y_pred_mia = mia.predict(splited_data.x_test)\n",
    "print_metrics(splited_data.y_test, y_pred_mia)"
   ]
  },
  {
   "cell_type": "code",
   "execution_count": 10,
   "id": "ce3d58d7",
   "metadata": {
    "scrolled": false
   },
   "outputs": [
    {
     "name": "stdout",
     "output_type": "stream",
     "text": [
      "RIA model\n",
      "\n",
      "LEVEL 1  [=========================] 100% [00m:00s] (45 combinations) error=2768.366549                                 \n",
      "LEVEL 2  [=========================] 100% [00m:00s] (30 combinations) error=2767.836092                                 \n",
      "LEVEL 3  [=========================] 100% [00m:00s] (30 combinations) error=2767.690027                                 \n",
      "LEVEL 4  [=========================] 100% [00m:00s] (30 combinations) error=2767.639372                                 \n",
      "LEVEL 5  [=========================] 100% [00m:00s] (30 combinations) error=2767.623351                                 \n",
      "LEVEL 6  [=========================] 100% [00m:00s] (30 combinations) error=2767.616672                                 \n",
      "LEVEL 7  [=========================] 100% [00m:00s] (30 combinations) error=2767.61489                                  \n",
      "LEVEL 8  [=========================] 100% [00m:00s] (30 combinations) error=2767.614155                                 \n",
      "LEVEL 9  [=========================] 100% [00m:00s] (30 combinations) error=2767.613964                                 \n",
      "LEVEL 10 [=========================] 100% [00m:00s] (30 combinations) error=2767.613885                                 \n",
      "\n",
      "f1 = - 0.0043*x4 + 1.0042*x10 + 0.0132\n",
      "f2 = 0.0115*x9 + 0.9885*f1 - 2.40628e-06\n",
      "f3 = - 0.3662*x10 + 1.3662*f2 - 0.0047\n",
      "f4 = 0.0005*x1 + 0.9995*f3 - 5.02591e-05\n",
      "f5 = - 0.0384*x10 + 1.0384*f4 - 0.0005\n",
      "f6 = 6.71876e-05*x1 + 0.9999*f5 - 7.30258e-06\n",
      "f7 = - 0.0043*x10 + 1.0043*f6 - 5.50556e-05\n",
      "f8 = 7.51215e-06*x1 + 1*f7 - 8.16382e-07\n",
      "y = - 0.0005*x10 + 1.0005*f8 - 5.9083e-06\n",
      "\n",
      "METRICS\n",
      "R^2: 0.9994750346820618\n",
      "MSE: 0.3264981882367593\n",
      "MAE: 0.3613009665264763\n",
      "\n",
      "CPU times: total: 6.36 s\n",
      "Wall time: 1.48 s\n"
     ]
    }
   ],
   "source": [
    "%%time\n",
    "print(\"RIA model\\n\")\n",
    "ria = gm.Ria()\n",
    "ria.fit(splited_data.x_train, splited_data.y_train, \n",
    "        criterion=gm.Criterion(gm.CriterionType.regularity, gm.Solver.accurate),\n",
    "        k_best=3, polynomial_type=gm.PolynomialType.linear, test_size=test_size, shuffle=False, \n",
    "        random_state=0, p_average=1, n_jobs=-1, verbose=1, limit=1e-4)\n",
    "print(\"\\n\" + ria.get_best_polynomial())\n",
    "y_pred_ria = ria.predict(splited_data.x_test)\n",
    "print_metrics(splited_data.y_test, y_pred_ria)"
   ]
  },
  {
   "cell_type": "code",
   "execution_count": 11,
   "id": "dd6e726f",
   "metadata": {},
   "outputs": [
    {
     "name": "stdout",
     "output_type": "stream",
     "text": [
      "COMBI on python model\n",
      "\n",
      "y = 0.0074*x1 - 0.0055*x2 - 0.0086*x4 + 0.0141*x9 + 0.9925*x10 + 0.0131\n",
      "\n",
      "METRICS\n",
      "R^2: 0.9994748809277221\n",
      "MSE: 0.32659381457936076\n",
      "MAE: 0.36143711131149997\n",
      "\n",
      "CPU times: total: 1min 6s\n",
      "Wall time: 1min 6s\n"
     ]
    }
   ],
   "source": [
    "%%time\n",
    "print(\"COMBI on python model\\n\")\n",
    "y_pred_lr_combi = regression_combi(data, lags, validate_size, test_size)\n",
    "print_metrics(splited_data.y_test, y_pred_lr_combi)"
   ]
  },
  {
   "cell_type": "code",
   "execution_count": 12,
   "id": "180a9d03",
   "metadata": {},
   "outputs": [
    {
     "name": "stdout",
     "output_type": "stream",
     "text": [
      "LR python model\n",
      "\n",
      "y = 0.0093*x1 - 0.0072*x2 + 0.0021*x3 - 0.0099*x4 + 0.0087*x5 - 0.0164*x6 + 0.0023*x7 + 0.0025*x8 + 0.019*x9 + 0.9897*x10 - 0.003\n",
      "\n",
      "METRICS\n",
      "R^2: 0.9994755363273505\n",
      "MSE: 0.32618619376338387\n",
      "MAE: 0.36083890315030326\n",
      "\n",
      "CPU times: total: 15 s\n",
      "Wall time: 15.1 s\n"
     ]
    }
   ],
   "source": [
    "%%time\n",
    "print(\"LR python model\\n\")\n",
    "y_pred_lr = regression(data, lags, validate_size)\n",
    "print_metrics(splited_data.y_test, y_pred_lr)"
   ]
  },
  {
   "cell_type": "markdown",
   "id": "62df7999",
   "metadata": {},
   "source": [
    "## Сравнение результатов"
   ]
  },
  {
   "cell_type": "code",
   "execution_count": 13,
   "id": "4cad5eee",
   "metadata": {},
   "outputs": [
    {
     "data": {
      "image/png": "[encoded data removed]",
      "text/plain": [
       "<Figure size 1224x576 with 1 Axes>"
      ]
     },
     "metadata": {
      "needs_background": "light"
     },
     "output_type": "display_data"
    }
   ],
   "source": [
    "show_train = False\n",
    "test_n = 20 #splited_data.y_test.shape[0]\n",
    "\n",
    "start_test = splited_data.y_train.shape[0]\n",
    "end_test = start_test + test_n\n",
    "plt.figure(figsize=(17, 8))\n",
    "if show_train:\n",
    "    sns.lineplot(x=np.arange(0, end_test), y=list(splited_data.y_train) + list(splited_data.y_test[:test_n]), label='original');\n",
    "else:\n",
    "    sns.lineplot(x=np.arange(start_test, end_test), y=splited_data.y_test[:test_n], label='original');\n",
    "sns.lineplot(x=np.arange(start_test, end_test), y=y_pred_combi[:test_n], label='combi');\n",
    "sns.lineplot(x=np.arange(start_test, end_test), y=y_pred_multi[:test_n], label='multi');\n",
    "sns.lineplot(x=np.arange(start_test, end_test), y=y_pred_mia[:test_n], label='mia');\n",
    "sns.lineplot(x=np.arange(start_test, end_test), y=y_pred_ria[:test_n], label='ria');\n",
    "sns.lineplot(x=np.arange(start_test, end_test), y=y_pred_lr_combi[:test_n], label='regr_combi');\n",
    "sns.lineplot(x=np.arange(start_test, end_test), y=y_pred_lr[:test_n], label='regr');\n",
    "plt.title(\"Results comparison\")\n",
    "plt.ylabel(\"predicted values\")\n",
    "plt.show();"
   ]
  },
  {
   "cell_type": "code",
   "execution_count": 14,
   "id": "ef14a7fe",
   "metadata": {
    "scrolled": false
   },
   "outputs": [
    {
     "name": "stdout",
     "output_type": "stream",
     "text": [
      "Оценка верных предсказаний направления изменения цен акции\n",
      "\n",
      "COMBI\n",
      "right: 9414\n",
      "wrong: 10602\n",
      "zero: 304\n",
      "\n",
      "MULTI\n",
      "right: 9420\n",
      "wrong: 10596\n",
      "zero: 304\n",
      "\n",
      "MIA\n",
      "right: 9410\n",
      "wrong: 10606\n",
      "zero: 304\n",
      "\n",
      "RIA\n",
      "right: 9415\n",
      "wrong: 10601\n",
      "zero: 304\n",
      "\n",
      "COMBI on python\n",
      "right: 9417\n",
      "wrong: 10599\n",
      "zero: 304\n",
      "\n",
      "LR\n",
      "right: 9412\n",
      "wrong: 10604\n",
      "zero: 304\n"
     ]
    }
   ],
   "source": [
    "print(\"Оценка верных предсказаний направления изменения цен акции\\n\")\n",
    "print(\"COMBI\")\n",
    "ts_stat(splited_data.y_test, y_pred_combi)\n",
    "print(\"\\nMULTI\")\n",
    "ts_stat(splited_data.y_test, y_pred_multi)\n",
    "print(\"\\nMIA\")\n",
    "ts_stat(splited_data.y_test, y_pred_mia)\n",
    "print(\"\\nRIA\")\n",
    "ts_stat(splited_data.y_test, y_pred_ria)\n",
    "print(\"\\nCOMBI on python\")\n",
    "ts_stat(splited_data.y_test, y_pred_lr_combi)\n",
    "print(\"\\nLR\")\n",
    "ts_stat(splited_data.y_test, y_pred_lr)"
   ]
  },
  {
   "cell_type": "markdown",
   "id": "0024f84e",
   "metadata": {},
   "source": [
    "## Пример обработки некорректных данных"
   ]
  },
  {
   "cell_type": "code",
   "execution_count": 15,
   "id": "ceb558fa",
   "metadata": {},
   "outputs": [
    {
     "name": "stdout",
     "output_type": "stream",
     "text": [
      "Input data number of cols is not match number of cols of fitted data!\n"
     ]
    }
   ],
   "source": [
    "try:\n",
    "    y_pred_multi = multi.predict(np.delete(splited_data.x_test, -1, 1))\n",
    "except Exception as err:\n",
    "    print(err)"
   ]
  },
  {
   "cell_type": "markdown",
   "id": "a4498e05",
   "metadata": {},
   "source": [
    "## Пример сохранения и загрузки модели из файла"
   ]
  },
  {
   "cell_type": "code",
   "execution_count": 16,
   "id": "ebe25f93",
   "metadata": {},
   "outputs": [
    {
     "name": "stdout",
     "output_type": "stream",
     "text": [
      "\n",
      "f1_1 = 0.0014*x1 + 0.9986*x10 - 0.0044*x1*x10 + 0.0022*x1^2 + 0.0022*x10^2 + 0.0025\n",
      "f1_2 = - 0.0013*x5 + 1.0012*x10 - 0.0052*x5*x10 + 0.0026*x5^2 + 0.0026*x10^2 + 0.004\n",
      "\n",
      "y = 3.1818*f1_1 - 2.1818*f1_2 - 27.2088*f1_1*f1_2 + 13.5947*f1_1^2 + 13.6141*f1_2^2 - 0.0011\n",
      "\n",
      "METRICS\n",
      "R^2: 0.9994740794808329\n",
      "MSE: 0.3270922683787568\n",
      "MAE: 0.36116806524318784\n",
      "\n"
     ]
    }
   ],
   "source": [
    "mia.save(\"mia1.txt\")\n",
    "new_mia = gm.Mia()\n",
    "new_mia.load(\"mia1.txt\")\n",
    "print(\"\\n\" + mia.get_best_polynomial())\n",
    "y_pred_new_mia = new_mia.predict(splited_data.x_test)\n",
    "print_metrics(splited_data.y_test, y_pred_mia)"
   ]
  }
 ],
 "metadata": {
  "kernelspec": {
   "display_name": "Python 3 (ipykernel)",
   "language": "python",
   "name": "python3"
  },
  "language_info": {
   "codemirror_mode": {
    "name": "ipython",
    "version": 3
   },
   "file_extension": ".py",
   "mimetype": "text/x-python",
   "name": "python",
   "nbconvert_exporter": "python",
   "pygments_lexer": "ipython3",
   "version": "3.8.6"
  },
  "vscode": {
   "interpreter": {
    "hash": "117e2c7f3285f5d2f137d5e72113d05e6f04cb1a18347662a835ce34a0a2b260"
   }
  }
 },
 "nbformat": 4,
 "nbformat_minor": 5
}
