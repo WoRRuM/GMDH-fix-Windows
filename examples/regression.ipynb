{
 "cells": [
  {
   "cell_type": "code",
   "execution_count": 2,
   "id": "f2612238",
   "metadata": {},
   "outputs": [],
   "source": [
    "import numpy as np\n",
    "import pandas as pd\n",
    "from sklearn.linear_model import LinearRegression\n",
    "from sklearn.metrics import mean_squared_error\n",
    "from sklearn.model_selection import train_test_split\n",
    "from sklearn.metrics import mean_absolute_error, mean_squared_error, r2_score\n",
    "from itertools import combinations\n",
    "from sklearn.preprocessing import MinMaxScaler\n",
    "import sys\n",
    "import matplotlib.pyplot as plt\n",
    "import seaborn as sns\n",
    "import importlib.util"
   ]
  },
  {
   "cell_type": "code",
   "execution_count": null,
   "id": "7758aea1",
   "metadata": {},
   "outputs": [],
   "source": [
    "#print(sys.path)"
   ]
  },
  {
   "cell_type": "code",
   "execution_count": 3,
   "id": "16699292",
   "metadata": {},
   "outputs": [],
   "source": [
    "sys.path.insert(1, \"C:/Users/Mi/Documents/Diploma/GMDH/build/Release\")\n",
    "sys.path.insert(1, \"/home/mikhail-xnor/Projects/GMDH/build\")"
   ]
  },
  {
   "cell_type": "code",
   "execution_count": 4,
   "id": "b4fabbb7",
   "metadata": {},
   "outputs": [],
   "source": [
    "import gmdhpy as gm"
   ]
  },
  {
   "cell_type": "code",
   "execution_count": 5,
   "id": "8c59118c",
   "metadata": {},
   "outputs": [
    {
     "data": {
      "text/plain": [
       "['Combi',\n",
       " 'Criterion',\n",
       " 'CriterionType',\n",
       " 'GmdhModel',\n",
       " 'Mia',\n",
       " 'Multi',\n",
       " 'ParallelCriterion',\n",
       " 'PolynomialType',\n",
       " 'Ria',\n",
       " 'SequentialCriterion',\n",
       " 'Solver',\n",
       " '__doc__',\n",
       " '__file__',\n",
       " '__loader__',\n",
       " '__name__',\n",
       " '__package__',\n",
       " '__spec__',\n",
       " 'split_data',\n",
       " 'splitted_data',\n",
       " 'time_series_transformation']"
      ]
     },
     "execution_count": 5,
     "metadata": {},
     "output_type": "execute_result"
    }
   ],
   "source": [
    "dir(gm)"
   ]
  },
  {
   "cell_type": "code",
   "execution_count": 5,
   "id": "5b113d71",
   "metadata": {},
   "outputs": [],
   "source": [
    "def data_preparation(x, lags, validate_size, test_size=0):\n",
    "    #print(\"x: \", x)\n",
    "    x_data = list()\n",
    "    y_data = list()\n",
    "    for i in range(len(x) - lags):\n",
    "        x_data.append(list(x.values[i:i+lags]))\n",
    "        y_data.append(x.values[i+lags])\n",
    "    x_train, x_val, y_train, y_val = train_test_split(x_data, y_data, test_size=validate_size, shuffle=False)\n",
    "    x_train = np.array(x_train)\n",
    "    x_val = np.array(x_val)\n",
    "    #print(\"x_train:\\n\", x_train)\n",
    "    #print(\"y_train:\\n\", y_train)\n",
    "    #print(\"x_val:\\n\", x_val)\n",
    "    #print(\"y_val:\\n\", y_val)\n",
    "    if test_size > 0:\n",
    "        x_train, x_test, y_train, y_test = train_test_split(x_train, y_train, test_size=test_size, shuffle=False)\n",
    "        x_train = np.array(x_train)\n",
    "        x_test = np.array(x_test)\n",
    "        return x_train, y_train, x_test, y_test, x_val, y_val\n",
    "    else:\n",
    "        return x_train, y_train, x_val, y_val\n",
    "\n",
    "def print_polynom(polynom, coeffs):\n",
    "    best_polynom_str = \"y =\"\n",
    "    for i in range(len(polynom)):\n",
    "        if coeffs[i] > 0:\n",
    "            if i > 0:\n",
    "                best_polynom_str += \" + \"\n",
    "            else:\n",
    "                best_polynom_str += \" \"\n",
    "        else:\n",
    "            best_polynom_str += \" - \"\n",
    "        best_polynom_str += str(abs(coeffs[i]))\n",
    "        if i != len(coeffs) - 1:\n",
    "            best_polynom_str += \"*x\" + str(polynom[i] + 1)\n",
    "    print(best_polynom_str)"
   ]
  },
  {
   "cell_type": "code",
   "execution_count": 6,
   "id": "0bbc06a3",
   "metadata": {},
   "outputs": [],
   "source": [
    "def regression(x, lags, validate_size):\n",
    "    x_train, y_train, x_val, y_val = data_preparation(x, lags, validate_size)\n",
    "    lr = LinearRegression(n_jobs=-1)\n",
    "    lr.fit(x_train, y_train)\n",
    "    coeffs = list(lr.coef_)\n",
    "    coeffs.append(lr.intercept_)\n",
    "    coeffs = [round(coeff, 6) for coeff in coeffs]\n",
    "    y_pred = lr.predict(x_val)\n",
    "    error = round(mean_squared_error(y_pred, y_val), 6)\n",
    "    print_polynom(range(lags + 1), coeffs)\n",
    "    return y_pred"
   ]
  },
  {
   "cell_type": "code",
   "execution_count": 7,
   "id": "174d53ca",
   "metadata": {},
   "outputs": [],
   "source": [
    "def regression_combi(x, lags, validate_size, test_size):\n",
    "    x_train, y_train, x_test, y_test, x_val, y_val = data_preparation(x, lags, validate_size, test_size)\n",
    "    lr = LinearRegression(n_jobs=-1)\n",
    "    last_error = 100000000000000\n",
    "    best_coeffs = []\n",
    "    best_polynom = []\n",
    "    for level in range(1, x_train.shape[1] + 1):\n",
    "        errors = []\n",
    "        for comb in combinations(range(x_train.shape[1]), level):\n",
    "            lr.fit(x_train[:, comb], y_train)\n",
    "            coeffs = list(lr.coef_)\n",
    "            coeffs.append(lr.intercept_)\n",
    "            coeffs = [round(coeff, 6) for coeff in coeffs]\n",
    "            y_pred = lr.predict(x_test[:, comb])\n",
    "            error = round(mean_squared_error(y_pred, y_test), 6)\n",
    "            comb = list(comb)\n",
    "            comb.append(lags)\n",
    "            errors.append((error, coeffs, comb))\n",
    "        errors.sort()\n",
    "        #print(errors[0])\n",
    "        if last_error > errors[0][0]:\n",
    "            last_error = errors[0][0]\n",
    "            best_coeffs = errors[0][1]\n",
    "            best_polynom = errors[0][2]\n",
    "        else:\n",
    "            break\n",
    "    best_polynom_str = \"y =\"\n",
    "    print_polynom(best_polynom, best_coeffs)\n",
    "    y_pred = lr.fit(x_train[:, best_polynom[:-1]], y_train).predict(x_val[:, best_polynom[:-1]])\n",
    "    return y_pred"
   ]
  },
  {
   "cell_type": "code",
   "execution_count": null,
   "id": "acf24b05",
   "metadata": {
    "scrolled": true
   },
   "outputs": [],
   "source": [
    "\"\"\"%%time\n",
    "data = pd.read_csv(\"Sberbank.csv\")['close'][:-50000]\n",
    "lags = 10\n",
    "test_size = 0.33\n",
    "validate_size = 0.2\n",
    "\n",
    "mat, vec = gm.time_series_transformation(data, lags)\n",
    "splited_data = gm.split_data(mat, vec, validate_size, False, 0)\"\"\""
   ]
  },
  {
   "cell_type": "code",
   "execution_count": 6,
   "id": "b4f53703",
   "metadata": {},
   "outputs": [],
   "source": [
    "def print_metrics(y_test, y_pred):\n",
    "    print(f\"R^2: {r2_score(y_test, y_pred)}\")\n",
    "    print(f\"MSE: {mean_squared_error(y_test, y_pred)}\")\n",
    "    print(f\"MAE: {mean_absolute_error(y_test, y_pred)}\")"
   ]
  },
  {
   "cell_type": "code",
   "execution_count": 7,
   "id": "795848f0",
   "metadata": {},
   "outputs": [
    {
     "data": {
      "text/html": [
       "<div>\n",
       "<style scoped>\n",
       "    .dataframe tbody tr th:only-of-type {\n",
       "        vertical-align: middle;\n",
       "    }\n",
       "\n",
       "    .dataframe tbody tr th {\n",
       "        vertical-align: top;\n",
       "    }\n",
       "\n",
       "    .dataframe thead th {\n",
       "        text-align: right;\n",
       "    }\n",
       "</style>\n",
       "<table border=\"1\" class=\"dataframe\">\n",
       "  <thead>\n",
       "    <tr style=\"text-align: right;\">\n",
       "      <th></th>\n",
       "      <th>Company</th>\n",
       "      <th>Product</th>\n",
       "      <th>TypeName</th>\n",
       "      <th>Inches</th>\n",
       "      <th>Ram_GB</th>\n",
       "      <th>OpSys</th>\n",
       "      <th>Weight_kg</th>\n",
       "      <th>Price_euros</th>\n",
       "      <th>Touchscreen</th>\n",
       "      <th>ScreenWidth</th>\n",
       "      <th>...</th>\n",
       "      <th>Cpu_producer</th>\n",
       "      <th>Cpu_series</th>\n",
       "      <th>Cpu_model</th>\n",
       "      <th>Cpu_GHz</th>\n",
       "      <th>Gpu_producer</th>\n",
       "      <th>Gpu_model</th>\n",
       "      <th>Gpu_series</th>\n",
       "      <th>Memory1_GB</th>\n",
       "      <th>Memory1_type</th>\n",
       "      <th>Memory2_type</th>\n",
       "    </tr>\n",
       "  </thead>\n",
       "  <tbody>\n",
       "    <tr>\n",
       "      <th>0</th>\n",
       "      <td>Apple</td>\n",
       "      <td>MacBook Pro</td>\n",
       "      <td>Ultrabook</td>\n",
       "      <td>13.3</td>\n",
       "      <td>8</td>\n",
       "      <td>macOS</td>\n",
       "      <td>1.37</td>\n",
       "      <td>1339.69</td>\n",
       "      <td>0</td>\n",
       "      <td>2560</td>\n",
       "      <td>...</td>\n",
       "      <td>Intel</td>\n",
       "      <td>-</td>\n",
       "      <td>Core i5</td>\n",
       "      <td>2.3</td>\n",
       "      <td>Intel</td>\n",
       "      <td>Iris Plus Graphics</td>\n",
       "      <td>640</td>\n",
       "      <td>128</td>\n",
       "      <td>SSD</td>\n",
       "      <td>-</td>\n",
       "    </tr>\n",
       "    <tr>\n",
       "      <th>1</th>\n",
       "      <td>Apple</td>\n",
       "      <td>Macbook Air</td>\n",
       "      <td>Ultrabook</td>\n",
       "      <td>13.3</td>\n",
       "      <td>8</td>\n",
       "      <td>macOS</td>\n",
       "      <td>1.34</td>\n",
       "      <td>898.94</td>\n",
       "      <td>0</td>\n",
       "      <td>1440</td>\n",
       "      <td>...</td>\n",
       "      <td>Intel</td>\n",
       "      <td>-</td>\n",
       "      <td>Core i5</td>\n",
       "      <td>1.8</td>\n",
       "      <td>Intel</td>\n",
       "      <td>HD Graphics</td>\n",
       "      <td>6000</td>\n",
       "      <td>128</td>\n",
       "      <td>Flash Storage</td>\n",
       "      <td>-</td>\n",
       "    </tr>\n",
       "    <tr>\n",
       "      <th>2</th>\n",
       "      <td>HP</td>\n",
       "      <td>250 G6</td>\n",
       "      <td>Notebook</td>\n",
       "      <td>15.6</td>\n",
       "      <td>8</td>\n",
       "      <td>No OS</td>\n",
       "      <td>1.86</td>\n",
       "      <td>575.00</td>\n",
       "      <td>0</td>\n",
       "      <td>1920</td>\n",
       "      <td>...</td>\n",
       "      <td>Intel</td>\n",
       "      <td>7200U</td>\n",
       "      <td>Core i5</td>\n",
       "      <td>2.5</td>\n",
       "      <td>Intel</td>\n",
       "      <td>HD Graphics</td>\n",
       "      <td>620</td>\n",
       "      <td>256</td>\n",
       "      <td>SSD</td>\n",
       "      <td>-</td>\n",
       "    </tr>\n",
       "    <tr>\n",
       "      <th>3</th>\n",
       "      <td>Apple</td>\n",
       "      <td>MacBook Pro</td>\n",
       "      <td>Ultrabook</td>\n",
       "      <td>15.4</td>\n",
       "      <td>16</td>\n",
       "      <td>macOS</td>\n",
       "      <td>1.83</td>\n",
       "      <td>2537.45</td>\n",
       "      <td>0</td>\n",
       "      <td>2880</td>\n",
       "      <td>...</td>\n",
       "      <td>Intel</td>\n",
       "      <td>-</td>\n",
       "      <td>Core i7</td>\n",
       "      <td>2.7</td>\n",
       "      <td>AMD</td>\n",
       "      <td>Radeon Pro</td>\n",
       "      <td>455</td>\n",
       "      <td>512</td>\n",
       "      <td>SSD</td>\n",
       "      <td>-</td>\n",
       "    </tr>\n",
       "    <tr>\n",
       "      <th>4</th>\n",
       "      <td>Apple</td>\n",
       "      <td>MacBook Pro</td>\n",
       "      <td>Ultrabook</td>\n",
       "      <td>13.3</td>\n",
       "      <td>8</td>\n",
       "      <td>macOS</td>\n",
       "      <td>1.37</td>\n",
       "      <td>1803.60</td>\n",
       "      <td>0</td>\n",
       "      <td>2560</td>\n",
       "      <td>...</td>\n",
       "      <td>Intel</td>\n",
       "      <td>-</td>\n",
       "      <td>Core i5</td>\n",
       "      <td>3.1</td>\n",
       "      <td>Intel</td>\n",
       "      <td>Iris Plus Graphics</td>\n",
       "      <td>650</td>\n",
       "      <td>256</td>\n",
       "      <td>SSD</td>\n",
       "      <td>-</td>\n",
       "    </tr>\n",
       "  </tbody>\n",
       "</table>\n",
       "<p>5 rows × 21 columns</p>\n",
       "</div>"
      ],
      "text/plain": [
       "  Company      Product   TypeName  Inches  Ram_GB  OpSys  Weight_kg  \\\n",
       "0   Apple  MacBook Pro  Ultrabook    13.3       8  macOS       1.37   \n",
       "1   Apple  Macbook Air  Ultrabook    13.3       8  macOS       1.34   \n",
       "2      HP       250 G6   Notebook    15.6       8  No OS       1.86   \n",
       "3   Apple  MacBook Pro  Ultrabook    15.4      16  macOS       1.83   \n",
       "4   Apple  MacBook Pro  Ultrabook    13.3       8  macOS       1.37   \n",
       "\n",
       "   Price_euros  Touchscreen  ScreenWidth  ...  Cpu_producer Cpu_series  \\\n",
       "0      1339.69            0         2560  ...         Intel          -   \n",
       "1       898.94            0         1440  ...         Intel          -   \n",
       "2       575.00            0         1920  ...         Intel      7200U   \n",
       "3      2537.45            0         2880  ...         Intel          -   \n",
       "4      1803.60            0         2560  ...         Intel          -   \n",
       "\n",
       "  Cpu_model Cpu_GHz  Gpu_producer           Gpu_model Gpu_series Memory1_GB  \\\n",
       "0   Core i5     2.3         Intel  Iris Plus Graphics        640        128   \n",
       "1   Core i5     1.8         Intel         HD Graphics       6000        128   \n",
       "2   Core i5     2.5         Intel         HD Graphics        620        256   \n",
       "3   Core i7     2.7           AMD          Radeon Pro        455        512   \n",
       "4   Core i5     3.1         Intel  Iris Plus Graphics        650        256   \n",
       "\n",
       "    Memory1_type Memory2_type  \n",
       "0            SSD            -  \n",
       "1  Flash Storage            -  \n",
       "2            SSD            -  \n",
       "3            SSD            -  \n",
       "4            SSD            -  \n",
       "\n",
       "[5 rows x 21 columns]"
      ]
     },
     "execution_count": 7,
     "metadata": {},
     "output_type": "execute_result"
    }
   ],
   "source": [
    "data = pd.read_csv(\"laptop_price.csv\")\n",
    "#data = data[data.columns[data.dtypes != object]].drop(['laptop_ID', 'Memory2_GB'], axis=1)\n",
    "data = data.drop(['laptop_ID', 'Memory2_GB'], axis=1)\n",
    "data = data.drop(data[data['Ram_GB'] == 64].index)\n",
    "test_size = 0.2\n",
    "validate_size = 0.2\n",
    "data.head()"
   ]
  },
  {
   "cell_type": "code",
   "execution_count": 8,
   "id": "9095753d",
   "metadata": {},
   "outputs": [
    {
     "name": "stdout",
     "output_type": "stream",
     "text": [
      "Company: 19\n",
      "Product: 617\n",
      "TypeName: 6\n",
      "OpSys: 9\n",
      "Cpu_producer: 3\n",
      "Cpu_series: 88\n",
      "Cpu_model: 20\n",
      "Gpu_producer: 4\n",
      "Gpu_model: 26\n",
      "Gpu_series: 75\n",
      "Memory1_type: 4\n",
      "Memory2_type: 4\n"
     ]
    }
   ],
   "source": [
    "category_cols = data.columns[data.dtypes == object]\n",
    "for col in category_cols:\n",
    "    print(f'{col}: {data[col].unique().size}')"
   ]
  },
  {
   "cell_type": "code",
   "execution_count": 10,
   "id": "3ceb77de",
   "metadata": {},
   "outputs": [],
   "source": [
    "data = pd.get_dummies(data=data.drop(['Product'], axis=1), columns=category_cols.drop(['Product']))\n",
    "splited_data = gm.split_data(data.drop(['Price_euros'], axis=1), data['Price_euros'])\n",
    "scaler = MinMaxScaler().fit(splited_data.x_train)\n",
    "splited_data.x_train = scaler.transform(splited_data.x_train);\n",
    "splited_data.x_test = scaler.transform(splited_data.x_test);"
   ]
  },
  {
   "cell_type": "code",
   "execution_count": null,
   "id": "3c133e4f",
   "metadata": {
    "scrolled": false
   },
   "outputs": [
    {
     "name": "stdout",
     "output_type": "stream",
     "text": [
      "LEVEL 1  [==============================] 100% [00m:00s] (103 combinations)                                             \n"
     ]
    },
    {
     "name": "stderr",
     "output_type": "stream",
     "text": [
      "<timed exec>:2: Warning: \n",
      "Warning! The input number of pAverage is incorrect!\n",
      "The default value is used (pAverage = 1)!\n",
      "\n"
     ]
    },
    {
     "name": "stdout",
     "output_type": "stream",
     "text": [
      "LEVEL 2  [==============================] 100% [00m:00s] (5253 combinations)                                            \n",
      "LEVEL 3  [==============================] 100% [00m:05s] (176851 combinations)                                          \n",
      "LEVEL 4  [>                             ] 2% [00m:04s] (4421275 combinations)                                           \r"
     ]
    }
   ],
   "source": [
    "%%time\n",
    "combi = gm.Combi()\n",
    "combi.fit(splited_data.x_train, splited_data.y_train, gm.Criterion(gm.CriterionType.regularity, gm.Solver.accurate), test_size, True, 17, 0, -1, 1, 0)\n",
    "print(combi.get_best_polynomial())\n",
    "y_pred_combi = combi.predict(splited_data.x_test)"
   ]
  },
  {
   "cell_type": "code",
   "execution_count": 204,
   "id": "c4c8d912",
   "metadata": {},
   "outputs": [
    {
     "name": "stdout",
     "output_type": "stream",
     "text": [
      "R^2: 0.5656537104846866\n",
      "MSE: 194191.66116391218\n",
      "MAE: 306.37671592064873\n"
     ]
    }
   ],
   "source": [
    "print_metrics(splited_data.y_test, y_pred_combi)"
   ]
  },
  {
   "cell_type": "code",
   "execution_count": 11,
   "id": "a149ae28",
   "metadata": {
    "scrolled": false
   },
   "outputs": [
    {
     "name": "stdout",
     "output_type": "stream",
     "text": [
      "LEVEL 1  [=========================] 100% [00m:00s] (266 combinations) error=209191719.530470                           \n",
      "LEVEL 2  [>                        ] 0% [00m:00s] (792 combinations)                                                    \r"
     ]
    },
    {
     "name": "stderr",
     "output_type": "stream",
     "text": [
      "<timed exec>:2: Warning: \n",
      "Warning! The input number of pAverage is incorrect!\n",
      "The default value is used (pAverage = 1)!\n",
      "\n"
     ]
    },
    {
     "name": "stdout",
     "output_type": "stream",
     "text": [
      "LEVEL 2  [=========================] 100% [00m:00s] (792 combinations) error=173810086.681330                           \n",
      "LEVEL 3  [=========================] 100% [00m:00s] (789 combinations) error=154415641.672885                           \n",
      "LEVEL 4  [=========================] 100% [00m:00s] (787 combinations) error=138024979.680430                           \n",
      "LEVEL 5  [=========================] 100% [00m:00s] (784 combinations) error=127854575.806107                           \n",
      "LEVEL 6  [=========================] 100% [00m:00s] (781 combinations) error=120050219.329098                           \n",
      "LEVEL 7  [=========================] 100% [00m:00s] (778 combinations) error=116557494.179646                           \n",
      "LEVEL 8  [=========================] 100% [00m:00s] (774 combinations) error=113049038.032135                           \n",
      "LEVEL 9  [=========================] 100% [00m:00s] (772 combinations) error=108857010.953786                           \n",
      "LEVEL 10 [=========================] 100% [00m:00s] (768 combinations) error=105004391.882812                           \n",
      "LEVEL 11 [=========================] 100% [00m:00s] (767 combinations) error=102548751.988799                           \n",
      "LEVEL 12 [=========================] 100% [00m:00s] (764 combinations) error=100717279.442860                           \n",
      "LEVEL 13 [=========================] 100% [00m:00s] (760 combinations) error=98421886.992199                            \n",
      "LEVEL 14 [=========================] 100% [00m:00s] (757 combinations) error=96648132.088803                            \n",
      "LEVEL 15 [=========================] 100% [00m:00s] (754 combinations) error=95095977.679640                            \n",
      "LEVEL 16 [=========================] 100% [00m:00s] (751 combinations) error=93239816.744882                            \n",
      "LEVEL 17 [=========================] 100% [00m:00s] (748 combinations) error=91736115.459295                            \n",
      "LEVEL 18 [=========================] 100% [00m:00s] (745 combinations) error=90533283.185323                            \n",
      "LEVEL 19 [=========================] 100% [00m:00s] (742 combinations) error=89337007.748076                            \n",
      "LEVEL 20 [=========================] 100% [00m:00s] (738 combinations) error=88109273.537868                            \n",
      "LEVEL 21 [=========================] 100% [00m:00s] (736 combinations) error=87066182.943239                            \n",
      "LEVEL 22 [=========================] 100% [00m:00s] (733 combinations) error=86446782.034538                            \n",
      "LEVEL 23 [=========================] 100% [00m:00s] (729 combinations) error=85760922.127116                            \n",
      "LEVEL 24 [=========================] 100% [00m:00s] (727 combinations) error=85061552.831708                            \n",
      "LEVEL 25 [=========================] 100% [00m:00s] (723 combinations) error=84354550.325922                            \n",
      "LEVEL 26 [=========================] 100% [00m:00s] (721 combinations) error=83883734.562269                            \n",
      "LEVEL 27 [=========================] 100% [00m:00s] (718 combinations) error=83483118.837761                            \n",
      "LEVEL 28 [=========================] 100% [00m:00s] (715 combinations) error=83135994.225196                            \n",
      "LEVEL 29 [=========================] 100% [00m:00s] (711 combinations) error=82815909.914254                            \n",
      "LEVEL 30 [=========================] 100% [00m:00s] (709 combinations) error=82488374.541823                            \n",
      "LEVEL 31 [=========================] 100% [00m:00s] (705 combinations) error=82239982.506590                            \n",
      "LEVEL 32 [=========================] 100% [00m:00s] (702 combinations) error=82024118.676120                            \n",
      "LEVEL 33 [=========================] 100% [00m:00s] (701 combinations) error=81707361.664469                            \n",
      "LEVEL 34 [=========================] 100% [00m:00s] (696 combinations) error=81401580.038918                            \n",
      "LEVEL 35 [=========================] 100% [00m:00s] (694 combinations) error=81161448.232720                            \n",
      "LEVEL 36 [=========================] 100% [00m:00s] (692 combinations) error=80910797.747048                            \n",
      "LEVEL 37 [=========================] 100% [00m:00s] (689 combinations) error=80716590.628538                            \n",
      "LEVEL 38 [=========================] 100% [00m:00s] (684 combinations) error=80522734.616409                            \n",
      "LEVEL 39 [=========================] 100% [00m:00s] (682 combinations) error=80360358.505632                            \n",
      "LEVEL 40 [=========================] 100% [00m:00s] (678 combinations) error=80168652.013251                            \n",
      "LEVEL 41 [=========================] 100% [00m:00s] (677 combinations) error=80017757.065912                            \n",
      "LEVEL 42 [=========================] 100% [00m:00s] (672 combinations) error=79841854.515077                            \n",
      "LEVEL 43 [=========================] 100% [00m:00s] (671 combinations) error=79687279.021492                            \n",
      "LEVEL 44 [=========================] 100% [00m:00s] (666 combinations) error=79526045.221002                            \n",
      "LEVEL 45 [=========================] 100% [00m:00s] (663 combinations) error=79372815.389988                            \n",
      "LEVEL 46 [=========================] 100% [00m:00s] (661 combinations) error=79232455.129165                            \n",
      "LEVEL 47 [=========================] 100% [00m:00s] (658 combinations) error=79106334.935330                            \n",
      "LEVEL 48 [=========================] 100% [00m:00s] (655 combinations) error=79037005.175704                            \n",
      "LEVEL 49 [=========================] 100% [00m:00s] (652 combinations) error=78981907.271457                            \n",
      "LEVEL 50 [=========================] 100% [00m:00s] (648 combinations) error=78907867.772162                            \n",
      "LEVEL 51 [=========================] 100% [00m:01s] (646 combinations) error=78808176.174233                            \n",
      "LEVEL 52 [=========================] 100% [00m:01s] (644 combinations) error=78729701.739096                            \n",
      "LEVEL 53 [=========================] 100% [00m:01s] (640 combinations) error=78673321.947389                            \n",
      "LEVEL 54 [=========================] 100% [00m:01s] (637 combinations) error=78594058.784889                            \n",
      "LEVEL 55 [=========================] 100% [00m:01s] (634 combinations) error=78556506.201364                            \n",
      "LEVEL 56 [=========================] 100% [00m:01s] (631 combinations) error=78518285.304981                            \n",
      "LEVEL 57 [=========================] 100% [00m:01s] (628 combinations) error=78437751.658838                            \n",
      "LEVEL 58 [=========================] 100% [00m:01s] (625 combinations) error=78374321.471133                            \n",
      "LEVEL 59 [=========================] 100% [00m:01s] (623 combinations) error=78347890.866277                            \n",
      "LEVEL 60 [=========================] 100% [00m:01s] (618 combinations) error=78321592.774649                            \n",
      "LEVEL 61 [=========================] 100% [00m:01s] (616 combinations) error=78300496.286379                            \n",
      "LEVEL 62 [=========================] 100% [00m:01s] (613 combinations) error=78282178.008336                            \n",
      "LEVEL 63 [=========================] 100% [00m:01s] (610 combinations) error=78260930.650628                            \n",
      "LEVEL 64 [=========================] 100% [00m:01s] (607 combinations) error=78242577.416842                            \n",
      "LEVEL 65 [=========================] 100% [00m:01s] (604 combinations) error=78225858.365879                            \n",
      "LEVEL 66 [=========================] 100% [00m:01s] (601 combinations) error=78209829.917783                            \n",
      "LEVEL 67 [=========================] 100% [00m:01s] (598 combinations) error=78196072.369283                            \n",
      "LEVEL 68 [=========================] 100% [00m:01s] (595 combinations) error=78182192.692590                            \n"
     ]
    },
    {
     "name": "stdout",
     "output_type": "stream",
     "text": [
      "LEVEL 69 [=========================] 100% [00m:01s] (592 combinations) error=78168620.456250                            \n",
      "LEVEL 70 [=========================] 100% [00m:01s] (588 combinations) error=78156711.826878                            \n",
      "LEVEL 71 [=========================] 100% [00m:01s] (585 combinations) error=78146568.186673                            \n",
      "LEVEL 72 [=========================] 100% [00m:01s] (582 combinations) error=78137716.049204                            \n",
      "LEVEL 73 [=========================] 100% [00m:01s] (579 combinations) error=78125808.254833                            \n",
      "LEVEL 74 [=========================] 100% [00m:02s] (576 combinations) error=78117522.486968                            \n",
      "LEVEL 75 [=========================] 100% [00m:02s] (573 combinations) error=78109698.177175                            \n",
      "LEVEL 76 [=========================] 100% [00m:02s] (570 combinations) error=78103662.178796                            \n",
      "LEVEL 77 [=========================] 100% [00m:02s] (567 combinations) error=78100512.029198                            \n",
      "LEVEL 78 [=========================] 100% [00m:02s] (564 combinations) error=78097184.246615                            \n",
      "LEVEL 79 [=========================] 100% [00m:02s] (561 combinations) error=78093748.451170                            \n",
      "LEVEL 80 [=========================] 100% [00m:02s] (558 combinations) error=78090890.765611                            \n",
      "LEVEL 81 [=========================] 100% [00m:02s] (555 combinations) error=78088476.588391                            \n",
      "LEVEL 82 [=========================] 100% [00m:02s] (553 combinations) error=78086033.232547                            \n",
      "LEVEL 83 [=========================] 100% [00m:02s] (550 combinations) error=78084195.729904                            \n",
      "LEVEL 84 [=========================] 100% [00m:02s] (547 combinations) error=78082182.492953                            \n",
      "LEVEL 85 [=========================] 100% [00m:02s] (544 combinations) error=78080368.628876                            \n",
      "LEVEL 86 [=========================] 100% [00m:02s] (541 combinations) error=78078886.578600                            \n",
      "LEVEL 87 [=========================] 100% [00m:02s] (538 combinations) error=78077715.988991                            \n",
      "LEVEL 88 [=========================] 100% [00m:02s] (535 combinations) error=78077012.771804                            \n",
      "LEVEL 89 [=========================] 100% [00m:02s] (532 combinations) error=78076491.166385                            \n",
      "LEVEL 90 [=========================] 100% [00m:02s] (529 combinations) error=78076100.683663                            \n",
      "LEVEL 91 [=========================] 100% [00m:02s] (526 combinations) error=78076083.304995                            \n",
      "LEVEL 92 [=========================] 100% [00m:02s] (523 combinations) error=78076083.304995                            \n",
      "y = 68.1576*x1 + 1264.0104*x2 + 583.3418*x6 + 876.9094*x7 - 133.7545*x9 - 90.0244*x11 - 281.2344*x12 - 147.4882*x14 + 512.5186*x18 - 249.8333*x21 + 698.1163*x23 + 114.7603*x25 + 52.8582*x27 - 217.5045*x29 - 208.7145*x31 + 73.9833*x32 - 118.8062*x36 + 70.2661*x37 - 190.2924*x38 + 127.4333*x44 + 0*x49 + 145.0611*x53 - 37.4655*x54 - 77.5572*x55 - 342.3904*x57 - 144.2959*x61 + 696.8797*x70 - 252.6105*x74 - 245.1183*x75 + 179.2022*x78 - 382.5866*x79 - 194.4915*x81 - 481.9592*x82 + 647.8508*x86 + 79.5926*x87 - 181.0245*x101 - 178.7533*x102 + 9.4712*x110 - 337.0573*x111 + 1778.3219*x114 + 1319.3085*x115 + 0*x117 + 4.8364*x120 - 480.8776*x135 - 263.5042*x137 - 472.8783*x139 - 87.4755*x140 - 423.0498*x144 - 50.7167*x145 - 433.8248*x149 - 211.5708*x158 - 44.4892*x160 + 140.3568*x162 - 271.4232*x164 - 122.5084*x166 + 593.1237*x170 - 145.6158*x171 - 107.5831*x176 - 166.312*x177 - 216.4387*x179 - 117.6892*x184 - 351.7283*x185 - 383.0337*x187 + 462.3886*x189 + 841.1845*x191 - 321.8835*x194 - 296.2974*x195 - 272.4787*x196 - 149.4795*x198 - 269.921*x200 + 17.8042*x201 - 66.5539*x203 - 120.457*x210 + 30.0479*x212 - 84.2138*x213 - 31.9759*x215 + 0*x216 - 277.2472*x221 - 115.6649*x222 - 145.6119*x223 - 801.2264*x225 - 389.8846*x226 - 136.3634*x228 - 114.2921*x230 + 47.1288*x238 + 0*x248 - 389.0656*x249 + 260.6452*x256 + 49.4649*x259 + 131.216*x262 - 316.8293*x266 + 329.5974\n",
      "CPU times: total: 10min 41s\n",
      "Wall time: 1min 43s\n"
     ]
    }
   ],
   "source": [
    "%%time\n",
    "multi = gm.Multi()\n",
    "multi.fit(splited_data.x_train, splited_data.y_train, gm.Criterion(gm.CriterionType.sym_regularity, gm.Solver.accurate), 3, test_size, True, 17, 0, -1, 1, 0);\n",
    "print(multi.get_best_polynomial())\n",
    "y_pred_multi = multi.predict(splited_data.x_test)"
   ]
  },
  {
   "cell_type": "code",
   "execution_count": 19,
   "id": "cd6d7adb",
   "metadata": {},
   "outputs": [
    {
     "name": "stdout",
     "output_type": "stream",
     "text": [
      "R^2: 0.6868207650056062\n",
      "MSE: 140019.14452514367\n",
      "MAE: 259.38463752355136\n"
     ]
    }
   ],
   "source": [
    "print_metrics(splited_data.y_test, y_pred_multi)"
   ]
  },
  {
   "cell_type": "code",
   "execution_count": 11,
   "id": "1dba54da",
   "metadata": {},
   "outputs": [
    {
     "name": "stdout",
     "output_type": "stream",
     "text": [
      "Input data number of cols is not match number of cols of fitted data!\n"
     ]
    }
   ],
   "source": [
    "try:\n",
    "    y_pred_multi = multi.predict(np.delete(splited_data.x_test, -1, 1))\n",
    "except Exception as err:\n",
    "    print(err)"
   ]
  },
  {
   "cell_type": "code",
   "execution_count": 29,
   "id": "8f1678bd",
   "metadata": {
    "scrolled": false
   },
   "outputs": [
    {
     "name": "stdout",
     "output_type": "stream",
     "text": [
      "LEVEL 1  [>                        ] 1% [00m:00s] (35245 combinations)                                                  \r"
     ]
    },
    {
     "name": "stderr",
     "output_type": "stream",
     "text": [
      "<timed exec>:2: Warning: \n",
      "Warning! The input number of threads is incorrect!\n",
      "The default value is used (threads = 1)!\n",
      "\n"
     ]
    },
    {
     "name": "stdout",
     "output_type": "stream",
     "text": [
      "LEVEL 1  [=========================] 100% [00m:05s] (35245 combinations) error=179528354.233117                         \n",
      "LEVEL 2  [=========================] 100% [00m:00s] (190 combinations) error=165130680.782079                           \n",
      "LEVEL 3  [=========================] 100% [00m:00s] (190 combinations) error=160080513.143528                           \n",
      "LEVEL 4  [=========================] 100% [00m:00s] (190 combinations) error=159273631.702171                           \n",
      "LEVEL 5  [=========================] 100% [00m:00s] (190 combinations) error=158950764.521376                           \n",
      "LEVEL 6  [=========================] 100% [00m:00s] (190 combinations) error=158755067.219075                           \n",
      "LEVEL 7  [=========================] 100% [00m:00s] (190 combinations) error=158698168.380706                           \n",
      "LEVEL 8  [=========================] 100% [00m:00s] (190 combinations) error=158633072.539281                           \n",
      "LEVEL 9  [=========================] 100% [00m:00s] (190 combinations) error=158590870.816278                           \n",
      "LEVEL 10 [=========================] 100% [00m:00s] (190 combinations) error=158528083.660779                           \n",
      "LEVEL 11 [=========================] 100% [00m:00s] (190 combinations) error=158504352.054051                           \n",
      "LEVEL 12 [=========================] 100% [00m:00s] (190 combinations) error=158497180.197962                           \n",
      "LEVEL 13 [=========================] 100% [00m:00s] (190 combinations) error=158492983.613713                           \n",
      "LEVEL 14 [=========================] 100% [00m:00s] (190 combinations) error=158493685.576555                           \n",
      "CPU times: total: 8.69 s\n",
      "Wall time: 7.04 s\n"
     ]
    }
   ],
   "source": [
    "%%time\n",
    "mia = gm.Mia()\n",
    "mia.fit(splited_data.x_train, splited_data.y_train, gm.Criterion(gm.CriterionType.sym_regularity, gm.Solver.accurate), 20, gm.PolynomialType.linear_cov, test_size, 1, 0, 3, -10, 1);\n",
    "#print(mia.get_best_polynomial())\n",
    "y_pred_mia = mia.predict(splited_data.x_test)"
   ]
  },
  {
   "cell_type": "code",
   "execution_count": 40,
   "id": "5114effb",
   "metadata": {
    "scrolled": false
   },
   "outputs": [
    {
     "name": "stdout",
     "output_type": "stream",
     "text": [
      "R^2: 0.5708349269634132\n",
      "MSE: 191875.19372965256\n",
      "MAE: 309.870941863932\n"
     ]
    }
   ],
   "source": [
    "print_metrics(splited_data.y_test, y_pred_mia)"
   ]
  },
  {
   "cell_type": "code",
   "execution_count": 80,
   "id": "59304ee6",
   "metadata": {},
   "outputs": [
    {
     "data": {
      "text/html": [
       "<div>\n",
       "<style scoped>\n",
       "    .dataframe tbody tr th:only-of-type {\n",
       "        vertical-align: middle;\n",
       "    }\n",
       "\n",
       "    .dataframe tbody tr th {\n",
       "        vertical-align: top;\n",
       "    }\n",
       "\n",
       "    .dataframe thead th {\n",
       "        text-align: right;\n",
       "    }\n",
       "</style>\n",
       "<table border=\"1\" class=\"dataframe\">\n",
       "  <thead>\n",
       "    <tr style=\"text-align: right;\">\n",
       "      <th></th>\n",
       "      <th>Inches</th>\n",
       "      <th>Ram_GB</th>\n",
       "      <th>Weight_kg</th>\n",
       "      <th>Price_euros</th>\n",
       "      <th>Touchscreen</th>\n",
       "      <th>ScreenWidth</th>\n",
       "      <th>ScreenHeight</th>\n",
       "      <th>Cpu_GHz</th>\n",
       "      <th>Memory1_GB</th>\n",
       "      <th>Company_Acer</th>\n",
       "      <th>...</th>\n",
       "      <th>Gpu_series_W5130M</th>\n",
       "      <th>Gpu_series_W6150M</th>\n",
       "      <th>Memory1_type_Flash Storage</th>\n",
       "      <th>Memory1_type_HDD</th>\n",
       "      <th>Memory1_type_Hybrid</th>\n",
       "      <th>Memory1_type_SSD</th>\n",
       "      <th>Memory2_type_-</th>\n",
       "      <th>Memory2_type_HDD</th>\n",
       "      <th>Memory2_type_Hybrid</th>\n",
       "      <th>Memory2_type_SSD</th>\n",
       "    </tr>\n",
       "  </thead>\n",
       "  <tbody>\n",
       "    <tr>\n",
       "      <th>count</th>\n",
       "      <td>1244.000000</td>\n",
       "      <td>1244.000000</td>\n",
       "      <td>1244.000000</td>\n",
       "      <td>1244.000000</td>\n",
       "      <td>1244.000000</td>\n",
       "      <td>1244.000000</td>\n",
       "      <td>1244.000000</td>\n",
       "      <td>1244.000000</td>\n",
       "      <td>1244.000000</td>\n",
       "      <td>1244.000000</td>\n",
       "      <td>...</td>\n",
       "      <td>1244.000000</td>\n",
       "      <td>1244.000000</td>\n",
       "      <td>1244.000000</td>\n",
       "      <td>1244.000000</td>\n",
       "      <td>1244.000000</td>\n",
       "      <td>1244.000000</td>\n",
       "      <td>1244.000000</td>\n",
       "      <td>1244.000000</td>\n",
       "      <td>1244.000000</td>\n",
       "      <td>1244.000000</td>\n",
       "    </tr>\n",
       "    <tr>\n",
       "      <th>mean</th>\n",
       "      <td>15.029904</td>\n",
       "      <td>8.403537</td>\n",
       "      <td>2.044035</td>\n",
       "      <td>1130.563055</td>\n",
       "      <td>0.144695</td>\n",
       "      <td>1897.607717</td>\n",
       "      <td>1072.469453</td>\n",
       "      <td>2.304196</td>\n",
       "      <td>446.774920</td>\n",
       "      <td>0.080386</td>\n",
       "      <td>...</td>\n",
       "      <td>0.000804</td>\n",
       "      <td>0.000804</td>\n",
       "      <td>0.055466</td>\n",
       "      <td>0.284566</td>\n",
       "      <td>0.006431</td>\n",
       "      <td>0.653537</td>\n",
       "      <td>0.836817</td>\n",
       "      <td>0.158360</td>\n",
       "      <td>0.001608</td>\n",
       "      <td>0.003215</td>\n",
       "    </tr>\n",
       "    <tr>\n",
       "      <th>std</th>\n",
       "      <td>1.414841</td>\n",
       "      <td>4.884624</td>\n",
       "      <td>0.668770</td>\n",
       "      <td>700.047321</td>\n",
       "      <td>0.351934</td>\n",
       "      <td>492.807819</td>\n",
       "      <td>283.722976</td>\n",
       "      <td>0.502959</td>\n",
       "      <td>367.634894</td>\n",
       "      <td>0.271999</td>\n",
       "      <td>...</td>\n",
       "      <td>0.028352</td>\n",
       "      <td>0.028352</td>\n",
       "      <td>0.228980</td>\n",
       "      <td>0.451389</td>\n",
       "      <td>0.079967</td>\n",
       "      <td>0.476034</td>\n",
       "      <td>0.369681</td>\n",
       "      <td>0.365225</td>\n",
       "      <td>0.040080</td>\n",
       "      <td>0.056636</td>\n",
       "    </tr>\n",
       "    <tr>\n",
       "      <th>min</th>\n",
       "      <td>10.100000</td>\n",
       "      <td>2.000000</td>\n",
       "      <td>0.690000</td>\n",
       "      <td>174.000000</td>\n",
       "      <td>0.000000</td>\n",
       "      <td>1366.000000</td>\n",
       "      <td>768.000000</td>\n",
       "      <td>0.900000</td>\n",
       "      <td>8.000000</td>\n",
       "      <td>0.000000</td>\n",
       "      <td>...</td>\n",
       "      <td>0.000000</td>\n",
       "      <td>0.000000</td>\n",
       "      <td>0.000000</td>\n",
       "      <td>0.000000</td>\n",
       "      <td>0.000000</td>\n",
       "      <td>0.000000</td>\n",
       "      <td>0.000000</td>\n",
       "      <td>0.000000</td>\n",
       "      <td>0.000000</td>\n",
       "      <td>0.000000</td>\n",
       "    </tr>\n",
       "    <tr>\n",
       "      <th>25%</th>\n",
       "      <td>14.000000</td>\n",
       "      <td>4.000000</td>\n",
       "      <td>1.500000</td>\n",
       "      <td>599.000000</td>\n",
       "      <td>0.000000</td>\n",
       "      <td>1600.000000</td>\n",
       "      <td>900.000000</td>\n",
       "      <td>2.000000</td>\n",
       "      <td>256.000000</td>\n",
       "      <td>0.000000</td>\n",
       "      <td>...</td>\n",
       "      <td>0.000000</td>\n",
       "      <td>0.000000</td>\n",
       "      <td>0.000000</td>\n",
       "      <td>0.000000</td>\n",
       "      <td>0.000000</td>\n",
       "      <td>0.000000</td>\n",
       "      <td>1.000000</td>\n",
       "      <td>0.000000</td>\n",
       "      <td>0.000000</td>\n",
       "      <td>0.000000</td>\n",
       "    </tr>\n",
       "    <tr>\n",
       "      <th>50%</th>\n",
       "      <td>15.600000</td>\n",
       "      <td>8.000000</td>\n",
       "      <td>2.040000</td>\n",
       "      <td>986.500000</td>\n",
       "      <td>0.000000</td>\n",
       "      <td>1920.000000</td>\n",
       "      <td>1080.000000</td>\n",
       "      <td>2.500000</td>\n",
       "      <td>256.000000</td>\n",
       "      <td>0.000000</td>\n",
       "      <td>...</td>\n",
       "      <td>0.000000</td>\n",
       "      <td>0.000000</td>\n",
       "      <td>0.000000</td>\n",
       "      <td>0.000000</td>\n",
       "      <td>0.000000</td>\n",
       "      <td>1.000000</td>\n",
       "      <td>1.000000</td>\n",
       "      <td>0.000000</td>\n",
       "      <td>0.000000</td>\n",
       "      <td>0.000000</td>\n",
       "    </tr>\n",
       "    <tr>\n",
       "      <th>75%</th>\n",
       "      <td>15.600000</td>\n",
       "      <td>8.000000</td>\n",
       "      <td>2.310000</td>\n",
       "      <td>1491.450000</td>\n",
       "      <td>0.000000</td>\n",
       "      <td>1920.000000</td>\n",
       "      <td>1080.000000</td>\n",
       "      <td>2.700000</td>\n",
       "      <td>512.000000</td>\n",
       "      <td>0.000000</td>\n",
       "      <td>...</td>\n",
       "      <td>0.000000</td>\n",
       "      <td>0.000000</td>\n",
       "      <td>0.000000</td>\n",
       "      <td>1.000000</td>\n",
       "      <td>0.000000</td>\n",
       "      <td>1.000000</td>\n",
       "      <td>1.000000</td>\n",
       "      <td>0.000000</td>\n",
       "      <td>0.000000</td>\n",
       "      <td>0.000000</td>\n",
       "    </tr>\n",
       "    <tr>\n",
       "      <th>max</th>\n",
       "      <td>18.400000</td>\n",
       "      <td>32.000000</td>\n",
       "      <td>4.700000</td>\n",
       "      <td>6099.000000</td>\n",
       "      <td>1.000000</td>\n",
       "      <td>3840.000000</td>\n",
       "      <td>2160.000000</td>\n",
       "      <td>3.600000</td>\n",
       "      <td>2048.000000</td>\n",
       "      <td>1.000000</td>\n",
       "      <td>...</td>\n",
       "      <td>1.000000</td>\n",
       "      <td>1.000000</td>\n",
       "      <td>1.000000</td>\n",
       "      <td>1.000000</td>\n",
       "      <td>1.000000</td>\n",
       "      <td>1.000000</td>\n",
       "      <td>1.000000</td>\n",
       "      <td>1.000000</td>\n",
       "      <td>1.000000</td>\n",
       "      <td>1.000000</td>\n",
       "    </tr>\n",
       "  </tbody>\n",
       "</table>\n",
       "<p>8 rows × 267 columns</p>\n",
       "</div>"
      ],
      "text/plain": [
       "            Inches       Ram_GB    Weight_kg  Price_euros  Touchscreen  \\\n",
       "count  1244.000000  1244.000000  1244.000000  1244.000000  1244.000000   \n",
       "mean     15.029904     8.403537     2.044035  1130.563055     0.144695   \n",
       "std       1.414841     4.884624     0.668770   700.047321     0.351934   \n",
       "min      10.100000     2.000000     0.690000   174.000000     0.000000   \n",
       "25%      14.000000     4.000000     1.500000   599.000000     0.000000   \n",
       "50%      15.600000     8.000000     2.040000   986.500000     0.000000   \n",
       "75%      15.600000     8.000000     2.310000  1491.450000     0.000000   \n",
       "max      18.400000    32.000000     4.700000  6099.000000     1.000000   \n",
       "\n",
       "       ScreenWidth  ScreenHeight      Cpu_GHz   Memory1_GB  Company_Acer  ...  \\\n",
       "count  1244.000000   1244.000000  1244.000000  1244.000000   1244.000000  ...   \n",
       "mean   1897.607717   1072.469453     2.304196   446.774920      0.080386  ...   \n",
       "std     492.807819    283.722976     0.502959   367.634894      0.271999  ...   \n",
       "min    1366.000000    768.000000     0.900000     8.000000      0.000000  ...   \n",
       "25%    1600.000000    900.000000     2.000000   256.000000      0.000000  ...   \n",
       "50%    1920.000000   1080.000000     2.500000   256.000000      0.000000  ...   \n",
       "75%    1920.000000   1080.000000     2.700000   512.000000      0.000000  ...   \n",
       "max    3840.000000   2160.000000     3.600000  2048.000000      1.000000  ...   \n",
       "\n",
       "       Gpu_series_W5130M  Gpu_series_W6150M  Memory1_type_Flash Storage  \\\n",
       "count        1244.000000        1244.000000                 1244.000000   \n",
       "mean            0.000804           0.000804                    0.055466   \n",
       "std             0.028352           0.028352                    0.228980   \n",
       "min             0.000000           0.000000                    0.000000   \n",
       "25%             0.000000           0.000000                    0.000000   \n",
       "50%             0.000000           0.000000                    0.000000   \n",
       "75%             0.000000           0.000000                    0.000000   \n",
       "max             1.000000           1.000000                    1.000000   \n",
       "\n",
       "       Memory1_type_HDD  Memory1_type_Hybrid  Memory1_type_SSD  \\\n",
       "count       1244.000000          1244.000000       1244.000000   \n",
       "mean           0.284566             0.006431          0.653537   \n",
       "std            0.451389             0.079967          0.476034   \n",
       "min            0.000000             0.000000          0.000000   \n",
       "25%            0.000000             0.000000          0.000000   \n",
       "50%            0.000000             0.000000          1.000000   \n",
       "75%            1.000000             0.000000          1.000000   \n",
       "max            1.000000             1.000000          1.000000   \n",
       "\n",
       "       Memory2_type_-  Memory2_type_HDD  Memory2_type_Hybrid  Memory2_type_SSD  \n",
       "count     1244.000000       1244.000000          1244.000000       1244.000000  \n",
       "mean         0.836817          0.158360             0.001608          0.003215  \n",
       "std          0.369681          0.365225             0.040080          0.056636  \n",
       "min          0.000000          0.000000             0.000000          0.000000  \n",
       "25%          1.000000          0.000000             0.000000          0.000000  \n",
       "50%          1.000000          0.000000             0.000000          0.000000  \n",
       "75%          1.000000          0.000000             0.000000          0.000000  \n",
       "max          1.000000          1.000000             1.000000          1.000000  \n",
       "\n",
       "[8 rows x 267 columns]"
      ]
     },
     "execution_count": 80,
     "metadata": {},
     "output_type": "execute_result"
    }
   ],
   "source": [
    "data.describe()"
   ]
  },
  {
   "cell_type": "code",
   "execution_count": 1,
   "id": "ce3d58d7",
   "metadata": {
    "scrolled": true
   },
   "outputs": [
    {
     "ename": "NameError",
     "evalue": "name 'gm' is not defined",
     "output_type": "error",
     "traceback": [
      "\u001b[1;31m---------------------------------------------------------------------------\u001b[0m",
      "\u001b[1;31mNameError\u001b[0m                                 Traceback (most recent call last)",
      "File \u001b[1;32m<timed exec>:1\u001b[0m, in \u001b[0;36m<module>\u001b[1;34m\u001b[0m\n",
      "\u001b[1;31mNameError\u001b[0m: name 'gm' is not defined"
     ]
    }
   ],
   "source": [
    "%%time\n",
    "ria = gm.Ria()\n",
    "ria.fit(splited_data.x_train, splited_data.y_train, gm.Criterion(gm.CriterionType.regularity, gm.Solver.accurate), 5, gm.PolynomialType.linear, test_size, 0, 0, 1, -2, 1, 0);\n",
    "#print(ria.get_best_polynomial())\n",
    "y_pred_ria = ria.predict(splited_data.x_test)"
   ]
  },
  {
   "cell_type": "code",
   "execution_count": 51,
   "id": "ddc16957",
   "metadata": {},
   "outputs": [
    {
     "name": "stdout",
     "output_type": "stream",
     "text": [
      "R^2: 0.6126159034652368\n",
      "MSE: 173195.3582440234\n",
      "MAE: 284.66992742385145\n"
     ]
    }
   ],
   "source": [
    "print_metrics(splited_data.y_test, y_pred_ria)"
   ]
  },
  {
   "cell_type": "code",
   "execution_count": null,
   "id": "dd6e726f",
   "metadata": {},
   "outputs": [],
   "source": [
    "%%time\n",
    "y_pred_lr_combi = regression_combi(data, lags, validate_size, test_size)"
   ]
  },
  {
   "cell_type": "code",
   "execution_count": null,
   "id": "180a9d03",
   "metadata": {},
   "outputs": [],
   "source": [
    "%time\n",
    "y_pred_lr = regression(data, lags, validate_size)"
   ]
  },
  {
   "cell_type": "code",
   "execution_count": null,
   "id": "4caa4cda",
   "metadata": {},
   "outputs": [],
   "source": [
    "#np.savetxt(\"Sber.csv\", np.asarray(data.values), delimiter=\",\")"
   ]
  },
  {
   "cell_type": "code",
   "execution_count": null,
   "id": "4cad5eee",
   "metadata": {},
   "outputs": [],
   "source": [
    "n = 20\n",
    "plt.figure(figsize=(17, 6))\n",
    "sns.lineplot(x=np.arange(n), y=splited_data.y_test[:n], label='original');\n",
    "sns.lineplot(x=np.arange(n), y=y_pred_combi[:n], label='combi');\n",
    "sns.lineplot(x=np.arange(n), y=y_pred_multi[:n], label='multi');\n",
    "sns.lineplot(x=np.arange(n), y=y_pred_mia[:n], label='mia');\n",
    "sns.lineplot(x=np.arange(n), y=y_pred_ria[:n], label='ria');\n",
    "#sns.lineplot(x=np.arange(n), y=y_pred_lr_combi[:n], label='regr_combi');\n",
    "#sns.lineplot(x=np.arange(n), y=y_pred_lr[:n], label='regr');"
   ]
  },
  {
   "cell_type": "code",
   "execution_count": null,
   "id": "c2b91a44",
   "metadata": {},
   "outputs": [],
   "source": [
    "def stat(y_real, y_pred):\n",
    "    y_real_diff = np.diff(y_real)\n",
    "    y_pred_diff = np.diff(y_pred)\n",
    "    print(\"right:\", ((y_real_diff * y_pred_diff > 0)).sum())\n",
    "    print(\"wrong:\", ((y_real_diff * y_pred_diff < 0)).sum())\n",
    "    print(\"zero:\", ((y_real_diff * y_pred_diff == 0)).sum())"
   ]
  },
  {
   "cell_type": "code",
   "execution_count": null,
   "id": "ef14a7fe",
   "metadata": {},
   "outputs": [],
   "source": [
    "print(\"COMBI\")\n",
    "stat(splited_data.y_test, y_pred_combi)\n",
    "print(\"\\nMULTI\")\n",
    "stat(splited_data.y_test, y_pred_multi)\n",
    "print(\"\\nMIA\")\n",
    "stat(splited_data.y_test, y_pred_mia)\n",
    "print(\"\\nRIA\")\n",
    "stat(splited_data.y_test, y_pred_ria)"
   ]
  }
 ],
 "metadata": {
  "kernelspec": {
   "display_name": "Python 3 (ipykernel)",
   "language": "python",
   "name": "python3"
  },
  "language_info": {
   "codemirror_mode": {
    "name": "ipython",
    "version": 3
   },
   "file_extension": ".py",
   "mimetype": "text/x-python",
   "name": "python",
   "nbconvert_exporter": "python",
   "pygments_lexer": "ipython3",
   "version": "3.8.6"
  },
  "vscode": {
   "interpreter": {
    "hash": "117e2c7f3285f5d2f137d5e72113d05e6f04cb1a18347662a835ce34a0a2b260"
   }
  }
 },
 "nbformat": 4,
 "nbformat_minor": 5
}
