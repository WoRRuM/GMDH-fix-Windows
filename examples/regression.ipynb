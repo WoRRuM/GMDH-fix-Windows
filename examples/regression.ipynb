{
 "cells": [
  {
   "cell_type": "code",
   "execution_count": 1,
   "id": "f2612238",
   "metadata": {},
   "outputs": [],
   "source": [
    "import numpy as np\n",
    "import pandas as pd\n",
    "from sklearn.linear_model import LinearRegression\n",
    "from sklearn.metrics import mean_squared_error\n",
    "from sklearn.model_selection import train_test_split\n",
    "from itertools import combinations\n",
    "import sys\n",
    "import matplotlib.pyplot as plt\n",
    "import seaborn as sns\n",
    "import importlib.util"
   ]
  },
  {
   "cell_type": "code",
   "execution_count": 2,
   "id": "7758aea1",
   "metadata": {},
   "outputs": [
    {
     "name": "stdout",
     "output_type": "stream",
     "text": [
      "['C:\\\\Users\\\\Mi\\\\Documents\\\\Diploma\\\\GMDH\\\\examples', 'c:\\\\users\\\\mi\\\\appdata\\\\local\\\\programs\\\\python\\\\python38\\\\python38.zip', 'c:\\\\users\\\\mi\\\\appdata\\\\local\\\\programs\\\\python\\\\python38\\\\DLLs', 'c:\\\\users\\\\mi\\\\appdata\\\\local\\\\programs\\\\python\\\\python38\\\\lib', 'c:\\\\users\\\\mi\\\\appdata\\\\local\\\\programs\\\\python\\\\python38', '', 'c:\\\\users\\\\mi\\\\appdata\\\\local\\\\programs\\\\python\\\\python38\\\\lib\\\\site-packages', 'c:\\\\users\\\\mi\\\\appdata\\\\local\\\\programs\\\\python\\\\python38\\\\lib\\\\site-packages\\\\win32', 'c:\\\\users\\\\mi\\\\appdata\\\\local\\\\programs\\\\python\\\\python38\\\\lib\\\\site-packages\\\\win32\\\\lib', 'c:\\\\users\\\\mi\\\\appdata\\\\local\\\\programs\\\\python\\\\python38\\\\lib\\\\site-packages\\\\Pythonwin']\n"
     ]
    }
   ],
   "source": [
    "print(sys.path)"
   ]
  },
  {
   "cell_type": "code",
   "execution_count": 3,
   "id": "16699292",
   "metadata": {},
   "outputs": [],
   "source": [
    "sys.path.insert(1, \"C:/Users/Mi/Documents/Diploma/GMDH/build/Release\")"
   ]
  },
  {
   "cell_type": "code",
   "execution_count": 4,
   "id": "b4fabbb7",
   "metadata": {},
   "outputs": [],
   "source": [
    "import gmdhpy as gm"
   ]
  },
  {
   "cell_type": "code",
   "execution_count": 5,
   "id": "8c59118c",
   "metadata": {},
   "outputs": [
    {
     "data": {
      "text/plain": [
       "['COMBI',\n",
       " 'Criterion',\n",
       " 'CriterionType',\n",
       " 'GMDH',\n",
       " 'MIA',\n",
       " 'MULTI',\n",
       " 'ParallelCriterion',\n",
       " 'PolynomialType',\n",
       " 'SequentialCriterion',\n",
       " 'Solver',\n",
       " '__doc__',\n",
       " '__file__',\n",
       " '__loader__',\n",
       " '__name__',\n",
       " '__package__',\n",
       " '__spec__',\n",
       " 'convertToTimeSeries',\n",
       " 'splitData',\n",
       " 'splitted_data']"
      ]
     },
     "execution_count": 5,
     "metadata": {},
     "output_type": "execute_result"
    }
   ],
   "source": [
    "dir(gm)"
   ]
  },
  {
   "cell_type": "code",
   "execution_count": 5,
   "id": "5b113d71",
   "metadata": {},
   "outputs": [],
   "source": [
    "def data_preparation(x, lags, validate_size, test_size=0):\n",
    "    #print(\"x: \", x)\n",
    "    x_data = list()\n",
    "    y_data = list()\n",
    "    for i in range(len(x) - lags):\n",
    "        x_data.append(list(x.values[i:i+lags]))\n",
    "        y_data.append(x.values[i+lags])\n",
    "    x_train, x_val, y_train, y_val = train_test_split(x_data, y_data, test_size=validate_size, shuffle=False)\n",
    "    x_train = np.array(x_train)\n",
    "    x_val = np.array(x_val)\n",
    "    #print(\"x_train:\\n\", x_train)\n",
    "    #print(\"y_train:\\n\", y_train)\n",
    "    #print(\"x_val:\\n\", x_val)\n",
    "    #print(\"y_val:\\n\", y_val)\n",
    "    if test_size > 0:\n",
    "        x_train, x_test, y_train, y_test = train_test_split(x_train, y_train, test_size=test_size, shuffle=False)\n",
    "        x_train = np.array(x_train)\n",
    "        x_test = np.array(x_test)\n",
    "        return x_train, y_train, x_test, y_test, x_val, y_val\n",
    "    else:\n",
    "        return x_train, y_train, x_val, y_val\n",
    "\n",
    "def print_polynom(polynom, coeffs):\n",
    "    best_polynom_str = \"y =\"\n",
    "    for i in range(len(polynom)):\n",
    "        if coeffs[i] > 0:\n",
    "            if i > 0:\n",
    "                best_polynom_str += \" + \"\n",
    "            else:\n",
    "                best_polynom_str += \" \"\n",
    "        else:\n",
    "            best_polynom_str += \" - \"\n",
    "        best_polynom_str += str(abs(coeffs[i]))\n",
    "        if i != len(coeffs) - 1:\n",
    "            best_polynom_str += \"*x\" + str(polynom[i] + 1)\n",
    "    print(best_polynom_str)"
   ]
  },
  {
   "cell_type": "code",
   "execution_count": 6,
   "id": "0bbc06a3",
   "metadata": {},
   "outputs": [],
   "source": [
    "def regression(x, lags, validate_size):\n",
    "    x_train, y_train, x_val, y_val = data_preparation(x, lags, validate_size)\n",
    "    lr = LinearRegression(n_jobs=-1)\n",
    "    lr.fit(x_train, y_train)\n",
    "    coeffs = list(lr.coef_)\n",
    "    coeffs.append(lr.intercept_)\n",
    "    coeffs = [round(coeff, 6) for coeff in coeffs]\n",
    "    y_pred = lr.predict(x_val)\n",
    "    error = round(mean_squared_error(y_pred, y_val), 6)\n",
    "    print_polynom(range(lags + 1), coeffs)\n",
    "    return y_pred"
   ]
  },
  {
   "cell_type": "code",
   "execution_count": 7,
   "id": "174d53ca",
   "metadata": {},
   "outputs": [],
   "source": [
    "def regression_combi(x, lags, validate_size, test_size):\n",
    "    x_train, y_train, x_test, y_test, x_val, y_val = data_preparation(x, lags, validate_size, test_size)\n",
    "    lr = LinearRegression(n_jobs=-1)\n",
    "    last_error = 100000000000000\n",
    "    best_coeffs = []\n",
    "    best_polynom = []\n",
    "    for level in range(1, x_train.shape[1] + 1):\n",
    "        errors = []\n",
    "        for comb in combinations(range(x_train.shape[1]), level):\n",
    "            lr.fit(x_train[:, comb], y_train)\n",
    "            coeffs = list(lr.coef_)\n",
    "            coeffs.append(lr.intercept_)\n",
    "            coeffs = [round(coeff, 6) for coeff in coeffs]\n",
    "            y_pred = lr.predict(x_test[:, comb])\n",
    "            error = round(mean_squared_error(y_pred, y_test), 6)\n",
    "            comb = list(comb)\n",
    "            comb.append(lags)\n",
    "            errors.append((error, coeffs, comb))\n",
    "        errors.sort()\n",
    "        #print(errors[0])\n",
    "        if last_error > errors[0][0]:\n",
    "            last_error = errors[0][0]\n",
    "            best_coeffs = errors[0][1]\n",
    "            best_polynom = errors[0][2]\n",
    "        else:\n",
    "            break\n",
    "    best_polynom_str = \"y =\"\n",
    "    print_polynom(best_polynom, best_coeffs)\n",
    "    y_pred = lr.fit(x_train[:, best_polynom[:-1]], y_train).predict(x_val[:, best_polynom[:-1]])\n",
    "    return y_pred"
   ]
  },
  {
   "cell_type": "code",
   "execution_count": 56,
   "id": "acf24b05",
   "metadata": {
    "scrolled": true
   },
   "outputs": [
    {
     "name": "stdout",
     "output_type": "stream",
     "text": [
      "CPU times: total: 203 ms\n",
      "Wall time: 205 ms\n"
     ]
    }
   ],
   "source": [
    "%%time\n",
    "data = pd.read_csv(\"Sberbank.csv\")['close'][:-50000]\n",
    "data = data.diff().dropna()\n",
    "lags = 10\n",
    "test_size = 0.33\n",
    "validate_size = 0.2"
   ]
  },
  {
   "cell_type": "code",
   "execution_count": 59,
   "id": "94e7c4c3",
   "metadata": {},
   "outputs": [
    {
     "name": "stdout",
     "output_type": "stream",
     "text": [
      "CPU times: total: 31.2 ms\n",
      "Wall time: 18 ms\n"
     ]
    }
   ],
   "source": [
    "%%time\n",
    "mat, vec = gm.convertToTimeSeries(data, lags)\n",
    "splited_data = gm.splitData(mat, vec, validate_size, False, 0)"
   ]
  },
  {
   "cell_type": "code",
   "execution_count": 66,
   "id": "3c133e4f",
   "metadata": {},
   "outputs": [
    {
     "name": "stdout",
     "output_type": "stream",
     "text": [
      "LEVEL 1 (10 combinations) [==============================] 100% [00m:00s]                                               \n",
      "LEVEL 2 (45 combinations) [==============================] 100% [00m:00s]                                               \n",
      "LEVEL 3 (120 combinations) [==============================] 100% [00m:00s]                                              \n",
      "LEVEL 4 (210 combinations) [==============================] 100% [00m:00s]                                              \n",
      "LEVEL 5 (252 combinations) [==============================] 100% [00m:01s]                                              \n",
      "LEVEL 6 (210 combinations) [==============================] 100% [00m:01s]                                              \n",
      "LEVEL 7 (120 combinations) [==============================] 100% [00m:00s]                                              \n",
      "LEVEL 8 (45 combinations) [==============================] 100% [00m:00s]                                               \n",
      "y = - 0.007325*x2 - 0.002371*x3 - 0.001255*x4 - 0.002303*x6 + 0.009392*x7 + 0.015124*x8 - 0.007600*x10 - 0.000031\n",
      "CPU times: total: 32.5 s\n",
      "Wall time: 5.08 s\n"
     ]
    }
   ],
   "source": [
    "%%time\n",
    "combi = gm.COMBI()\n",
    "combi.fit(splited_data.x_train, splited_data.y_train, gm.Criterion(gm.CriterionType.regularity, gm.Solver.accurate), test_size, 0, 0, 1, -1, 1);\n",
    "print(combi.getBestPolymon())\n",
    "y_pred_combi = combi.predict(splited_data.x_test)"
   ]
  },
  {
   "cell_type": "code",
   "execution_count": 67,
   "id": "a149ae28",
   "metadata": {},
   "outputs": [
    {
     "name": "stdout",
     "output_type": "stream",
     "text": [
      "LEVEL 1 (10 combinations) [==============================] 100% [00m:00s]                                               \n",
      "LEVEL 2 (35 combinations) [==============================] 100% [00m:00s]                                               \n",
      "LEVEL 3 (33 combinations) [==============================] 100% [00m:00s]                                               \n",
      "LEVEL 4 (25 combinations) [==============================] 100% [00m:00s]                                               \n",
      "LEVEL 5 (23 combinations) [==============================] 100% [00m:00s]                                               \n",
      "LEVEL 6 (19 combinations) [==============================] 100% [00m:00s]                                               \n",
      "LEVEL 7 (15 combinations) [==============================] 100% [00m:00s]                                               \n",
      "LEVEL 8 (11 combinations) [==============================] 100% [00m:00s]                                               \n",
      "y = - 0.007325*x2 - 0.002371*x3 - 0.001255*x4 - 0.002303*x6 + 0.009392*x7 + 0.015124*x8 - 0.007600*x10 - 0.000031\n",
      "CPU times: total: 5.16 s\n",
      "Wall time: 1.09 s\n"
     ]
    }
   ],
   "source": [
    "%%time\n",
    "multi = gm.MULTI()\n",
    "multi.fit(splited_data.x_train, splited_data.y_train, gm.Criterion(gm.CriterionType.regularity, gm.Solver.accurate), 5, test_size, 0, 0, 1, -1, 1);\n",
    "print(multi.getBestPolymon())\n",
    "y_pred_multi = multi.predict(splited_data.x_test)"
   ]
  },
  {
   "cell_type": "code",
   "execution_count": 68,
   "id": "8f1678bd",
   "metadata": {},
   "outputs": [
    {
     "name": "stdout",
     "output_type": "stream",
     "text": [
      "LEVEL 1 (45 combinations) [==============================] 100% [00m:00s]                                               \n",
      "LEVEL 2 (10 combinations) [==============================] 100% [00m:00s]                                               \n",
      "LEVEL 3 (10 combinations) [==============================] 100% [00m:00s]                                               \n",
      "CPU times: total: 2.72 s\n",
      "Wall time: 516 ms\n"
     ]
    }
   ],
   "source": [
    "%%time\n",
    "mia = gm.MIA()\n",
    "mia.fit(splited_data.x_train, splited_data.y_train, gm.Criterion(gm.CriterionType.regularity, gm.Solver.accurate), 5, gm.PolynomialType.quadratic, test_size, 0, 0, 1, -1, 1);\n",
    "#print(mia.getBestPolymon())\n",
    "y_pred_mia = mia.predict(splited_data.x_test)"
   ]
  },
  {
   "cell_type": "code",
   "execution_count": 33,
   "id": "dd6e726f",
   "metadata": {},
   "outputs": [
    {
     "name": "stdout",
     "output_type": "stream",
     "text": [
      "y = - 0.015762*x6 + 0.011931*x7 + 0.022788*x9 + 0.980975*x10 + 0.014977\n",
      "CPU times: total: 25.3 s\n",
      "Wall time: 25.3 s\n"
     ]
    }
   ],
   "source": [
    "%%time\n",
    "y_pred_lr_combi = regression_combi(data, lags, validate_size, test_size)"
   ]
  },
  {
   "cell_type": "code",
   "execution_count": 12,
   "id": "180a9d03",
   "metadata": {},
   "outputs": [
    {
     "name": "stdout",
     "output_type": "stream",
     "text": [
      "CPU times: total: 0 ns\n",
      "Wall time: 0 ns\n",
      "y = 0.000482*x1 - 0.01001*x2 + 0.014102*x3 - 0.009262*x4 + 0.004287*x5 - 0.019176*x6 + 0.008529*x7 + 0.013416*x8 + 0.027205*x9 + 0.970369*x10 + 0.013856\n"
     ]
    }
   ],
   "source": [
    "%time\n",
    "y_pred_lr = regression(data, lags, validate_size)"
   ]
  },
  {
   "cell_type": "code",
   "execution_count": 13,
   "id": "4caa4cda",
   "metadata": {},
   "outputs": [],
   "source": [
    "#np.savetxt(\"Sber.csv\", np.asarray(data.values), delimiter=\",\")"
   ]
  },
  {
   "cell_type": "code",
   "execution_count": 71,
   "id": "4cad5eee",
   "metadata": {},
   "outputs": [
    {
     "data": {
      "image/png": "[encoded data removed]",
      "text/plain": [
       "<Figure size 1224x432 with 1 Axes>"
      ]
     },
     "metadata": {
      "needs_background": "light"
     },
     "output_type": "display_data"
    }
   ],
   "source": [
    "n = 20\n",
    "plt.figure(figsize=(17, 6))\n",
    "sns.lineplot(x=np.arange(n), y=splited_data.y_test[:n], label='original');\n",
    "sns.lineplot(x=np.arange(n), y=y_pred_combi[:n], label='combi');\n",
    "sns.lineplot(x=np.arange(n), y=y_pred_multi[:n], label='multi');\n",
    "sns.lineplot(x=np.arange(n), y=y_pred_mia[:n], label='mia');\n",
    "#sns.lineplot(x=np.arange(n), y=y_pred_lr_combi[:n], label='regr_combi');\n",
    "#sns.lineplot(x=np.arange(n), y=y_pred_lr[:n], label='regr');"
   ]
  },
  {
   "cell_type": "code",
   "execution_count": 86,
   "id": "c2b91a44",
   "metadata": {},
   "outputs": [],
   "source": [
    "def stat(y_real, y_pred):\n",
    "    print(\"right:\", ((y_real * y_pred > 0)).sum())\n",
    "    print(\"wrong:\", ((y_real * y_pred < 0)).sum())\n",
    "    print(\"zero:\", ((y_real * y_pred == 0)).sum())"
   ]
  },
  {
   "cell_type": "code",
   "execution_count": 89,
   "id": "ef14a7fe",
   "metadata": {},
   "outputs": [
    {
     "name": "stdout",
     "output_type": "stream",
     "text": [
      "right: 10181\n",
      "wrong: 9835\n",
      "zero: 304\n"
     ]
    }
   ],
   "source": [
    "print()\n",
    "stat(splited_data.y_test, y_pred_combi)"
   ]
  },
  {
   "cell_type": "code",
   "execution_count": 90,
   "id": "0c4c5450",
   "metadata": {},
   "outputs": [
    {
     "name": "stdout",
     "output_type": "stream",
     "text": [
      "right: 10181\n",
      "wrong: 9835\n",
      "zero: 304\n"
     ]
    }
   ],
   "source": [
    "stat(splited_data.y_test, y_pred_multi)"
   ]
  },
  {
   "cell_type": "code",
   "execution_count": 91,
   "id": "68875c73",
   "metadata": {},
   "outputs": [
    {
     "name": "stdout",
     "output_type": "stream",
     "text": [
      "right: 10010\n",
      "wrong: 10006\n",
      "zero: 304\n"
     ]
    }
   ],
   "source": [
    "stat(splited_data.y_test, y_pred_mia)"
   ]
  }
 ],
 "metadata": {
  "kernelspec": {
   "display_name": "Python 3 (ipykernel)",
   "language": "python",
   "name": "python3"
  },
  "language_info": {
   "codemirror_mode": {
    "name": "ipython",
    "version": 3
   },
   "file_extension": ".py",
   "mimetype": "text/x-python",
   "name": "python",
   "nbconvert_exporter": "python",
   "pygments_lexer": "ipython3",
   "version": "3.8.6"
  },
  "vscode": {
   "interpreter": {
    "hash": "117e2c7f3285f5d2f137d5e72113d05e6f04cb1a18347662a835ce34a0a2b260"
   }
  }
 },
 "nbformat": 4,
 "nbformat_minor": 5
}
