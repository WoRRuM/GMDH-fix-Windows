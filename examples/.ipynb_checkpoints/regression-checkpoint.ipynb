{
 "cells": [
  {
   "cell_type": "code",
   "execution_count": 1,
   "id": "f2612238",
   "metadata": {},
   "outputs": [],
   "source": [
    "import numpy as np\n",
    "import pandas as pd\n",
    "from sklearn.linear_model import LinearRegression\n",
    "from sklearn.metrics import mean_squared_error\n",
    "from sklearn.model_selection import train_test_split\n",
    "from itertools import combinations\n",
    "import sys\n",
    "import matplotlib.pyplot as plt\n",
    "import seaborn as sns\n",
    "import importlib.util"
   ]
  },
  {
   "cell_type": "code",
   "execution_count": 2,
   "id": "7758aea1",
   "metadata": {},
   "outputs": [],
   "source": [
    "#print(sys.path)"
   ]
  },
  {
   "cell_type": "code",
   "execution_count": 2,
   "id": "16699292",
   "metadata": {},
   "outputs": [],
   "source": [
    "sys.path.insert(1, \"C:/Users/Mi/Documents/Diploma/GMDH/build/Release\")\n",
    "sys.path.insert(1, \"/home/mikhail-xnor/Projects/GMDH/build\")"
   ]
  },
  {
   "cell_type": "code",
   "execution_count": 3,
   "id": "b4fabbb7",
   "metadata": {},
   "outputs": [],
   "source": [
    "import gmdhpy as gm"
   ]
  },
  {
   "cell_type": "code",
   "execution_count": 5,
   "id": "8c59118c",
   "metadata": {},
   "outputs": [
    {
     "data": {
      "text/plain": [
       "['COMBI',\n",
       " 'Criterion',\n",
       " 'CriterionType',\n",
       " 'GmdhModel',\n",
       " 'MIA',\n",
       " 'MULTI',\n",
       " 'ParallelCriterion',\n",
       " 'PolynomialType',\n",
       " 'RIA',\n",
       " 'SequentialCriterion',\n",
       " 'Solver',\n",
       " '__doc__',\n",
       " '__file__',\n",
       " '__loader__',\n",
       " '__name__',\n",
       " '__package__',\n",
       " '__spec__',\n",
       " 'splitData',\n",
       " 'splitted_data',\n",
       " 'timeSeriesTransformation']"
      ]
     },
     "execution_count": 5,
     "metadata": {},
     "output_type": "execute_result"
    }
   ],
   "source": [
    "dir(gm)"
   ]
  },
  {
   "cell_type": "code",
   "execution_count": 6,
   "id": "5b113d71",
   "metadata": {},
   "outputs": [],
   "source": [
    "def data_preparation(x, lags, validate_size, test_size=0):\n",
    "    #print(\"x: \", x)\n",
    "    x_data = list()\n",
    "    y_data = list()\n",
    "    for i in range(len(x) - lags):\n",
    "        x_data.append(list(x.values[i:i+lags]))\n",
    "        y_data.append(x.values[i+lags])\n",
    "    x_train, x_val, y_train, y_val = train_test_split(x_data, y_data, test_size=validate_size, shuffle=False)\n",
    "    x_train = np.array(x_train)\n",
    "    x_val = np.array(x_val)\n",
    "    #print(\"x_train:\\n\", x_train)\n",
    "    #print(\"y_train:\\n\", y_train)\n",
    "    #print(\"x_val:\\n\", x_val)\n",
    "    #print(\"y_val:\\n\", y_val)\n",
    "    if test_size > 0:\n",
    "        x_train, x_test, y_train, y_test = train_test_split(x_train, y_train, test_size=test_size, shuffle=False)\n",
    "        x_train = np.array(x_train)\n",
    "        x_test = np.array(x_test)\n",
    "        return x_train, y_train, x_test, y_test, x_val, y_val\n",
    "    else:\n",
    "        return x_train, y_train, x_val, y_val\n",
    "\n",
    "def print_polynom(polynom, coeffs):\n",
    "    best_polynom_str = \"y =\"\n",
    "    for i in range(len(polynom)):\n",
    "        if coeffs[i] > 0:\n",
    "            if i > 0:\n",
    "                best_polynom_str += \" + \"\n",
    "            else:\n",
    "                best_polynom_str += \" \"\n",
    "        else:\n",
    "            best_polynom_str += \" - \"\n",
    "        best_polynom_str += str(abs(coeffs[i]))\n",
    "        if i != len(coeffs) - 1:\n",
    "            best_polynom_str += \"*x\" + str(polynom[i] + 1)\n",
    "    print(best_polynom_str)"
   ]
  },
  {
   "cell_type": "code",
   "execution_count": 7,
   "id": "0bbc06a3",
   "metadata": {},
   "outputs": [],
   "source": [
    "def regression(x, lags, validate_size):\n",
    "    x_train, y_train, x_val, y_val = data_preparation(x, lags, validate_size)\n",
    "    lr = LinearRegression(n_jobs=-1)\n",
    "    lr.fit(x_train, y_train)\n",
    "    coeffs = list(lr.coef_)\n",
    "    coeffs.append(lr.intercept_)\n",
    "    coeffs = [round(coeff, 6) for coeff in coeffs]\n",
    "    y_pred = lr.predict(x_val)\n",
    "    error = round(mean_squared_error(y_pred, y_val), 6)\n",
    "    print_polynom(range(lags + 1), coeffs)\n",
    "    return y_pred"
   ]
  },
  {
   "cell_type": "code",
   "execution_count": 8,
   "id": "174d53ca",
   "metadata": {},
   "outputs": [],
   "source": [
    "def regression_combi(x, lags, validate_size, test_size):\n",
    "    x_train, y_train, x_test, y_test, x_val, y_val = data_preparation(x, lags, validate_size, test_size)\n",
    "    lr = LinearRegression(n_jobs=-1)\n",
    "    last_error = 100000000000000\n",
    "    best_coeffs = []\n",
    "    best_polynom = []\n",
    "    for level in range(1, x_train.shape[1] + 1):\n",
    "        errors = []\n",
    "        for comb in combinations(range(x_train.shape[1]), level):\n",
    "            lr.fit(x_train[:, comb], y_train)\n",
    "            coeffs = list(lr.coef_)\n",
    "            coeffs.append(lr.intercept_)\n",
    "            coeffs = [round(coeff, 6) for coeff in coeffs]\n",
    "            y_pred = lr.predict(x_test[:, comb])\n",
    "            error = round(mean_squared_error(y_pred, y_test), 6)\n",
    "            comb = list(comb)\n",
    "            comb.append(lags)\n",
    "            errors.append((error, coeffs, comb))\n",
    "        errors.sort()\n",
    "        #print(errors[0])\n",
    "        if last_error > errors[0][0]:\n",
    "            last_error = errors[0][0]\n",
    "            best_coeffs = errors[0][1]\n",
    "            best_polynom = errors[0][2]\n",
    "        else:\n",
    "            break\n",
    "    best_polynom_str = \"y =\"\n",
    "    print_polynom(best_polynom, best_coeffs)\n",
    "    y_pred = lr.fit(x_train[:, best_polynom[:-1]], y_train).predict(x_val[:, best_polynom[:-1]])\n",
    "    return y_pred"
   ]
  },
  {
   "cell_type": "code",
   "execution_count": 4,
   "id": "acf24b05",
   "metadata": {
    "scrolled": true
   },
   "outputs": [
    {
     "name": "stdout",
     "output_type": "stream",
     "text": [
      "CPU times: user 120 ms, sys: 52.2 ms, total: 173 ms\n",
      "Wall time: 168 ms\n"
     ]
    }
   ],
   "source": [
    "%%time\n",
    "data = pd.read_csv(\"Sberbank.csv\")['close'][:-50000]\n",
    "lags = 10\n",
    "test_size = 0.33\n",
    "validate_size = 0.2"
   ]
  },
  {
   "cell_type": "code",
   "execution_count": 5,
   "id": "94e7c4c3",
   "metadata": {},
   "outputs": [
    {
     "name": "stdout",
     "output_type": "stream",
     "text": [
      "CPU times: user 100 ms, sys: 23.6 ms, total: 124 ms\n",
      "Wall time: 120 ms\n"
     ]
    }
   ],
   "source": [
    "%%time\n",
    "mat, vec = gm.timeSeriesTransformation(data, lags)\n",
    "splited_data = gm.splitData(mat, vec, validate_size, False, 0)"
   ]
  },
  {
   "cell_type": "code",
   "execution_count": null,
   "id": "3c133e4f",
   "metadata": {
    "scrolled": false
   },
   "outputs": [
    {
     "name": "stdout",
     "output_type": "stream",
     "text": [
      "LEVEL 1  [============>                 ] 40% [00m:00s] (10 combinations)"
     ]
    },
    {
     "name": "stderr",
     "output_type": "stream",
     "text": [
      "<timed exec>:2: Warning: \n",
      "Warning! The input number of threads is incorrect!\n",
      "The default value is used (threads = 1)!\n",
      "\n"
     ]
    },
    {
     "name": "stdout",
     "output_type": "stream",
     "text": [
      "LEVEL 1  [==============================] 100% [00m:00s] (10 combinations)\n",
      "LEVEL 2  [==============================] 100% [00m:02s] (45 combinations)\n",
      "LEVEL 3  [===>                          ] 10% [00m:01s] (120 combinations)"
     ]
    }
   ],
   "source": [
    "%%time\n",
    "combi = gm.COMBI()\n",
    "combi.fit(splited_data.x_train, splited_data.y_train, gm.Criterion(gm.CriterionType.regularity, gm.Solver.accurate), test_size, 0, 0, 1, -10, 1);\n",
    "print(combi.getBestPolynomial())\n",
    "y_pred_combi = combi.predict(splited_data.x_test)"
   ]
  },
  {
   "cell_type": "code",
   "execution_count": null,
   "id": "a149ae28",
   "metadata": {
    "scrolled": true
   },
   "outputs": [],
   "source": [
    "%%time\n",
    "multi = gm.MULTI()\n",
    "multi.fit(splited_data.x_train, splited_data.y_train, gm.Criterion(gm.CriterionType.regularity, gm.Solver.accurate), 5, test_size, 0, 0, 1, -10, 1);\n",
    "print(multi.getBestPolynomial())\n",
    "y_pred_multi = multi.predict(splited_data.x_test)"
   ]
  },
  {
   "cell_type": "code",
   "execution_count": 9,
   "id": "1dba54da",
   "metadata": {},
   "outputs": [
    {
     "name": "stdout",
     "output_type": "stream",
     "text": [
      "Input data number of cols is not match number of cols of fitted data!\n"
     ]
    }
   ],
   "source": [
    "try:\n",
    "    y_pred_multi = multi.predict(np.delete(splited_data.x_test, -1, 1))\n",
    "except Exception as err:\n",
    "    print(err)"
   ]
  },
  {
   "cell_type": "code",
   "execution_count": 8,
   "id": "8f1678bd",
   "metadata": {},
   "outputs": [
    {
     "name": "stdout",
     "output_type": "stream",
     "text": [
      "LEVEL 1  [>                             ] 2% [00m:00s] (45 combinations)"
     ]
    },
    {
     "name": "stderr",
     "output_type": "stream",
     "text": [
      "<timed exec>:2: Warning: \n",
      "Warning! The input number of threads is incorrect!\n",
      "The default value is used (threads = 1)!\n",
      "\n",
      "<timed exec>:2: Warning: \n",
      "Warning! The input number of pAverage is incorrect!\n",
      "The default value is used (pAverage = 1)!\n",
      "\n"
     ]
    },
    {
     "name": "stdout",
     "output_type": "stream",
     "text": [
      "LEVEL 1  [==============================] 100% [00m:06s] (45 combinations)\n",
      "LEVEL 2  [==============================] 100% [00m:01s] (10 combinations)\n",
      "y = - 0.010132*x4 + 1.009860*x10 - 0.003874*x4*x10 + 0.001968*x4^2 + 0.001907*x10^2 + 0.017167\n",
      "CPU times: user 8.41 s, sys: 55.9 ms, total: 8.46 s\n",
      "Wall time: 8.1 s\n"
     ]
    }
   ],
   "source": [
    "%%time\n",
    "mia = gm.MIA()\n",
    "mia.fit(splited_data.x_train, splited_data.y_train, gm.Criterion(gm.CriterionType.regularity, gm.Solver.accurate), 5, gm.PolynomialType.quadratic, test_size, 0, 0, 0, -2, 1);\n",
    "print(mia.getBestPolynomial())\n",
    "y_pred_mia = mia.predict(splited_data.x_test)"
   ]
  },
  {
   "cell_type": "code",
   "execution_count": 9,
   "id": "ce3d58d7",
   "metadata": {},
   "outputs": [
    {
     "name": "stdout",
     "output_type": "stream",
     "text": [
      "LEVEL 1  [>                             ] 2% [00m:00s] (45 combinations)"
     ]
    },
    {
     "name": "stderr",
     "output_type": "stream",
     "text": [
      "<timed exec>:2: Warning: \n",
      "Warning! The input number of threads is incorrect!\n",
      "The default value is used (threads = 1)!\n",
      "\n",
      "<timed exec>:2: Warning: \n",
      "Warning! The input number of pAverage is incorrect!\n",
      "The default value is used (pAverage = 1)!\n",
      "\n"
     ]
    },
    {
     "name": "stdout",
     "output_type": "stream",
     "text": [
      "LEVEL 1  [==============================] 100% [00m:06s] (45 combinations)\n",
      "LEVEL 2  [==============================] 100% [00m:06s] (50 combinations)\n",
      "LEVEL 3  [==============================] 100% [00m:06s] (50 combinations)\n",
      "LEVEL 4  [==============================] 100% [00m:07s] (50 combinations)\n",
      "f1 = - 0.033468*x7 + 1.032746*x10 + 0.008461*x7*x10 - 0.004079*x7^2 - 0.004379*x10^2 + 0.037953\n",
      "f2 = 0.006460*x4 + 0.993943*f1 - 0.006699*x4*f1 + 0.003305*x4^2 + 0.003391*f1^2 - 0.018600\n",
      "y = 0.000076*x4 + 0.999909*f2 + 0.000280*x4*f2 - 0.000140*x4^2 - 0.000140*f2^2 + 0.000690\n",
      "CPU times: user 28.5 s, sys: 126 ms, total: 28.7 s\n",
      "Wall time: 28.1 s\n"
     ]
    }
   ],
   "source": [
    "%%time\n",
    "ria = gm.RIA()\n",
    "ria.fit(splited_data.x_train, splited_data.y_train, gm.Criterion(gm.CriterionType.regularity, gm.Solver.accurate), 5, gm.PolynomialType.quadratic, test_size, 0, 0, 0, -2, 1);\n",
    "print(ria.getBestPolynomial())\n",
    "y_pred_ria = ria.predict(splited_data.x_test)"
   ]
  },
  {
   "cell_type": "code",
   "execution_count": 16,
   "id": "dd6e726f",
   "metadata": {},
   "outputs": [
    {
     "name": "stdout",
     "output_type": "stream",
     "text": [
      "y = 0.007414*x1 - 0.005515*x2 - 0.008639*x4 + 0.014119*x9 + 0.992471*x10 + 0.013064\n",
      "CPU times: total: 29.1 s\n",
      "Wall time: 29.3 s\n"
     ]
    }
   ],
   "source": [
    "%%time\n",
    "y_pred_lr_combi = regression_combi(data, lags, validate_size, test_size)"
   ]
  },
  {
   "cell_type": "code",
   "execution_count": 17,
   "id": "180a9d03",
   "metadata": {},
   "outputs": [
    {
     "name": "stdout",
     "output_type": "stream",
     "text": [
      "CPU times: total: 0 ns\n",
      "Wall time: 0 ns\n",
      "y = 0.009259*x1 - 0.007186*x2 + 0.002076*x3 - 0.009886*x4 + 0.008726*x5 - 0.016363*x6 + 0.002292*x7 + 0.00249*x8 + 0.018962*x9 + 0.989674*x10 - 0.003019\n"
     ]
    }
   ],
   "source": [
    "%time\n",
    "y_pred_lr = regression(data, lags, validate_size)"
   ]
  },
  {
   "cell_type": "code",
   "execution_count": 18,
   "id": "4caa4cda",
   "metadata": {},
   "outputs": [],
   "source": [
    "#np.savetxt(\"Sber.csv\", np.asarray(data.values), delimiter=\",\")"
   ]
  },
  {
   "cell_type": "code",
   "execution_count": 12,
   "id": "4cad5eee",
   "metadata": {},
   "outputs": [
    {
     "data": {
      "image/png": "[encoded data removed]",
      "text/plain": [
       "<Figure size 1224x432 with 1 Axes>"
      ]
     },
     "metadata": {
      "needs_background": "light"
     },
     "output_type": "display_data"
    }
   ],
   "source": [
    "n = 20\n",
    "plt.figure(figsize=(17, 6))\n",
    "sns.lineplot(x=np.arange(n), y=splited_data.y_test[:n], label='original');\n",
    "sns.lineplot(x=np.arange(n), y=y_pred_combi[:n], label='combi');\n",
    "sns.lineplot(x=np.arange(n), y=y_pred_multi[:n], label='multi');\n",
    "sns.lineplot(x=np.arange(n), y=y_pred_mia[:n], label='mia');\n",
    "sns.lineplot(x=np.arange(n), y=y_pred_ria[:n], label='ria');\n",
    "#sns.lineplot(x=np.arange(n), y=y_pred_lr_combi[:n], label='regr_combi');\n",
    "#sns.lineplot(x=np.arange(n), y=y_pred_lr[:n], label='regr');"
   ]
  },
  {
   "cell_type": "code",
   "execution_count": 13,
   "id": "c2b91a44",
   "metadata": {},
   "outputs": [],
   "source": [
    "def stat(y_real, y_pred):\n",
    "    y_real_diff = np.diff(y_real)\n",
    "    y_pred_diff = np.diff(y_pred)\n",
    "    print(\"right:\", ((y_real_diff * y_pred_diff > 0)).sum())\n",
    "    print(\"wrong:\", ((y_real_diff * y_pred_diff < 0)).sum())\n",
    "    print(\"zero:\", ((y_real_diff * y_pred_diff == 0)).sum())"
   ]
  },
  {
   "cell_type": "code",
   "execution_count": 14,
   "id": "ef14a7fe",
   "metadata": {},
   "outputs": [
    {
     "name": "stdout",
     "output_type": "stream",
     "text": [
      "COMBI\n",
      "right: 9414\n",
      "wrong: 10602\n",
      "zero: 304\n",
      "\n",
      "MULTI\n",
      "right: 9414\n",
      "wrong: 10602\n",
      "zero: 304\n",
      "\n",
      "MIA\n",
      "right: 9424\n",
      "wrong: 10589\n",
      "zero: 307\n",
      "\n",
      "RIA\n",
      "right: 9419\n",
      "wrong: 10597\n",
      "zero: 304\n"
     ]
    }
   ],
   "source": [
    "print(\"COMBI\")\n",
    "stat(splited_data.y_test, y_pred_combi)\n",
    "print(\"\\nMULTI\")\n",
    "stat(splited_data.y_test, y_pred_multi)\n",
    "print(\"\\nMIA\")\n",
    "stat(splited_data.y_test, y_pred_mia)\n",
    "print(\"\\nRIA\")\n",
    "stat(splited_data.y_test, y_pred_ria)"
   ]
  }
 ],
 "metadata": {
  "kernelspec": {
   "display_name": "Python 3 (ipykernel)",
   "language": "python",
   "name": "python3"
  },
  "language_info": {
   "codemirror_mode": {
    "name": "ipython",
    "version": 3
   },
   "file_extension": ".py",
   "mimetype": "text/x-python",
   "name": "python",
   "nbconvert_exporter": "python",
   "pygments_lexer": "ipython3",
   "version": "3.8.6"
  },
  "vscode": {
   "interpreter": {
    "hash": "117e2c7f3285f5d2f137d5e72113d05e6f04cb1a18347662a835ce34a0a2b260"
   }
  }
 },
 "nbformat": 4,
 "nbformat_minor": 5
}
