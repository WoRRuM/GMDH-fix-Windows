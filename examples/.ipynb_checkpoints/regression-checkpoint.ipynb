{
 "cells": [
  {
   "cell_type": "code",
   "execution_count": 1,
   "id": "f2612238",
   "metadata": {},
   "outputs": [],
   "source": [
    "import numpy as np\n",
    "import pandas as pd\n",
    "from sklearn.linear_model import LinearRegression\n",
    "from sklearn.metrics import mean_squared_error\n",
    "from sklearn.model_selection import train_test_split\n",
    "from sklearn.metrics import mean_absolute_error, mean_squared_error, r2_score\n",
    "from itertools import combinations\n",
    "from sklearn.preprocessing import MinMaxScaler\n",
    "import sys\n",
    "import matplotlib.pyplot as plt\n",
    "import seaborn as sns\n",
    "import importlib.util"
   ]
  },
  {
   "cell_type": "code",
   "execution_count": null,
   "id": "7758aea1",
   "metadata": {},
   "outputs": [],
   "source": [
    "#print(sys.path)"
   ]
  },
  {
   "cell_type": "code",
   "execution_count": 2,
   "id": "16699292",
   "metadata": {},
   "outputs": [],
   "source": [
    "sys.path.insert(1, \"C:/Users/Mi/Documents/Diploma/GMDH/build/Release\")\n",
    "sys.path.insert(1, \"/home/mikhail-xnor/Projects/GMDH/build\")"
   ]
  },
  {
   "cell_type": "code",
   "execution_count": 3,
   "id": "b4fabbb7",
   "metadata": {},
   "outputs": [],
   "source": [
    "import gmdhpy as gm"
   ]
  },
  {
   "cell_type": "code",
   "execution_count": 4,
   "id": "8c59118c",
   "metadata": {},
   "outputs": [
    {
     "data": {
      "text/plain": [
       "['Combi',\n",
       " 'Criterion',\n",
       " 'CriterionType',\n",
       " 'GmdhModel',\n",
       " 'Mia',\n",
       " 'Multi',\n",
       " 'ParallelCriterion',\n",
       " 'PolynomialType',\n",
       " 'Ria',\n",
       " 'SequentialCriterion',\n",
       " 'Solver',\n",
       " '__doc__',\n",
       " '__file__',\n",
       " '__loader__',\n",
       " '__name__',\n",
       " '__package__',\n",
       " '__spec__',\n",
       " 'split_data',\n",
       " 'splitted_data',\n",
       " 'time_series_transformation']"
      ]
     },
     "execution_count": 4,
     "metadata": {},
     "output_type": "execute_result"
    }
   ],
   "source": [
    "dir(gm)"
   ]
  },
  {
   "cell_type": "code",
   "execution_count": null,
   "id": "5b113d71",
   "metadata": {},
   "outputs": [],
   "source": [
    "def data_preparation(x, lags, validate_size, test_size=0):\n",
    "    #print(\"x: \", x)\n",
    "    x_data = list()\n",
    "    y_data = list()\n",
    "    for i in range(len(x) - lags):\n",
    "        x_data.append(list(x.values[i:i+lags]))\n",
    "        y_data.append(x.values[i+lags])\n",
    "    x_train, x_val, y_train, y_val = train_test_split(x_data, y_data, test_size=validate_size, shuffle=False)\n",
    "    x_train = np.array(x_train)\n",
    "    x_val = np.array(x_val)\n",
    "    #print(\"x_train:\\n\", x_train)\n",
    "    #print(\"y_train:\\n\", y_train)\n",
    "    #print(\"x_val:\\n\", x_val)\n",
    "    #print(\"y_val:\\n\", y_val)\n",
    "    if test_size > 0:\n",
    "        x_train, x_test, y_train, y_test = train_test_split(x_train, y_train, test_size=test_size, shuffle=False)\n",
    "        x_train = np.array(x_train)\n",
    "        x_test = np.array(x_test)\n",
    "        return x_train, y_train, x_test, y_test, x_val, y_val\n",
    "    else:\n",
    "        return x_train, y_train, x_val, y_val\n",
    "\n",
    "def print_polynom(polynom, coeffs):\n",
    "    best_polynom_str = \"y =\"\n",
    "    for i in range(len(polynom)):\n",
    "        if coeffs[i] > 0:\n",
    "            if i > 0:\n",
    "                best_polynom_str += \" + \"\n",
    "            else:\n",
    "                best_polynom_str += \" \"\n",
    "        else:\n",
    "            best_polynom_str += \" - \"\n",
    "        best_polynom_str += str(abs(coeffs[i]))\n",
    "        if i != len(coeffs) - 1:\n",
    "            best_polynom_str += \"*x\" + str(polynom[i] + 1)\n",
    "    print(best_polynom_str)"
   ]
  },
  {
   "cell_type": "code",
   "execution_count": null,
   "id": "0bbc06a3",
   "metadata": {},
   "outputs": [],
   "source": [
    "def regression(x, lags, validate_size):\n",
    "    x_train, y_train, x_val, y_val = data_preparation(x, lags, validate_size)\n",
    "    lr = LinearRegression(n_jobs=-1)\n",
    "    lr.fit(x_train, y_train)\n",
    "    coeffs = list(lr.coef_)\n",
    "    coeffs.append(lr.intercept_)\n",
    "    coeffs = [round(coeff, 6) for coeff in coeffs]\n",
    "    y_pred = lr.predict(x_val)\n",
    "    error = round(mean_squared_error(y_pred, y_val), 6)\n",
    "    print_polynom(range(lags + 1), coeffs)\n",
    "    return y_pred"
   ]
  },
  {
   "cell_type": "code",
   "execution_count": null,
   "id": "174d53ca",
   "metadata": {},
   "outputs": [],
   "source": [
    "def regression_combi(x, lags, validate_size, test_size):\n",
    "    x_train, y_train, x_test, y_test, x_val, y_val = data_preparation(x, lags, validate_size, test_size)\n",
    "    lr = LinearRegression(n_jobs=-1)\n",
    "    last_error = 100000000000000\n",
    "    best_coeffs = []\n",
    "    best_polynom = []\n",
    "    for level in range(1, x_train.shape[1] + 1):\n",
    "        errors = []\n",
    "        for comb in combinations(range(x_train.shape[1]), level):\n",
    "            lr.fit(x_train[:, comb], y_train)\n",
    "            coeffs = list(lr.coef_)\n",
    "            coeffs.append(lr.intercept_)\n",
    "            coeffs = [round(coeff, 6) for coeff in coeffs]\n",
    "            y_pred = lr.predict(x_test[:, comb])\n",
    "            error = round(mean_squared_error(y_pred, y_test), 6)\n",
    "            comb = list(comb)\n",
    "            comb.append(lags)\n",
    "            errors.append((error, coeffs, comb))\n",
    "        errors.sort()\n",
    "        #print(errors[0])\n",
    "        if last_error > errors[0][0]:\n",
    "            last_error = errors[0][0]\n",
    "            best_coeffs = errors[0][1]\n",
    "            best_polynom = errors[0][2]\n",
    "        else:\n",
    "            break\n",
    "    best_polynom_str = \"y =\"\n",
    "    print_polynom(best_polynom, best_coeffs)\n",
    "    y_pred = lr.fit(x_train[:, best_polynom[:-1]], y_train).predict(x_val[:, best_polynom[:-1]])\n",
    "    return y_pred"
   ]
  },
  {
   "cell_type": "code",
   "execution_count": null,
   "id": "acf24b05",
   "metadata": {
    "scrolled": true
   },
   "outputs": [],
   "source": [
    "\"\"\"%%time\n",
    "data = pd.read_csv(\"Sberbank.csv\")['close'][:-50000]\n",
    "lags = 10\n",
    "test_size = 0.33\n",
    "validate_size = 0.2\n",
    "\n",
    "mat, vec = gm.time_series_transformation(data, lags)\n",
    "splited_data = gm.split_data(mat, vec, validate_size, False, 0)\"\"\""
   ]
  },
  {
   "cell_type": "code",
   "execution_count": 5,
   "id": "c813e224",
   "metadata": {},
   "outputs": [],
   "source": [
    "def print_metrics(y_test, y_pred):\n",
    "    print(f\"R^2: {r2_score(y_test, y_pred)}\")\n",
    "    print(f\"MSE: {mean_squared_error(y_test, y_pred)}\")\n",
    "    print(f\"MAE: {mean_absolute_error(y_test, y_pred)}\")"
   ]
  },
  {
   "cell_type": "code",
   "execution_count": 73,
   "id": "795848f0",
   "metadata": {},
   "outputs": [
    {
     "data": {
      "text/html": [
       "<div>\n",
       "<style scoped>\n",
       "    .dataframe tbody tr th:only-of-type {\n",
       "        vertical-align: middle;\n",
       "    }\n",
       "\n",
       "    .dataframe tbody tr th {\n",
       "        vertical-align: top;\n",
       "    }\n",
       "\n",
       "    .dataframe thead th {\n",
       "        text-align: right;\n",
       "    }\n",
       "</style>\n",
       "<table border=\"1\" class=\"dataframe\">\n",
       "  <thead>\n",
       "    <tr style=\"text-align: right;\">\n",
       "      <th></th>\n",
       "      <th>Company</th>\n",
       "      <th>Product</th>\n",
       "      <th>TypeName</th>\n",
       "      <th>Inches</th>\n",
       "      <th>Ram_GB</th>\n",
       "      <th>OpSys</th>\n",
       "      <th>Weight_kg</th>\n",
       "      <th>Price_euros</th>\n",
       "      <th>Touchscreen</th>\n",
       "      <th>ScreenWidth</th>\n",
       "      <th>...</th>\n",
       "      <th>Cpu_producer</th>\n",
       "      <th>Cpu_series</th>\n",
       "      <th>Cpu_model</th>\n",
       "      <th>Cpu_GHz</th>\n",
       "      <th>Gpu_producer</th>\n",
       "      <th>Gpu_model</th>\n",
       "      <th>Gpu_series</th>\n",
       "      <th>Memory1_GB</th>\n",
       "      <th>Memory1_type</th>\n",
       "      <th>Memory2_type</th>\n",
       "    </tr>\n",
       "  </thead>\n",
       "  <tbody>\n",
       "    <tr>\n",
       "      <th>0</th>\n",
       "      <td>Apple</td>\n",
       "      <td>MacBook Pro</td>\n",
       "      <td>Ultrabook</td>\n",
       "      <td>13.3</td>\n",
       "      <td>8</td>\n",
       "      <td>macOS</td>\n",
       "      <td>1.37</td>\n",
       "      <td>1339.69</td>\n",
       "      <td>0</td>\n",
       "      <td>2560</td>\n",
       "      <td>...</td>\n",
       "      <td>Intel</td>\n",
       "      <td>-</td>\n",
       "      <td>Core i5</td>\n",
       "      <td>2.3</td>\n",
       "      <td>Intel</td>\n",
       "      <td>Iris Plus Graphics</td>\n",
       "      <td>640</td>\n",
       "      <td>128</td>\n",
       "      <td>SSD</td>\n",
       "      <td>-</td>\n",
       "    </tr>\n",
       "    <tr>\n",
       "      <th>1</th>\n",
       "      <td>Apple</td>\n",
       "      <td>Macbook Air</td>\n",
       "      <td>Ultrabook</td>\n",
       "      <td>13.3</td>\n",
       "      <td>8</td>\n",
       "      <td>macOS</td>\n",
       "      <td>1.34</td>\n",
       "      <td>898.94</td>\n",
       "      <td>0</td>\n",
       "      <td>1440</td>\n",
       "      <td>...</td>\n",
       "      <td>Intel</td>\n",
       "      <td>-</td>\n",
       "      <td>Core i5</td>\n",
       "      <td>1.8</td>\n",
       "      <td>Intel</td>\n",
       "      <td>HD Graphics</td>\n",
       "      <td>6000</td>\n",
       "      <td>128</td>\n",
       "      <td>Flash Storage</td>\n",
       "      <td>-</td>\n",
       "    </tr>\n",
       "    <tr>\n",
       "      <th>2</th>\n",
       "      <td>HP</td>\n",
       "      <td>250 G6</td>\n",
       "      <td>Notebook</td>\n",
       "      <td>15.6</td>\n",
       "      <td>8</td>\n",
       "      <td>No OS</td>\n",
       "      <td>1.86</td>\n",
       "      <td>575.00</td>\n",
       "      <td>0</td>\n",
       "      <td>1920</td>\n",
       "      <td>...</td>\n",
       "      <td>Intel</td>\n",
       "      <td>7200U</td>\n",
       "      <td>Core i5</td>\n",
       "      <td>2.5</td>\n",
       "      <td>Intel</td>\n",
       "      <td>HD Graphics</td>\n",
       "      <td>620</td>\n",
       "      <td>256</td>\n",
       "      <td>SSD</td>\n",
       "      <td>-</td>\n",
       "    </tr>\n",
       "    <tr>\n",
       "      <th>3</th>\n",
       "      <td>Apple</td>\n",
       "      <td>MacBook Pro</td>\n",
       "      <td>Ultrabook</td>\n",
       "      <td>15.4</td>\n",
       "      <td>16</td>\n",
       "      <td>macOS</td>\n",
       "      <td>1.83</td>\n",
       "      <td>2537.45</td>\n",
       "      <td>0</td>\n",
       "      <td>2880</td>\n",
       "      <td>...</td>\n",
       "      <td>Intel</td>\n",
       "      <td>-</td>\n",
       "      <td>Core i7</td>\n",
       "      <td>2.7</td>\n",
       "      <td>AMD</td>\n",
       "      <td>Radeon Pro</td>\n",
       "      <td>455</td>\n",
       "      <td>512</td>\n",
       "      <td>SSD</td>\n",
       "      <td>-</td>\n",
       "    </tr>\n",
       "    <tr>\n",
       "      <th>4</th>\n",
       "      <td>Apple</td>\n",
       "      <td>MacBook Pro</td>\n",
       "      <td>Ultrabook</td>\n",
       "      <td>13.3</td>\n",
       "      <td>8</td>\n",
       "      <td>macOS</td>\n",
       "      <td>1.37</td>\n",
       "      <td>1803.60</td>\n",
       "      <td>0</td>\n",
       "      <td>2560</td>\n",
       "      <td>...</td>\n",
       "      <td>Intel</td>\n",
       "      <td>-</td>\n",
       "      <td>Core i5</td>\n",
       "      <td>3.1</td>\n",
       "      <td>Intel</td>\n",
       "      <td>Iris Plus Graphics</td>\n",
       "      <td>650</td>\n",
       "      <td>256</td>\n",
       "      <td>SSD</td>\n",
       "      <td>-</td>\n",
       "    </tr>\n",
       "  </tbody>\n",
       "</table>\n",
       "<p>5 rows × 21 columns</p>\n",
       "</div>"
      ],
      "text/plain": [
       "  Company      Product   TypeName  Inches  Ram_GB  OpSys  Weight_kg  \\\n",
       "0   Apple  MacBook Pro  Ultrabook    13.3       8  macOS       1.37   \n",
       "1   Apple  Macbook Air  Ultrabook    13.3       8  macOS       1.34   \n",
       "2      HP       250 G6   Notebook    15.6       8  No OS       1.86   \n",
       "3   Apple  MacBook Pro  Ultrabook    15.4      16  macOS       1.83   \n",
       "4   Apple  MacBook Pro  Ultrabook    13.3       8  macOS       1.37   \n",
       "\n",
       "   Price_euros  Touchscreen  ScreenWidth  ...  Cpu_producer Cpu_series  \\\n",
       "0      1339.69            0         2560  ...         Intel          -   \n",
       "1       898.94            0         1440  ...         Intel          -   \n",
       "2       575.00            0         1920  ...         Intel      7200U   \n",
       "3      2537.45            0         2880  ...         Intel          -   \n",
       "4      1803.60            0         2560  ...         Intel          -   \n",
       "\n",
       "  Cpu_model Cpu_GHz  Gpu_producer           Gpu_model Gpu_series Memory1_GB  \\\n",
       "0   Core i5     2.3         Intel  Iris Plus Graphics        640        128   \n",
       "1   Core i5     1.8         Intel         HD Graphics       6000        128   \n",
       "2   Core i5     2.5         Intel         HD Graphics        620        256   \n",
       "3   Core i7     2.7           AMD          Radeon Pro        455        512   \n",
       "4   Core i5     3.1         Intel  Iris Plus Graphics        650        256   \n",
       "\n",
       "    Memory1_type Memory2_type  \n",
       "0            SSD            -  \n",
       "1  Flash Storage            -  \n",
       "2            SSD            -  \n",
       "3            SSD            -  \n",
       "4            SSD            -  \n",
       "\n",
       "[5 rows x 21 columns]"
      ]
     },
     "execution_count": 73,
     "metadata": {},
     "output_type": "execute_result"
    }
   ],
   "source": [
    "data = pd.read_csv(\"laptop_price.csv\")\n",
    "#data = data[data.columns[data.dtypes != object]].drop(['laptop_ID', 'Memory2_GB'], axis=1)\n",
    "data = data.drop(['laptop_ID', 'Memory2_GB'], axis=1)\n",
    "data = data.drop(data[data['Ram_GB'] == 64].index)\n",
    "test_size = 0.2\n",
    "validate_size = 0.2\n",
    "data.head()"
   ]
  },
  {
   "cell_type": "code",
   "execution_count": 74,
   "id": "817b23ba",
   "metadata": {},
   "outputs": [
    {
     "name": "stdout",
     "output_type": "stream",
     "text": [
      "Company: 19\n",
      "Product: 617\n",
      "TypeName: 6\n",
      "OpSys: 9\n",
      "Cpu_producer: 3\n",
      "Cpu_series: 88\n",
      "Cpu_model: 20\n",
      "Gpu_producer: 4\n",
      "Gpu_model: 26\n",
      "Gpu_series: 75\n",
      "Memory1_type: 4\n",
      "Memory2_type: 4\n"
     ]
    }
   ],
   "source": [
    "category_cols = data.columns[data.dtypes == object]\n",
    "for col in category_cols:\n",
    "    print(f'{col}: {data[col].unique().size}')"
   ]
  },
  {
   "cell_type": "code",
   "execution_count": 75,
   "id": "3ceb77de",
   "metadata": {},
   "outputs": [],
   "source": [
    "data = pd.get_dummies(data=data.drop(['Product'], axis=1), columns=category_cols.drop(['Product']))\n",
    "splited_data = gm.split_data(data.drop(['Price_euros'], axis=1), data['Price_euros'])\n",
    "scaler = MinMaxScaler().fit(splited_data.x_train)\n",
    "splited_data.x_train = scaler.transform(splited_data.x_train);\n",
    "splited_data.x_test = scaler.transform(splited_data.x_test);"
   ]
  },
  {
   "cell_type": "code",
   "execution_count": null,
   "id": "3c133e4f",
   "metadata": {
    "scrolled": false
   },
   "outputs": [
    {
     "name": "stdout",
     "output_type": "stream",
     "text": [
      "LEVEL 1  [==============================] 100% [00m:00s] (103 combinations)                                             \n"
     ]
    },
    {
     "name": "stderr",
     "output_type": "stream",
     "text": [
      "<timed exec>:2: Warning: \n",
      "Warning! The input number of pAverage is incorrect!\n",
      "The default value is used (pAverage = 1)!\n",
      "\n"
     ]
    },
    {
     "name": "stdout",
     "output_type": "stream",
     "text": [
      "LEVEL 2  [==============================] 100% [00m:00s] (5253 combinations)                                            \n",
      "LEVEL 3  [==============================] 100% [00m:05s] (176851 combinations)                                          \n",
      "LEVEL 4  [>                             ] 2% [00m:04s] (4421275 combinations)                                           \r"
     ]
    }
   ],
   "source": [
    "%%time\n",
    "combi = gm.Combi()\n",
    "combi.fit(splited_data.x_train, splited_data.y_train, gm.Criterion(gm.CriterionType.regularity, gm.Solver.accurate), test_size, True, 17, 0, -1, 1, 0)\n",
    "print(combi.get_best_polynomial())\n",
    "y_pred_combi = combi.predict(splited_data.x_test)"
   ]
  },
  {
   "cell_type": "code",
   "execution_count": 204,
   "id": "ce8f4af1",
   "metadata": {},
   "outputs": [
    {
     "name": "stdout",
     "output_type": "stream",
     "text": [
      "R^2: 0.5656537104846866\n",
      "MSE: 194191.66116391218\n",
      "MAE: 306.37671592064873\n"
     ]
    }
   ],
   "source": [
    "print_metrics(splited_data.y_test, y_pred_combi)"
   ]
  },
  {
   "cell_type": "code",
   "execution_count": 79,
   "id": "a149ae28",
   "metadata": {
    "scrolled": false
   },
   "outputs": [
    {
     "name": "stdout",
     "output_type": "stream",
     "text": [
      "LEVEL 1  [==============================] 100% [00m:00s] (266 combinations)                                             \n",
      "LEVEL 2  [>                             ] 0% [00m:00s] (792 combinations)                                               \r"
     ]
    },
    {
     "name": "stderr",
     "output_type": "stream",
     "text": [
      "<timed exec>:2: Warning: \n",
      "Warning! The input number of pAverage is incorrect!\n",
      "The default value is used (pAverage = 1)!\n",
      "\n"
     ]
    },
    {
     "name": "stdout",
     "output_type": "stream",
     "text": [
      "LEVEL 2  [==============================] 100% [00m:00s] (792 combinations)                                             \n",
      "LEVEL 3  [==============================] 100% [00m:00s] (789 combinations)                                             \n",
      "LEVEL 4  [==============================] 100% [00m:00s] (787 combinations)                                             \n",
      "LEVEL 5  [==============================] 100% [00m:00s] (784 combinations)                                             \n",
      "LEVEL 6  [==============================] 100% [00m:00s] (781 combinations)                                             \n",
      "LEVEL 7  [==============================] 100% [00m:00s] (778 combinations)                                             \n",
      "LEVEL 8  [==============================] 100% [00m:00s] (774 combinations)                                             \n",
      "LEVEL 9  [==============================] 100% [00m:00s] (772 combinations)                                             \n",
      "LEVEL 10 [==============================] 100% [00m:00s] (768 combinations)                                             \n",
      "LEVEL 11 [==============================] 100% [00m:00s] (767 combinations)                                             \n",
      "LEVEL 12 [==============================] 100% [00m:00s] (764 combinations)                                             \n",
      "LEVEL 13 [==============================] 100% [00m:00s] (760 combinations)                                             \n",
      "LEVEL 14 [==============================] 100% [00m:00s] (757 combinations)                                             \n",
      "LEVEL 15 [==============================] 100% [00m:00s] (754 combinations)                                             \n",
      "LEVEL 16 [==============================] 100% [00m:00s] (751 combinations)                                             \n",
      "LEVEL 17 [==============================] 100% [00m:00s] (748 combinations)                                             \n",
      "LEVEL 18 [==============================] 100% [00m:00s] (745 combinations)                                             \n",
      "LEVEL 19 [==============================] 100% [00m:00s] (742 combinations)                                             \n",
      "LEVEL 20 [==============================] 100% [00m:00s] (738 combinations)                                             \n",
      "LEVEL 21 [==============================] 100% [00m:00s] (736 combinations)                                             \n",
      "LEVEL 22 [==============================] 100% [00m:00s] (733 combinations)                                             \n",
      "LEVEL 23 [==============================] 100% [00m:00s] (729 combinations)                                             \n",
      "LEVEL 24 [==============================] 100% [00m:00s] (727 combinations)                                             \n",
      "LEVEL 25 [==============================] 100% [00m:00s] (723 combinations)                                             \n",
      "LEVEL 26 [==============================] 100% [00m:00s] (721 combinations)                                             \n",
      "LEVEL 27 [==============================] 100% [00m:00s] (718 combinations)                                             \n",
      "LEVEL 28 [==============================] 100% [00m:00s] (715 combinations)                                             \n",
      "LEVEL 29 [==============================] 100% [00m:00s] (711 combinations)                                             \n",
      "LEVEL 30 [==============================] 100% [00m:00s] (709 combinations)                                             \n",
      "LEVEL 31 [==============================] 100% [00m:00s] (705 combinations)                                             \n",
      "LEVEL 32 [==============================] 100% [00m:00s] (702 combinations)                                             \n",
      "LEVEL 33 [==============================] 100% [00m:00s] (701 combinations)                                             \n",
      "LEVEL 34 [==============================] 100% [00m:00s] (696 combinations)                                             \n",
      "LEVEL 35 [==============================] 100% [00m:00s] (694 combinations)                                             \n",
      "LEVEL 36 [==============================] 100% [00m:00s] (692 combinations)                                             \n",
      "LEVEL 37 [==============================] 100% [00m:00s] (689 combinations)                                             \n",
      "LEVEL 38 [==============================] 100% [00m:00s] (684 combinations)                                             \n",
      "LEVEL 39 [==============================] 100% [00m:00s] (682 combinations)                                             \n",
      "LEVEL 40 [==============================] 100% [00m:00s] (678 combinations)                                             \n",
      "LEVEL 41 [==============================] 100% [00m:00s] (677 combinations)                                             \n",
      "LEVEL 42 [==============================] 100% [00m:00s] (672 combinations)                                             \n",
      "LEVEL 43 [==============================] 100% [00m:00s] (671 combinations)                                             \n",
      "LEVEL 44 [==============================] 100% [00m:00s] (666 combinations)                                             \n",
      "LEVEL 45 [==============================] 100% [00m:00s] (663 combinations)                                             \n",
      "LEVEL 46 [==============================] 100% [00m:00s] (661 combinations)                                             \n",
      "LEVEL 47 [==============================] 100% [00m:00s] (658 combinations)                                             \n",
      "LEVEL 48 [==============================] 100% [00m:00s] (655 combinations)                                             \n",
      "LEVEL 49 [==============================] 100% [00m:00s] (652 combinations)                                             \n",
      "LEVEL 50 [==============================] 100% [00m:00s] (648 combinations)                                             \n",
      "LEVEL 51 [==============================] 100% [00m:00s] (646 combinations)                                             \n",
      "LEVEL 52 [==============================] 100% [00m:01s] (644 combinations)                                             \n",
      "LEVEL 53 [==============================] 100% [00m:01s] (640 combinations)                                             \n",
      "LEVEL 54 [==============================] 100% [00m:01s] (637 combinations)                                             \n",
      "LEVEL 55 [==============================] 100% [00m:01s] (634 combinations)                                             \n",
      "LEVEL 56 [==============================] 100% [00m:01s] (631 combinations)                                             \n",
      "LEVEL 57 [==============================] 100% [00m:01s] (628 combinations)                                             \n",
      "LEVEL 58 [==============================] 100% [00m:01s] (625 combinations)                                             \n",
      "LEVEL 59 [==============================] 100% [00m:01s] (623 combinations)                                             \n",
      "LEVEL 60 [==============================] 100% [00m:01s] (618 combinations)                                             \n",
      "LEVEL 61 [==============================] 100% [00m:01s] (616 combinations)                                             \n",
      "LEVEL 62 [==============================] 100% [00m:01s] (613 combinations)                                             \n",
      "LEVEL 63 [==============================] 100% [00m:01s] (610 combinations)                                             \n",
      "LEVEL 64 [==============================] 100% [00m:01s] (607 combinations)                                             \n",
      "LEVEL 65 [==============================] 100% [00m:01s] (604 combinations)                                             \n",
      "LEVEL 66 [==============================] 100% [00m:01s] (601 combinations)                                             \n",
      "LEVEL 67 [==============================] 100% [00m:01s] (598 combinations)                                             \n",
      "LEVEL 68 [==============================] 100% [00m:01s] (595 combinations)                                             \n"
     ]
    },
    {
     "name": "stdout",
     "output_type": "stream",
     "text": [
      "LEVEL 69 [==============================] 100% [00m:01s] (592 combinations)                                             \n",
      "LEVEL 70 [==============================] 100% [00m:01s] (588 combinations)                                             \n",
      "LEVEL 71 [==============================] 100% [00m:02s] (585 combinations)                                             \n",
      "LEVEL 72 [==============================] 100% [00m:02s] (582 combinations)                                             \n",
      "LEVEL 73 [==============================] 100% [00m:01s] (579 combinations)                                             \n",
      "LEVEL 74 [==============================] 100% [00m:01s] (576 combinations)                                             \n",
      "LEVEL 75 [==============================] 100% [00m:01s] (573 combinations)                                             \n",
      "LEVEL 76 [==============================] 100% [00m:01s] (570 combinations)                                             \n",
      "LEVEL 77 [==============================] 100% [00m:01s] (567 combinations)                                             \n",
      "LEVEL 78 [==============================] 100% [00m:01s] (564 combinations)                                             \n",
      "LEVEL 79 [==============================] 100% [00m:02s] (561 combinations)                                             \n",
      "LEVEL 80 [==============================] 100% [00m:02s] (558 combinations)                                             \n",
      "LEVEL 81 [==============================] 100% [00m:01s] (555 combinations)                                             \n",
      "LEVEL 82 [==============================] 100% [00m:01s] (553 combinations)                                             \n",
      "LEVEL 83 [==============================] 100% [00m:01s] (550 combinations)                                             \n",
      "LEVEL 84 [==============================] 100% [00m:01s] (547 combinations)                                             \n",
      "LEVEL 85 [==============================] 100% [00m:01s] (544 combinations)                                             \n",
      "LEVEL 86 [==============================] 100% [00m:02s] (541 combinations)                                             \n",
      "LEVEL 87 [==============================] 100% [00m:02s] (538 combinations)                                             \n",
      "LEVEL 88 [==============================] 100% [00m:02s] (535 combinations)                                             \n",
      "LEVEL 89 [==============================] 100% [00m:02s] (532 combinations)                                             \n",
      "LEVEL 90 [==============================] 100% [00m:02s] (529 combinations)                                             \n",
      "LEVEL 91 [==============================] 100% [00m:02s] (526 combinations)                                             \n",
      "LEVEL 92 [==============================] 100% [00m:02s] (523 combinations)                                             \n",
      "y = 68.1576*x1 + 1264.0104*x2 + 583.3418*x6 + 876.9094*x7 - 133.7545*x9 - 90.0244*x11 - 281.2344*x12 - 147.4882*x14 + 512.5186*x18 - 249.8333*x21 + 698.1163*x23 + 114.7603*x25 + 52.8582*x27 - 217.5045*x29 - 208.7145*x31 + 73.9833*x32 - 118.8062*x36 + 70.2661*x37 - 190.2924*x38 + 127.4333*x44 + 0*x49 + 145.0611*x53 - 37.4655*x54 - 77.5572*x55 - 342.3904*x57 - 144.2959*x61 + 696.8797*x70 - 252.6105*x74 - 245.1183*x75 + 179.2022*x78 - 382.5866*x79 - 194.4915*x81 - 481.9592*x82 + 647.8508*x86 + 79.5926*x87 - 181.0245*x101 - 178.7533*x102 + 9.4712*x110 - 337.0573*x111 + 1778.3219*x114 + 1319.3085*x115 + 0*x117 + 4.8364*x120 - 480.8776*x135 - 263.5042*x137 - 472.8783*x139 - 87.4755*x140 - 423.0498*x144 - 50.7167*x145 - 433.8248*x149 - 211.5708*x158 - 44.4892*x160 + 140.3568*x162 - 271.4232*x164 - 122.5084*x166 + 593.1237*x170 - 145.6158*x171 - 107.5831*x176 - 166.312*x177 - 216.4387*x179 - 117.6892*x184 - 351.7283*x185 - 383.0337*x187 + 462.3886*x189 + 841.1845*x191 - 321.8835*x194 - 296.2974*x195 - 272.4787*x196 - 149.4795*x198 - 269.921*x200 + 17.8042*x201 - 66.5539*x203 - 120.457*x210 + 30.0479*x212 - 84.2138*x213 - 31.9759*x215 + 0*x216 - 277.2472*x221 - 115.6649*x222 - 145.6119*x223 - 801.2264*x225 - 389.8846*x226 - 136.3634*x228 - 114.2921*x230 + 47.1288*x238 + 0*x248 - 389.0656*x249 + 260.6452*x256 + 49.4649*x259 + 131.216*x262 - 316.8293*x266 + 329.5974\n",
      "CPU times: total: 10min 47s\n",
      "Wall time: 1min 36s\n"
     ]
    }
   ],
   "source": [
    "%%time\n",
    "multi = gm.Multi()\n",
    "multi.fit(splited_data.x_train, splited_data.y_train, gm.Criterion(gm.CriterionType.sym_regularity, gm.Solver.accurate), 3, test_size, True, 17, 0, -1, 1, 0);\n",
    "print(multi.get_best_polynomial())\n",
    "y_pred_multi = multi.predict(splited_data.x_test)"
   ]
  },
  {
   "cell_type": "code",
   "execution_count": 78,
   "id": "cd6d7adb",
   "metadata": {},
   "outputs": [
    {
     "name": "stdout",
     "output_type": "stream",
     "text": [
      "R^2: 0.6244395838374212\n",
      "MSE: 167909.11501374783\n",
      "MAE: 267.4610519868797\n"
     ]
    }
   ],
   "source": [
    "print_metrics(splited_data.y_test, y_pred_multi)"
   ]
  },
  {
   "cell_type": "code",
   "execution_count": 11,
   "id": "1dba54da",
   "metadata": {},
   "outputs": [
    {
     "name": "stdout",
     "output_type": "stream",
     "text": [
      "Input data number of cols is not match number of cols of fitted data!\n"
     ]
    }
   ],
   "source": [
    "try:\n",
    "    y_pred_multi = multi.predict(np.delete(splited_data.x_test, -1, 1))\n",
    "except Exception as err:\n",
    "    print(err)"
   ]
  },
  {
   "cell_type": "code",
   "execution_count": 48,
   "id": "8f1678bd",
   "metadata": {
    "scrolled": false
   },
   "outputs": [
    {
     "name": "stdout",
     "output_type": "stream",
     "text": [
      "LEVEL 1  [>                             ] 1% [00m:00s] (5253 combinations)                                              \r"
     ]
    },
    {
     "name": "stderr",
     "output_type": "stream",
     "text": [
      "<timed exec>:2: Warning: \n",
      "Warning! The input number of threads is incorrect!\n",
      "The default value is used (threads = 1)!\n",
      "\n",
      "<timed exec>:2: Warning: \n",
      "Warning! The input number of pAverage is incorrect!\n",
      "The default value is used (pAverage = 1)!\n",
      "\n"
     ]
    },
    {
     "name": "stdout",
     "output_type": "stream",
     "text": [
      "LEVEL 1  [==============================] 100% [00m:01s] (5253 combinations)                                            \n",
      "LEVEL 2  [==============================] 100% [00m:00s] (55 combinations)                                              \n",
      "LEVEL 3  [==============================] 100% [00m:00s] (55 combinations)                                              \n",
      "LEVEL 4  [==============================] 100% [00m:00s] (55 combinations)                                              \n",
      "LEVEL 5  [==============================] 100% [00m:00s] (55 combinations)                                              \n",
      "LEVEL 6  [==============================] 100% [00m:00s] (55 combinations)                                              \n",
      "f1_1 = 2992.5627*x2 + 1439.3667*x6 + 1384.4121*x2*x6 - 896.4023*x2^2 - 1051.1522*x6^2 + 238.8846\n",
      "f1_2 = 2989.8353*x2 + 1477.098*x5 + 1374.0232*x2*x5 - 892.4272*x2^2 - 1081.4545*x5^2 + 237.302\n",
      "f1_3 = 3990.651*x2 + 0*x82 + 335.6401*x2*x82 - 1013.8672*x2^2 + 747.5215*x82^2 + 324.174\n",
      "f1_4 = 4179.2979*x2 + 0*x97 - 1746.7284*x2*x97 - 1229.5807*x2^2 - 23.74*x97^2 + 392.0691\n",
      "f1_5 = 4325.0311*x2 - 2936.264*x3 - 648.2854*x2*x3 - 1262.7822*x2^2 + 3436.6539*x3^2 + 850.082\n",
      "f1_6 = 3257.6264*x2 + 4.02609e+16*x31 - 242.7801*x2*x31 - 715.0668*x2^2 - 4.02609e+16*x31^2 + 780.5846\n",
      "f1_7 = 4272.2432*x2 + 0*x83 - 1301.3762*x2*x83 - 1212.2304*x2^2 - 16.4768*x83^2 + 312.1752\n",
      "\n",
      "f2_1 = - 0.2914*f1_3 + 1.3531*f1_5 - 0.0017*f1_3*f1_5 + 0.001*f1_3^2 + 0.0007*f1_5^2 - 47.5376\n",
      "f2_2 = 0.5148*f1_3 + 0.3587*f1_6 - 0.0012*f1_3*f1_6 + 0.0005*f1_3^2 + 0.0007*f1_6^2 + 37.7456\n",
      "f2_3 = 0.2764*f1_2 + 0.8345*f1_4 + 0.002*f1_2*f1_4 - 0.0008*f1_2^2 - 0.0012*f1_4^2 - 65.54\n",
      "f2_4 = 0.2436*f1_1 + 0.8074*f1_6 + 0.0004*f1_1*f1_6 - 8.90126e-05*f1_1^2 - 0.0004*f1_6^2 - 20.5185\n",
      "f2_5 = 0.5969*f1_1 + 0.3823*f1_7 + 0.0025*f1_1*f1_7 - 0.0011*f1_1^2 - 0.0014*f1_7^2 + 15.3474\n",
      "\n",
      "f3_1 = 0.6622*f2_1 + 0.4286*f2_5 - 0.001*f2_1*f2_5 + 0.0005*f2_1^2 + 0.0005*f2_5^2 - 72.5666\n",
      "f3_2 = 0.5384*f2_1 + 0.5404*f2_3 - 0.0011*f2_1*f2_3 + 0.0005*f2_1^2 + 0.0005*f2_3^2 - 63.4305\n",
      "f3_3 = - 0.1476*f2_2 + 1.2051*f2_4 - 0.0023*f2_2*f2_4 + 0.0012*f2_2^2 + 0.001*f2_4^2 - 19.2109\n",
      "\n",
      "f4_1 = 0.03*f3_1 + 0.958*f3_3 - 0.0005*f3_1*f3_3 + 0.0004*f3_1^2 + 5.47238e-05*f3_3^2 - 2.0735\n",
      "f4_2 = 0.251*f3_2 + 0.7514*f3_3 - 9.62605e-05*f3_2*f3_3 + 0.0002*f3_2^2 - 9.06265e-05*f3_3^2 - 9.7432\n",
      "\n",
      "y = 1.2973*f4_1 - 0.2974*f4_2 + 0.0745*f4_1*f4_2 - 0.0375*f4_1^2 - 0.037*f4_2^2 + 21.113\n",
      "CPU times: total: 1.78 s\n",
      "Wall time: 1.39 s\n"
     ]
    }
   ],
   "source": [
    "%%time\n",
    "mia = gm.Mia()\n",
    "mia.fit(splited_data.x_train, splited_data.y_train, gm.Criterion(gm.CriterionType.regularity, gm.Solver.accurate), 11, gm.PolynomialType.quadratic, test_size, 1, 0, 0, -10, 1);\n",
    "print(mia.get_best_polynomial())\n",
    "y_pred_mia = mia.predict(splited_data.x_test)"
   ]
  },
  {
   "cell_type": "code",
   "execution_count": 49,
   "id": "5114effb",
   "metadata": {
    "scrolled": true
   },
   "outputs": [
    {
     "name": "stdout",
     "output_type": "stream",
     "text": [
      "R^2: 0.5895994376659515\n",
      "MSE: 183485.7782051867\n",
      "MAE: 298.8766955481466\n"
     ]
    }
   ],
   "source": [
    "print_metrics(splited_data.y_test, y_pred_mia)"
   ]
  },
  {
   "cell_type": "code",
   "execution_count": 61,
   "id": "ce3d58d7",
   "metadata": {
    "scrolled": false
   },
   "outputs": [
    {
     "name": "stdout",
     "output_type": "stream",
     "text": [
      "LEVEL 1  [>                             ] 2% [00m:00s] (5253 combinations)                                              \r"
     ]
    },
    {
     "name": "stderr",
     "output_type": "stream",
     "text": [
      "<timed exec>:2: Warning: \n",
      "Warning! The input number of threads is incorrect!\n",
      "The default value is used (threads = 1)!\n",
      "\n"
     ]
    },
    {
     "name": "stdout",
     "output_type": "stream",
     "text": [
      "LEVEL 1  [==============================] 100% [00m:01s] (5253 combinations)                                            \n",
      "LEVEL 2  [==============================] 100% [00m:00s] (515 combinations)                                             \n",
      "LEVEL 3  [==============================] 100% [00m:00s] (515 combinations)                                             \n",
      "LEVEL 4  [==============================] 100% [00m:00s] (515 combinations)                                             \n",
      "LEVEL 5  [==============================] 100% [00m:00s] (515 combinations)                                             \n",
      "LEVEL 6  [==============================] 100% [00m:00s] (515 combinations)                                             \n",
      "LEVEL 7  [==============================] 100% [00m:00s] (515 combinations)                                             \n",
      "LEVEL 8  [==============================] 100% [00m:00s] (515 combinations)                                             \n",
      "LEVEL 9  [==============================] 100% [00m:00s] (515 combinations)                                             \n",
      "LEVEL 10 [==============================] 100% [00m:00s] (515 combinations)                                             \n",
      "LEVEL 11 [==============================] 100% [00m:00s] (515 combinations)                                             \n",
      "LEVEL 12 [==============================] 100% [00m:00s] (515 combinations)                                             \n",
      "LEVEL 13 [==============================] 100% [00m:00s] (515 combinations)                                             \n",
      "LEVEL 14 [==============================] 100% [00m:00s] (515 combinations)                                             \n",
      "LEVEL 15 [==============================] 100% [00m:00s] (515 combinations)                                             \n",
      "LEVEL 16 [==============================] 100% [00m:00s] (515 combinations)                                             \n",
      "LEVEL 17 [==============================] 100% [00m:00s] (515 combinations)                                             \n",
      "LEVEL 18 [==============================] 100% [00m:00s] (515 combinations)                                             \n",
      "f1 = 2910.7836*x2 - 358.6881*x31 + 663.4766\n",
      "f2 = 852.474*x5 + 0.8612*f1 - 34.8757\n",
      "f3 = 512.4569*x7 + 0.9352*f2 - 190.1584\n",
      "f4 = 802.9767*x82 + 0.9574*f3 + 22.2561\n",
      "f5 = 108.0083*x68 + 1.0283*f4 - 86.9497\n",
      "f6 = 157.0206*x99 + 0.9465*f5 - 46.553\n",
      "f7 = - 143.4199*x38 + 0.9924*f6 + 16.6071\n",
      "f8 = 79.8209*x25 + 0.9996*f7 - 1.9634\n",
      "f9 = - 46.8403*x66 + 0.9949*f8 + 12.7963\n",
      "f10 = 226.3274*x41 + 0.9963*f9 + 2.0671\n",
      "f11 = - 97.1623*x36 + 0.9953*f10 + 10.1375\n",
      "f12 = 2.1278*x57 + 1.0002*f11 - 0.9435\n",
      "f13 = - 6.95101e-14*x57 + 1*f12 + 2.25958e-13\n",
      "f14 = - 8.8848*x25 + 1.0001*f13 + 0.1538\n",
      "f15 = - 3.8323e-14*x25 + 1*f14 - 9.69217e-14\n",
      "f16 = - 3.39012e-14*x25 + 1*f15 + 6.56872e-14\n",
      "y = - 6.48544e-14*x25 + 1*f16 - 1.28981e-13\n",
      "CPU times: total: 4.83 s\n",
      "Wall time: 4.17 s\n"
     ]
    }
   ],
   "source": [
    "%%time\n",
    "ria = gm.Ria()\n",
    "ria.fit(splited_data.x_train, splited_data.y_train, gm.Criterion(gm.CriterionType.sym_regularity, gm.Solver.accurate), 5, gm.PolynomialType.linear, test_size, 0, 0, 3, -2, 1, 0);\n",
    "print(ria.get_best_polynomial())\n",
    "y_pred_ria = ria.predict(splited_data.x_test)"
   ]
  },
  {
   "cell_type": "code",
   "execution_count": 72,
   "id": "cb5aba56",
   "metadata": {},
   "outputs": [
    {
     "name": "stdout",
     "output_type": "stream",
     "text": [
      "R^2: 0.6943796717662136\n",
      "MSE: 136639.6367548264\n",
      "MAE: 262.29455028976776\n"
     ]
    }
   ],
   "source": [
    "print_metrics(splited_data.y_test, y_pred_ria)"
   ]
  },
  {
   "cell_type": "code",
   "execution_count": null,
   "id": "dd6e726f",
   "metadata": {},
   "outputs": [],
   "source": [
    "%%time\n",
    "y_pred_lr_combi = regression_combi(data, lags, validate_size, test_size)"
   ]
  },
  {
   "cell_type": "code",
   "execution_count": null,
   "id": "180a9d03",
   "metadata": {},
   "outputs": [],
   "source": [
    "%time\n",
    "y_pred_lr = regression(data, lags, validate_size)"
   ]
  },
  {
   "cell_type": "code",
   "execution_count": null,
   "id": "4caa4cda",
   "metadata": {},
   "outputs": [],
   "source": [
    "#np.savetxt(\"Sber.csv\", np.asarray(data.values), delimiter=\",\")"
   ]
  },
  {
   "cell_type": "code",
   "execution_count": null,
   "id": "4cad5eee",
   "metadata": {},
   "outputs": [],
   "source": [
    "n = 20\n",
    "plt.figure(figsize=(17, 6))\n",
    "sns.lineplot(x=np.arange(n), y=splited_data.y_test[:n], label='original');\n",
    "sns.lineplot(x=np.arange(n), y=y_pred_combi[:n], label='combi');\n",
    "sns.lineplot(x=np.arange(n), y=y_pred_multi[:n], label='multi');\n",
    "sns.lineplot(x=np.arange(n), y=y_pred_mia[:n], label='mia');\n",
    "sns.lineplot(x=np.arange(n), y=y_pred_ria[:n], label='ria');\n",
    "#sns.lineplot(x=np.arange(n), y=y_pred_lr_combi[:n], label='regr_combi');\n",
    "#sns.lineplot(x=np.arange(n), y=y_pred_lr[:n], label='regr');"
   ]
  },
  {
   "cell_type": "code",
   "execution_count": null,
   "id": "c2b91a44",
   "metadata": {},
   "outputs": [],
   "source": [
    "def stat(y_real, y_pred):\n",
    "    y_real_diff = np.diff(y_real)\n",
    "    y_pred_diff = np.diff(y_pred)\n",
    "    print(\"right:\", ((y_real_diff * y_pred_diff > 0)).sum())\n",
    "    print(\"wrong:\", ((y_real_diff * y_pred_diff < 0)).sum())\n",
    "    print(\"zero:\", ((y_real_diff * y_pred_diff == 0)).sum())"
   ]
  },
  {
   "cell_type": "code",
   "execution_count": null,
   "id": "ef14a7fe",
   "metadata": {},
   "outputs": [],
   "source": [
    "print(\"COMBI\")\n",
    "stat(splited_data.y_test, y_pred_combi)\n",
    "print(\"\\nMULTI\")\n",
    "stat(splited_data.y_test, y_pred_multi)\n",
    "print(\"\\nMIA\")\n",
    "stat(splited_data.y_test, y_pred_mia)\n",
    "print(\"\\nRIA\")\n",
    "stat(splited_data.y_test, y_pred_ria)"
   ]
  }
 ],
 "metadata": {
  "kernelspec": {
   "display_name": "Python 3 (ipykernel)",
   "language": "python",
   "name": "python3"
  },
  "language_info": {
   "codemirror_mode": {
    "name": "ipython",
    "version": 3
   },
   "file_extension": ".py",
   "mimetype": "text/x-python",
   "name": "python",
   "nbconvert_exporter": "python",
   "pygments_lexer": "ipython3",
   "version": "3.8.6"
  },
  "vscode": {
   "interpreter": {
    "hash": "117e2c7f3285f5d2f137d5e72113d05e6f04cb1a18347662a835ce34a0a2b260"
   }
  }
 },
 "nbformat": 4,
 "nbformat_minor": 5
}
