{
 "cells": [
  {
   "cell_type": "code",
   "execution_count": 2,
   "id": "f2612238",
   "metadata": {},
   "outputs": [],
   "source": [
    "import numpy as np\n",
    "from sklearn.linear_model import LinearRegression\n",
    "from sklearn.metrics import mean_squared_error\n",
    "from sklearn.model_selection import train_test_split\n",
    "from itertools import combinations"
   ]
  },
  {
   "cell_type": "code",
   "execution_count": 26,
   "id": "0bbc06a3",
   "metadata": {},
   "outputs": [],
   "source": [
    "def regression(x, lags, validate_size, test_size):\n",
    "    print(\"x:\", x)\n",
    "    x_data = list()\n",
    "    y_data = list()\n",
    "    for i in range(len(x) - lags):\n",
    "        x_data.append(x[i:i+lags])\n",
    "        y_data.append(x[i+lags])\n",
    "    x_train, x_val, y_train, y_val = train_test_split(x_data, y_data, test_size=validate_size, shuffle=False)\n",
    "    x_train = np.array(x_train)\n",
    "    x_val = np.array(x_val)\n",
    "    print(\"x_train:\\n\", x_train)\n",
    "    print(\"y_train:\\n\", y_train)\n",
    "    print(\"x_val:\\n\", x_val)\n",
    "    print(\"y_val:\\n\", y_val)\n",
    "    x_train, x_test, y_train, y_test = train_test_split(x_train, y_train, test_size=test_size, shuffle=False)\n",
    "    x_train = np.array(x_train)\n",
    "    x_test = np.array(x_test)\n",
    "    lr = LinearRegression()\n",
    "    lr.fit(x_train, y_train)\n",
    "    coeffs = list(lr.coef_)\n",
    "    coeffs.append(lr.intercept_)\n",
    "    coeffs = [round(coeff, 6) for coeff in coeffs]\n",
    "    y_pred = lr.predict(x_val)\n",
    "    error = round(mean_squared_error(y_pred, y_val), 6)\n",
    "    print(\"best_coeffs:\\n\", coeffs)\n",
    "    print(\"y_pred:\\n\", y_pred)"
   ]
  },
  {
   "cell_type": "code",
   "execution_count": 19,
   "id": "174d53ca",
   "metadata": {},
   "outputs": [],
   "source": [
    "def regression_combi(x, lags, validate_size, test_size):\n",
    "    print(\"x:\", x)\n",
    "    x_data = list()\n",
    "    y_data = list()\n",
    "    for i in range(len(x) - lags):\n",
    "        x_data.append(x[i:i+lags])\n",
    "        y_data.append(x[i+lags])\n",
    "    x_train, x_val, y_train, y_val = train_test_split(x_data, y_data, test_size=validate_size, shuffle=False)\n",
    "    x_train = np.array(x_train)\n",
    "    x_val = np.array(x_val)\n",
    "    print(\"x_train:\\n\", x_train)\n",
    "    print(\"y_train:\\n\", y_train)\n",
    "    print(\"x_val:\\n\", x_val)\n",
    "    print(\"y_val:\\n\", y_val)\n",
    "    x_train, x_test, y_train, y_test = train_test_split(x_train, y_train, test_size=test_size, shuffle=False)\n",
    "    x_train = np.array(x_train)\n",
    "    x_test = np.array(x_test)\n",
    "    lr = LinearRegression()\n",
    "    last_error = 100000000000000\n",
    "    best_coeffs = []\n",
    "    best_polynom = []\n",
    "    for level in range(1, x_train.shape[1] + 1):\n",
    "        errors = []\n",
    "        for comb in combinations(range(x_train.shape[1]), level):\n",
    "            lr.fit(x_train[:, comb], y_train)\n",
    "            coeffs = list(lr.coef_)\n",
    "            coeffs.append(lr.intercept_)\n",
    "            coeffs = [round(coeff, 6) for coeff in coeffs]\n",
    "            y_pred = lr.predict(x_test[:, comb])\n",
    "            error = round(mean_squared_error(y_pred, y_test), 6)\n",
    "            errors.append((error, coeffs, comb))\n",
    "        errors.sort()\n",
    "        #print(errors[0])\n",
    "        if last_error > errors[0][0]:\n",
    "            last_error = errors[0][0]\n",
    "            best_coeffs = errors[0][1]\n",
    "            best_polynom = errors[0][2]\n",
    "        else:\n",
    "            break\n",
    "    print(\"best_polynom:\\n\", best_polynom)\n",
    "    print(\"best_coeffs:\\n\", best_coeffs)\n",
    "    y_pred = lr.fit(x_train[:, best_polynom], y_train).predict(x_val[:, best_polynom])\n",
    "    print(\"y_pred:\\n\", y_pred)"
   ]
  },
  {
   "cell_type": "code",
   "execution_count": 29,
   "id": "15f097bf",
   "metadata": {},
   "outputs": [],
   "source": [
    "x = [1, 2, 3, 4, 5, 6, 7, 8, 9, 10]\n",
    "lags = 5\n",
    "validate_size = 0.33\n",
    "test_size = 0.33"
   ]
  },
  {
   "cell_type": "code",
   "execution_count": 28,
   "id": "3969a8fb",
   "metadata": {},
   "outputs": [
    {
     "name": "stdout",
     "output_type": "stream",
     "text": [
      "x: [1, 2, 3, 4, 5, 6, 7, 8, 9, 10]\n",
      "x_train:\n",
      " [[1 2 3 4 5]\n",
      " [2 3 4 5 6]\n",
      " [3 4 5 6 7]]\n",
      "y_train:\n",
      " [6, 7, 8]\n",
      "x_val:\n",
      " [[4 5 6 7 8]\n",
      " [5 6 7 8 9]]\n",
      "y_val:\n",
      " [9, 10]\n",
      "best_coeffs:\n",
      " [0.2, 0.2, 0.2, 0.2, 0.2, 3.0]\n",
      "y_pred:\n",
      " [ 9. 10.]\n"
     ]
    }
   ],
   "source": [
    "regression(x, lags, validate_size, test_size)"
   ]
  },
  {
   "cell_type": "code",
   "execution_count": 31,
   "id": "a42e1c3c",
   "metadata": {},
   "outputs": [
    {
     "name": "stdout",
     "output_type": "stream",
     "text": [
      "x: [1, 2, 3, 4, 5, 6, 7, 8, 9, 10]\n",
      "x_train:\n",
      " [[1 2 3 4 5]\n",
      " [2 3 4 5 6]\n",
      " [3 4 5 6 7]]\n",
      "y_train:\n",
      " [6, 7, 8]\n",
      "x_val:\n",
      " [[4 5 6 7 8]\n",
      " [5 6 7 8 9]]\n",
      "y_val:\n",
      " [9, 10]\n",
      "best_polynom:\n",
      " (4,)\n",
      "best_coeffs:\n",
      " [1.0, 1.0]\n",
      "y_pred:\n",
      " [ 9. 10.]\n"
     ]
    }
   ],
   "source": [
    "regression_combi(x, lags, validate_size, test_size)"
   ]
  }
 ],
 "metadata": {
  "kernelspec": {
   "display_name": "Python 3 (ipykernel)",
   "language": "python",
   "name": "python3"
  },
  "language_info": {
   "codemirror_mode": {
    "name": "ipython",
    "version": 3
   },
   "file_extension": ".py",
   "mimetype": "text/x-python",
   "name": "python",
   "nbconvert_exporter": "python",
   "pygments_lexer": "ipython3",
   "version": "3.8.6"
  }
 },
 "nbformat": 4,
 "nbformat_minor": 5
}
