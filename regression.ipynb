{
 "cells": [
  {
   "cell_type": "code",
   "execution_count": 1,
   "id": "f2612238",
   "metadata": {},
   "outputs": [],
   "source": [
    "import numpy as np\n",
    "import pandas as pd\n",
    "from sklearn.linear_model import LinearRegression\n",
    "from sklearn.metrics import mean_squared_error\n",
    "from sklearn.model_selection import train_test_split\n",
    "from itertools import combinations\n",
    "import sys\n",
    "import matplotlib.pyplot as plt\n",
    "import seaborn as sns"
   ]
  },
  {
   "cell_type": "code",
   "execution_count": 3,
   "id": "7758aea1",
   "metadata": {},
   "outputs": [
    {
     "name": "stdout",
     "output_type": "stream",
     "text": [
      "['C:\\\\Users\\\\Mi\\\\Documents\\\\Diploma\\\\GMDH', 'c:\\\\users\\\\mi\\\\appdata\\\\local\\\\programs\\\\python\\\\python38\\\\python38.zip', 'c:\\\\users\\\\mi\\\\appdata\\\\local\\\\programs\\\\python\\\\python38\\\\DLLs', 'c:\\\\users\\\\mi\\\\appdata\\\\local\\\\programs\\\\python\\\\python38\\\\lib', 'c:\\\\users\\\\mi\\\\appdata\\\\local\\\\programs\\\\python\\\\python38', '', 'c:\\\\users\\\\mi\\\\appdata\\\\local\\\\programs\\\\python\\\\python38\\\\lib\\\\site-packages', 'c:\\\\users\\\\mi\\\\appdata\\\\local\\\\programs\\\\python\\\\python38\\\\lib\\\\site-packages\\\\win32', 'c:\\\\users\\\\mi\\\\appdata\\\\local\\\\programs\\\\python\\\\python38\\\\lib\\\\site-packages\\\\win32\\\\lib', 'c:\\\\users\\\\mi\\\\appdata\\\\local\\\\programs\\\\python\\\\python38\\\\lib\\\\site-packages\\\\Pythonwin']\n"
     ]
    }
   ],
   "source": [
    "print(sys.path)"
   ]
  },
  {
   "cell_type": "code",
   "execution_count": 4,
   "id": "16699292",
   "metadata": {},
   "outputs": [],
   "source": [
    "sys.path.insert(1, \"C:/Users/Mi/Documents/Diploma/GMDH/build/Release/gmdhpy.cp38-win_amd64.pyd\")"
   ]
  },
  {
   "cell_type": "code",
   "execution_count": 2,
   "id": "c6970d89",
   "metadata": {},
   "outputs": [],
   "source": [
    "import build.Release.gmdhpy as gm"
   ]
  },
  {
   "cell_type": "code",
   "execution_count": 3,
   "id": "8c59118c",
   "metadata": {},
   "outputs": [
    {
     "data": {
      "text/plain": [
       "['COMBI',\n",
       " 'Criterion',\n",
       " 'GMDH',\n",
       " 'RegularityCriterion',\n",
       " 'RegularityCriterionTS',\n",
       " '__doc__',\n",
       " '__file__',\n",
       " '__loader__',\n",
       " '__name__',\n",
       " '__package__',\n",
       " '__spec__',\n",
       " 'convertToTimeSeries',\n",
       " 'splitData',\n",
       " 'splitTsData',\n",
       " 'splitted_data']"
      ]
     },
     "execution_count": 3,
     "metadata": {},
     "output_type": "execute_result"
    }
   ],
   "source": [
    "dir(gm)"
   ]
  },
  {
   "cell_type": "code",
   "execution_count": 44,
   "id": "0bbc06a3",
   "metadata": {},
   "outputs": [],
   "source": [
    "def regression(x, lags, validate_size, test_size):\n",
    "    print(\"x:\", x)\n",
    "    x_data = list()\n",
    "    y_data = list()\n",
    "    for i in range(len(x) - lags):\n",
    "        x_data.append(x[i:i+lags])\n",
    "        y_data.append(x[i+lags])\n",
    "    x_train, x_val, y_train, y_val = train_test_split(x_data, y_data, test_size=validate_size, shuffle=False)\n",
    "    x_train = np.array(x_train)\n",
    "    x_val = np.array(x_val)\n",
    "    #print(\"x_train:\\n\", x_train)\n",
    "    #print(\"y_train:\\n\", y_train)\n",
    "    #print(\"x_val:\\n\", x_val)\n",
    "    #print(\"y_val:\\n\", y_val)\n",
    "    x_train, x_test, y_train, y_test = train_test_split(x_train, y_train, test_size=test_size, shuffle=False)\n",
    "    x_train = np.array(x_train)\n",
    "    x_test = np.array(x_test)\n",
    "    lr = LinearRegression()\n",
    "    lr.fit(x_train, y_train)\n",
    "    coeffs = list(lr.coef_)\n",
    "    coeffs.append(lr.intercept_)\n",
    "    coeffs = [round(coeff, 6) for coeff in coeffs]\n",
    "    y_pred = lr.predict(x_val)\n",
    "    error = round(mean_squared_error(y_pred, y_val), 6)\n",
    "    print(\"best_coeffs:\\n\", coeffs)\n",
    "    return y_pred\n",
    "    #print(\"y_pred:\\n\", y_pred)"
   ]
  },
  {
   "cell_type": "code",
   "execution_count": 64,
   "id": "87822e64",
   "metadata": {},
   "outputs": [
    {
     "data": {
      "text/plain": [
       "[[1, 2], [1, 3], [1, 4], [2, 3], [2, 4], [3, 4]]"
      ]
     },
     "execution_count": 64,
     "metadata": {},
     "output_type": "execute_result"
    }
   ],
   "source": [
    "[list(i) for i in combinations([1, 2, 3, 4], 2)]"
   ]
  },
  {
   "cell_type": "code",
   "execution_count": 3,
   "id": "174d53ca",
   "metadata": {},
   "outputs": [],
   "source": [
    "def regression_combi(x, lags, validate_size, test_size):\n",
    "    #print(\"x:\", x)\n",
    "    x_data = list()\n",
    "    y_data = list()\n",
    "    for i in range(len(x) - lags):\n",
    "        x_data.append(list(x.values[i:i+lags]))\n",
    "        y_data.append(x.values[i+lags])\n",
    "    x_train, x_val, y_train, y_val = train_test_split(x_data, y_data, test_size=validate_size, shuffle=False)\n",
    "    x_train = np.array(x_train)\n",
    "    x_val = np.array(x_val)\n",
    "    #print(\"x_train:\\n\", x_train)\n",
    "    #print(\"y_train:\\n\", y_train)\n",
    "    #print(\"x_val:\\n\", x_val)\n",
    "    #print(\"y_val:\\n\", y_val)\n",
    "    x_train, x_test, y_train, y_test = train_test_split(x_train, y_train, test_size=test_size, shuffle=False)\n",
    "    x_train = np.array(x_train)\n",
    "    x_test = np.array(x_test)\n",
    "    lr = LinearRegression(n_jobs=-1)\n",
    "    last_error = 100000000000000\n",
    "    best_coeffs = []\n",
    "    best_polynom = []\n",
    "    for level in range(1, x_train.shape[1] + 1):\n",
    "        errors = []\n",
    "        for comb in combinations(range(x_train.shape[1]), level):\n",
    "            lr.fit(x_train[:, comb], y_train)\n",
    "            coeffs = list(lr.coef_)\n",
    "            coeffs.append(lr.intercept_)\n",
    "            coeffs = [round(coeff, 6) for coeff in coeffs]\n",
    "            y_pred = lr.predict(x_test[:, comb])\n",
    "            error = round(mean_squared_error(y_pred, y_test), 6)\n",
    "            comb = list(comb)\n",
    "            comb.append(lags)\n",
    "            errors.append((error, coeffs, comb))\n",
    "        errors.sort()\n",
    "        #print(errors[0])\n",
    "        if last_error > errors[0][0]:\n",
    "            last_error = errors[0][0]\n",
    "            best_coeffs = errors[0][1]\n",
    "            best_polynom = errors[0][2]\n",
    "        else:\n",
    "            break\n",
    "    best_polynom_str = \"y =\"\n",
    "    for i in range(len(best_polynom)):\n",
    "        if best_coeffs[i] > 0:\n",
    "            if i > 0:\n",
    "                best_polynom_str += \" + \"\n",
    "            else:\n",
    "                best_polynom_str += \" \"\n",
    "        else:\n",
    "            best_polynom_str += \" - \"\n",
    "        best_polynom_str += str(abs(best_coeffs[i]))\n",
    "        if i != len(best_coeffs) - 1:\n",
    "            best_polynom_str += \"*x\" + str(best_polynom[i] + 1)\n",
    "    print(best_polynom_str)\n",
    "    #print(\"best_polynom:\\n\", best_polynom)\n",
    "    #print(\"best_coeffs:\\n\", best_coeffs)\n",
    "    y_pred = lr.fit(x_train[:, best_polynom[:-1]], y_train).predict(x_val[:, best_polynom[:-1]])\n",
    "    #print(\"y_pred:\\n\", y_pred)\n",
    "    return y_pred"
   ]
  },
  {
   "cell_type": "code",
   "execution_count": 22,
   "id": "15f097bf",
   "metadata": {},
   "outputs": [],
   "source": [
    "x = [8, 5, 323, 5, 8, 21, 2, 5, 98, 11]\n",
    "x2 = [1, 2, 3, 4, 5, 6, 7, 8, 9, 10]\n",
    "lags = 5\n",
    "validate_size = 0.33\n",
    "test_size = 0.33"
   ]
  },
  {
   "cell_type": "code",
   "execution_count": 23,
   "id": "a42e1c3c",
   "metadata": {},
   "outputs": [
    {
     "name": "stdout",
     "output_type": "stream",
     "text": [
      "x: [1, 2, 3, 4, 5, 6, 7, 8, 9, 10]\n",
      "x_train:\n",
      " [[1 2 3 4 5]\n",
      " [2 3 4 5 6]\n",
      " [3 4 5 6 7]]\n",
      "y_train:\n",
      " [6, 7, 8]\n",
      "x_val:\n",
      " [[4 5 6 7 8]\n",
      " [5 6 7 8 9]]\n",
      "y_val:\n",
      " [9, 10]\n",
      "best_polynom:\n",
      " (4,)\n",
      "best_coeffs:\n",
      " [1.0, 1.0]\n",
      "y_pred:\n",
      " [ 9. 10.]\n"
     ]
    }
   ],
   "source": [
    "regression_combi(x2, lags, validate_size, test_size)"
   ]
  },
  {
   "cell_type": "code",
   "execution_count": 28,
   "id": "39225dc3",
   "metadata": {},
   "outputs": [
    {
     "name": "stdout",
     "output_type": "stream",
     "text": [
      "y = 1.000000*x2 + 4.000000\n",
      "[ 9. 10.]\n"
     ]
    }
   ],
   "source": [
    "mat, vec = gm.convertToTimeSeries(x2, lags)\n",
    "splited_data = gm.splitTsData(mat, vec, validate_size)\n",
    "\n",
    "combi = gm.COMBI()\n",
    "combi.fit(splited_data.x_train, splited_data.y_train, gm.RegularityCriterionTS(test_size))\n",
    "\n",
    "print(combi.getBestPolymon())\n",
    "print(combi.predict(splited_data.x_test))"
   ]
  },
  {
   "cell_type": "code",
   "execution_count": 4,
   "id": "acf24b05",
   "metadata": {},
   "outputs": [
    {
     "name": "stdout",
     "output_type": "stream",
     "text": [
      "CPU times: total: 172 ms\n",
      "Wall time: 166 ms\n"
     ]
    }
   ],
   "source": [
    "%%time\n",
    "data = pd.read_csv(\"Sberbank.csv\")['close'][50000:]\n",
    "lags = 10\n",
    "test_size = 0.33\n",
    "validate_size = 0.2"
   ]
  },
  {
   "cell_type": "code",
   "execution_count": 5,
   "id": "1c361a75",
   "metadata": {},
   "outputs": [
    {
     "name": "stdout",
     "output_type": "stream",
     "text": [
      "CPU times: total: 15.6 ms\n",
      "Wall time: 13 ms\n"
     ]
    }
   ],
   "source": [
    "%%time\n",
    "mat, vec = gm.convertToTimeSeries(data, lags)\n",
    "splited_data = gm.splitTsData(mat, vec, validate_size)\n",
    "\n",
    "combi = gm.COMBI()"
   ]
  },
  {
   "cell_type": "code",
   "execution_count": 6,
   "id": "3c133e4f",
   "metadata": {},
   "outputs": [
    {
     "name": "stdout",
     "output_type": "stream",
     "text": [
      "CPU times: total: 5.3 s\n",
      "Wall time: 6.71 s\n"
     ]
    },
    {
     "data": {
      "text/plain": [
       "<build.Release.gmdhpy.COMBI at 0x1ce17814db0>"
      ]
     },
     "execution_count": 6,
     "metadata": {},
     "output_type": "execute_result"
    }
   ],
   "source": [
    "%%time\n",
    "combi.fit(splited_data.x_train, splited_data.y_train, gm.RegularityCriterionTS(test_size), 1, 1);"
   ]
  },
  {
   "cell_type": "code",
   "execution_count": 39,
   "id": "6c061315",
   "metadata": {},
   "outputs": [
    {
     "name": "stdout",
     "output_type": "stream",
     "text": [
      "y = - 0.015762*x6 + 0.011931*x7 + 0.022787*x9 + 0.980976*x10 + 0.014980\n",
      "CPU times: total: 0 ns\n",
      "Wall time: 0 ns\n"
     ]
    }
   ],
   "source": [
    "%%time\n",
    "print(combi.getBestPolymon())"
   ]
  },
  {
   "cell_type": "code",
   "execution_count": 26,
   "id": "dd6e726f",
   "metadata": {},
   "outputs": [
    {
     "name": "stdout",
     "output_type": "stream",
     "text": [
      "y = - 0.015762*x6 + 0.011931*x7 + 0.022788*x9 + 0.980975*x10 + 0.014977\n",
      "CPU times: total: 14.1 s\n",
      "Wall time: 14.2 s\n"
     ]
    }
   ],
   "source": [
    "%%time\n",
    "y_pred_lr = regression_combi(data, lags, validate_size, test_size)"
   ]
  },
  {
   "cell_type": "code",
   "execution_count": 27,
   "id": "d30d0ff1",
   "metadata": {},
   "outputs": [
    {
     "data": {
      "text/plain": [
       "50000    75.80\n",
       "50001    75.78\n",
       "50002    75.86\n",
       "50003    75.97\n",
       "50004    76.50\n",
       "50005    76.87\n",
       "50006    76.88\n",
       "50007    76.79\n",
       "50008    76.84\n",
       "50009    76.80\n",
       "Name: close, dtype: float64"
      ]
     },
     "execution_count": 27,
     "metadata": {},
     "output_type": "execute_result"
    }
   ],
   "source": [
    "data[:10]"
   ]
  },
  {
   "cell_type": "code",
   "execution_count": 131,
   "id": "4caa4cda",
   "metadata": {},
   "outputs": [],
   "source": [
    "np.savetxt(\"Sber.csv\", np.asarray(data.values), delimiter=\",\")"
   ]
  },
  {
   "cell_type": "code",
   "execution_count": 41,
   "id": "4cad5eee",
   "metadata": {},
   "outputs": [
    {
     "data": {
      "image/png": "[encoded data removed]",
      "text/plain": [
       "<Figure size 1224x432 with 1 Axes>"
      ]
     },
     "metadata": {
      "needs_background": "light"
     },
     "output_type": "display_data"
    }
   ],
   "source": [
    "n = 30\n",
    "plt.figure(figsize=(17, 6))\n",
    "sns.lineplot(x=np.arange(n), y=combi.predict(splited_data.x_test)[:n], label='gmdh');\n",
    "sns.lineplot(x=np.arange(n), y=splited_data.y_test[:n], label='original');\n",
    "sns.lineplot(x=np.arange(n), y=y_pred_lr[:n], label='regression');"
   ]
  }
 ],
 "metadata": {
  "kernelspec": {
   "display_name": "Python 3 (ipykernel)",
   "language": "python",
   "name": "python3"
  },
  "language_info": {
   "codemirror_mode": {
    "name": "ipython",
    "version": 3
   },
   "file_extension": ".py",
   "mimetype": "text/x-python",
   "name": "python",
   "nbconvert_exporter": "python",
   "pygments_lexer": "ipython3",
   "version": "3.8.6"
  },
  "vscode": {
   "interpreter": {
    "hash": "117e2c7f3285f5d2f137d5e72113d05e6f04cb1a18347662a835ce34a0a2b260"
   }
  }
 },
 "nbformat": 4,
 "nbformat_minor": 5
}
