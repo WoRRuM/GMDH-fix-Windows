{
 "cells": [
  {
   "cell_type": "code",
   "execution_count": 16,
   "id": "f2612238",
   "metadata": {},
   "outputs": [],
   "source": [
    "import numpy as np\n",
    "from sklearn.linear_model import LinearRegression\n",
    "from sklearn.metrics import mean_squared_error\n",
    "from sklearn.model_selection import train_test_split\n",
    "from itertools import combinations\n",
    "import sys"
   ]
  },
  {
   "cell_type": "code",
   "execution_count": 17,
   "id": "7758aea1",
   "metadata": {},
   "outputs": [
    {
     "name": "stdout",
     "output_type": "stream",
     "text": [
      "['/home/mikhail-xnor/Projects/GMDH', '/home/mikhail-xnor/Projects/GMDH/build/gmdhpy.cpython-310-x86_64-linux-gnu.so', '/home/mikhail-xnor/.vscode/extensions/ms-toolsai.jupyter-2022.7.1002181843/pythonFiles', '/home/mikhail-xnor/.vscode/extensions/ms-toolsai.jupyter-2022.7.1002181843/pythonFiles/lib/python', '/usr/lib/python310.zip', '/usr/lib/python3.10', '/usr/lib/python3.10/lib-dynload', '', '/home/mikhail-xnor/Projects/GMDH/gmdhpy/lib/python3.10/site-packages']\n"
     ]
    }
   ],
   "source": [
    "print(sys.path)"
   ]
  },
  {
   "cell_type": "code",
   "execution_count": 18,
   "id": "16699292",
   "metadata": {},
   "outputs": [],
   "source": [
    "sys.path.insert(1, \"/home/mikhail-xnor/Projects/GMDH/build/gmdhpy.cpython-310-x86_64-linux-gnu.so\")"
   ]
  },
  {
   "cell_type": "code",
   "execution_count": 19,
   "id": "c6970d89",
   "metadata": {},
   "outputs": [],
   "source": [
    "import build.gmdhpy as gm"
   ]
  },
  {
   "cell_type": "code",
   "execution_count": 20,
   "id": "8c59118c",
   "metadata": {},
   "outputs": [
    {
     "data": {
      "text/plain": [
       "['COMBI',\n",
       " 'Criterion',\n",
       " 'GMDH',\n",
       " 'RegularityCriterion',\n",
       " 'RegularityCriterionTS',\n",
       " '__doc__',\n",
       " '__file__',\n",
       " '__loader__',\n",
       " '__name__',\n",
       " '__package__',\n",
       " '__spec__',\n",
       " 'convertToTimeSeries',\n",
       " 'splitData',\n",
       " 'splitTsData',\n",
       " 'splitted_data']"
      ]
     },
     "execution_count": 20,
     "metadata": {},
     "output_type": "execute_result"
    }
   ],
   "source": [
    "dir(gm)"
   ]
  },
  {
   "cell_type": "code",
   "execution_count": 21,
   "id": "0bbc06a3",
   "metadata": {},
   "outputs": [],
   "source": [
    "def regression(x, lags, validate_size, test_size):\n",
    "    print(\"x:\", x)\n",
    "    x_data = list()\n",
    "    y_data = list()\n",
    "    for i in range(len(x) - lags):\n",
    "        x_data.append(x[i:i+lags])\n",
    "        y_data.append(x[i+lags])\n",
    "    x_train, x_val, y_train, y_val = train_test_split(x_data, y_data, test_size=validate_size, shuffle=False)\n",
    "    x_train = np.array(x_train)\n",
    "    x_val = np.array(x_val)\n",
    "    print(\"x_train:\\n\", x_train)\n",
    "    print(\"y_train:\\n\", y_train)\n",
    "    print(\"x_val:\\n\", x_val)\n",
    "    print(\"y_val:\\n\", y_val)\n",
    "    x_train, x_test, y_train, y_test = train_test_split(x_train, y_train, test_size=test_size, shuffle=False)\n",
    "    x_train = np.array(x_train)\n",
    "    x_test = np.array(x_test)\n",
    "    lr = LinearRegression()\n",
    "    lr.fit(x_train, y_train)\n",
    "    coeffs = list(lr.coef_)\n",
    "    coeffs.append(lr.intercept_)\n",
    "    coeffs = [round(coeff, 6) for coeff in coeffs]\n",
    "    y_pred = lr.predict(x_val)\n",
    "    error = round(mean_squared_error(y_pred, y_val), 6)\n",
    "    print(\"best_coeffs:\\n\", coeffs)\n",
    "    print(\"y_pred:\\n\", y_pred)"
   ]
  },
  {
   "cell_type": "code",
   "execution_count": 22,
   "id": "174d53ca",
   "metadata": {},
   "outputs": [],
   "source": [
    "def regression_combi(x, lags, validate_size, test_size):\n",
    "    print(\"x:\", x)\n",
    "    x_data = list()\n",
    "    y_data = list()\n",
    "    for i in range(len(x) - lags):\n",
    "        x_data.append(x[i:i+lags])\n",
    "        y_data.append(x[i+lags])\n",
    "    x_train, x_val, y_train, y_val = train_test_split(x_data, y_data, test_size=validate_size, shuffle=False)\n",
    "    x_train = np.array(x_train)\n",
    "    x_val = np.array(x_val)\n",
    "    print(\"x_train:\\n\", x_train)\n",
    "    print(\"y_train:\\n\", y_train)\n",
    "    print(\"x_val:\\n\", x_val)\n",
    "    print(\"y_val:\\n\", y_val)\n",
    "    x_train, x_test, y_train, y_test = train_test_split(x_train, y_train, test_size=test_size, shuffle=False)\n",
    "    x_train = np.array(x_train)\n",
    "    x_test = np.array(x_test)\n",
    "    lr = LinearRegression()\n",
    "    last_error = 100000000000000\n",
    "    best_coeffs = []\n",
    "    best_polynom = []\n",
    "    for level in range(1, x_train.shape[1] + 1):\n",
    "        errors = []\n",
    "        for comb in combinations(range(x_train.shape[1]), level):\n",
    "            lr.fit(x_train[:, comb], y_train)\n",
    "            coeffs = list(lr.coef_)\n",
    "            coeffs.append(lr.intercept_)\n",
    "            coeffs = [round(coeff, 6) for coeff in coeffs]\n",
    "            y_pred = lr.predict(x_test[:, comb])\n",
    "            error = round(mean_squared_error(y_pred, y_test), 6)\n",
    "            errors.append((error, coeffs, comb))\n",
    "        errors.sort()\n",
    "        #print(errors[0])\n",
    "        if last_error > errors[0][0]:\n",
    "            last_error = errors[0][0]\n",
    "            best_coeffs = errors[0][1]\n",
    "            best_polynom = errors[0][2]\n",
    "        else:\n",
    "            break\n",
    "    print(\"best_polynom:\\n\", best_polynom)\n",
    "    print(\"best_coeffs:\\n\", best_coeffs)\n",
    "    y_pred = lr.fit(x_train[:, best_polynom], y_train).predict(x_val[:, best_polynom])\n",
    "    print(\"y_pred:\\n\", y_pred)"
   ]
  },
  {
   "cell_type": "code",
   "execution_count": 23,
   "id": "15f097bf",
   "metadata": {},
   "outputs": [],
   "source": [
    "x = [8, 5, 323, 5, 8, 21, 2, 5, 98, 11]\n",
    "x2 = [1, 2, 3, 4, 5, 6, 7, 8, 9, 10]\n",
    "lags = 5\n",
    "validate_size = 0.33\n",
    "test_size = 0.33"
   ]
  },
  {
   "cell_type": "code",
   "execution_count": 24,
   "id": "3969a8fb",
   "metadata": {},
   "outputs": [
    {
     "name": "stdout",
     "output_type": "stream",
     "text": [
      "x: [8, 5, 323, 5, 8, 21, 2, 5, 98, 11]\n",
      "x_train:\n",
      " [[  8   5 323   5   8]\n",
      " [  5 323   5   8  21]\n",
      " [323   5   8  21   2]]\n",
      "y_train:\n",
      " [21, 2, 5]\n",
      "x_val:\n",
      " [[ 5  8 21  2  5]\n",
      " [ 8 21  2  5 98]]\n",
      "y_val:\n",
      " [98, 11]\n",
      "best_coeffs:\n",
      " [0.000282, -0.029847, 0.029847, -0.000282, -0.00122, 11.517692]\n",
      "y_pred:\n",
      " [11.90044212 10.8318769 ]\n"
     ]
    }
   ],
   "source": [
    "regression(x, lags, validate_size, test_size)"
   ]
  },
  {
   "cell_type": "code",
   "execution_count": 32,
   "id": "a42e1c3c",
   "metadata": {},
   "outputs": [
    {
     "name": "stdout",
     "output_type": "stream",
     "text": [
      "x: [1, 2, 3, 4, 5, 6, 7, 8, 9, 10]\n",
      "x_train:\n",
      " [[1 2 3 4 5]\n",
      " [2 3 4 5 6]\n",
      " [3 4 5 6 7]]\n",
      "y_train:\n",
      " [6, 7, 8]\n",
      "x_val:\n",
      " [[4 5 6 7 8]\n",
      " [5 6 7 8 9]]\n",
      "y_val:\n",
      " [9, 10]\n",
      "best_polynom:\n",
      " (4,)\n",
      "best_coeffs:\n",
      " [1.0, 1.0]\n",
      "y_pred:\n",
      " [ 9. 10.]\n"
     ]
    }
   ],
   "source": [
    "regression_combi(x2, lags, validate_size, test_size)"
   ]
  },
  {
   "cell_type": "code",
   "execution_count": 29,
   "id": "39225dc3",
   "metadata": {},
   "outputs": [
    {
     "name": "stdout",
     "output_type": "stream",
     "text": [
      "y = 1.000000*x2 + 4.000000\n"
     ]
    }
   ],
   "source": [
    "mat, vec = gm.convertToTimeSeries(x2, lags)\n",
    "splited_data = gm.splitTsData(mat, vec, validate_size)\n",
    "\n",
    "combi = gm.COMBI()\n",
    "combi.fit(splited_data.x_train, splited_data.y_train, gm.RegularityCriterionTS(test_size))\n",
    "\n",
    "print(combi.getBestPolymon())\n"
   ]
  },
  {
   "cell_type": "code",
   "execution_count": 30,
   "id": "84b5a948",
   "metadata": {},
   "outputs": [
    {
     "data": {
      "text/plain": [
       "array([ 9., 10.])"
      ]
     },
     "execution_count": 30,
     "metadata": {},
     "output_type": "execute_result"
    }
   ],
   "source": [
    "combi.predict(splited_data.x_test)"
   ]
  },
  {
   "cell_type": "code",
   "execution_count": 28,
   "id": "ebe5f2a0",
   "metadata": {},
   "outputs": [
    {
     "data": {
      "text/plain": [
       "array([98., 11.])"
      ]
     },
     "execution_count": 28,
     "metadata": {},
     "output_type": "execute_result"
    }
   ],
   "source": [
    "splited_data.y_test"
   ]
  }
 ],
 "metadata": {
  "kernelspec": {
   "display_name": "Python 3.10.4 ('gmdhpy': venv)",
   "language": "python",
   "name": "python3"
  },
  "language_info": {
   "codemirror_mode": {
    "name": "ipython",
    "version": 3
   },
   "file_extension": ".py",
   "mimetype": "text/x-python",
   "name": "python",
   "nbconvert_exporter": "python",
   "pygments_lexer": "ipython3",
   "version": "3.10.4"
  },
  "vscode": {
   "interpreter": {
    "hash": "117e2c7f3285f5d2f137d5e72113d05e6f04cb1a18347662a835ce34a0a2b260"
   }
  }
 },
 "nbformat": 4,
 "nbformat_minor": 5
}
